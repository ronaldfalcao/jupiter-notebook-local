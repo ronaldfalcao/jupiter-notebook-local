{
 "cells": [
  {
   "cell_type": "markdown",
   "metadata": {},
   "source": [
    "# Capítulo 05 - Instruções IF"
   ]
  },
  {
   "cell_type": "code",
   "execution_count": 1,
   "metadata": {},
   "outputs": [
    {
     "name": "stdout",
     "output_type": "stream",
     "text": [
      "Audi\n",
      "BMW\n",
      "Subaru\n",
      "Toyota\n"
     ]
    }
   ],
   "source": [
    "cars = ['audi', 'bmw', 'subaru', 'toyota']\n",
    "\n",
    "for car in cars:\n",
    "    if car == 'bmw':\n",
    "        print(car.upper())\n",
    "    else:\n",
    "        print(car.title())"
   ]
  },
  {
   "cell_type": "code",
   "execution_count": 2,
   "metadata": {},
   "outputs": [
    {
     "data": {
      "text/plain": [
       "True"
      ]
     },
     "execution_count": 2,
     "metadata": {},
     "output_type": "execute_result"
    }
   ],
   "source": [
    "car = 'bmw'\n",
    "car == 'bmw'"
   ]
  },
  {
   "cell_type": "code",
   "execution_count": 3,
   "metadata": {},
   "outputs": [
    {
     "data": {
      "text/plain": [
       "False"
      ]
     },
     "execution_count": 3,
     "metadata": {},
     "output_type": "execute_result"
    }
   ],
   "source": [
    "car = 'audi'\n",
    "car == 'bmw'"
   ]
  },
  {
   "cell_type": "code",
   "execution_count": 4,
   "metadata": {},
   "outputs": [
    {
     "data": {
      "text/plain": [
       "False"
      ]
     },
     "execution_count": 4,
     "metadata": {},
     "output_type": "execute_result"
    }
   ],
   "source": [
    "car = 'Audi'\n",
    "car == 'audi'"
   ]
  },
  {
   "cell_type": "code",
   "execution_count": 5,
   "metadata": {},
   "outputs": [
    {
     "data": {
      "text/plain": [
       "True"
      ]
     },
     "execution_count": 5,
     "metadata": {},
     "output_type": "execute_result"
    }
   ],
   "source": [
    "car = 'Audi'\n",
    "car.title() == 'Audi'"
   ]
  },
  {
   "cell_type": "code",
   "execution_count": 7,
   "metadata": {},
   "outputs": [
    {
     "name": "stdout",
     "output_type": "stream",
     "text": [
      "Hold the anchovies!\n"
     ]
    }
   ],
   "source": [
    "request_topping = 'mushrooms'\n",
    "\n",
    "if request_topping != 'anchovies':\n",
    "    print(\"Hold the anchovies!\")"
   ]
  },
  {
   "cell_type": "code",
   "execution_count": 8,
   "metadata": {},
   "outputs": [
    {
     "data": {
      "text/plain": [
       "True"
      ]
     },
     "execution_count": 8,
     "metadata": {},
     "output_type": "execute_result"
    }
   ],
   "source": [
    "age = 18\n",
    "age == 18"
   ]
  },
  {
   "cell_type": "code",
   "execution_count": 9,
   "metadata": {},
   "outputs": [
    {
     "name": "stdout",
     "output_type": "stream",
     "text": [
      "That is not correct answer. Please try again!\n"
     ]
    }
   ],
   "source": [
    "answer = 17\n",
    "\n",
    "if answer != 42:\n",
    "    print(\"That is not correct answer. Please try again!\")"
   ]
  },
  {
   "cell_type": "code",
   "execution_count": 10,
   "metadata": {},
   "outputs": [
    {
     "data": {
      "text/plain": [
       "True"
      ]
     },
     "execution_count": 10,
     "metadata": {},
     "output_type": "execute_result"
    }
   ],
   "source": [
    "age = 19\n",
    "age < 21"
   ]
  },
  {
   "cell_type": "code",
   "execution_count": 11,
   "metadata": {},
   "outputs": [
    {
     "data": {
      "text/plain": [
       "True"
      ]
     },
     "execution_count": 11,
     "metadata": {},
     "output_type": "execute_result"
    }
   ],
   "source": [
    "age <= 21"
   ]
  },
  {
   "cell_type": "code",
   "execution_count": 12,
   "metadata": {},
   "outputs": [
    {
     "data": {
      "text/plain": [
       "True"
      ]
     },
     "execution_count": 12,
     "metadata": {},
     "output_type": "execute_result"
    }
   ],
   "source": [
    "age < 21"
   ]
  },
  {
   "cell_type": "code",
   "execution_count": 13,
   "metadata": {},
   "outputs": [
    {
     "data": {
      "text/plain": [
       "True"
      ]
     },
     "execution_count": 13,
     "metadata": {},
     "output_type": "execute_result"
    }
   ],
   "source": [
    "age <= 21"
   ]
  },
  {
   "cell_type": "code",
   "execution_count": 14,
   "metadata": {
    "collapsed": true
   },
   "outputs": [],
   "source": [
    "age_0 = 22\n",
    "age_1 = 18"
   ]
  },
  {
   "cell_type": "code",
   "execution_count": 15,
   "metadata": {},
   "outputs": [
    {
     "data": {
      "text/plain": [
       "False"
      ]
     },
     "execution_count": 15,
     "metadata": {},
     "output_type": "execute_result"
    }
   ],
   "source": [
    "age_0 >= 21 and age_1 >= 21"
   ]
  },
  {
   "cell_type": "code",
   "execution_count": 16,
   "metadata": {},
   "outputs": [
    {
     "data": {
      "text/plain": [
       "True"
      ]
     },
     "execution_count": 16,
     "metadata": {},
     "output_type": "execute_result"
    }
   ],
   "source": [
    "age_1 = 22\n",
    "age_0 >= 21 and age_1 >= 21"
   ]
  },
  {
   "cell_type": "code",
   "execution_count": 17,
   "metadata": {},
   "outputs": [
    {
     "data": {
      "text/plain": [
       "True"
      ]
     },
     "execution_count": 17,
     "metadata": {},
     "output_type": "execute_result"
    }
   ],
   "source": [
    "age_0 = 22\n",
    "age_1 = 18\n",
    "age_0 >= 21 or age_1 >= 21"
   ]
  },
  {
   "cell_type": "code",
   "execution_count": 18,
   "metadata": {},
   "outputs": [
    {
     "data": {
      "text/plain": [
       "False"
      ]
     },
     "execution_count": 18,
     "metadata": {},
     "output_type": "execute_result"
    }
   ],
   "source": [
    "age_0 = 18\n",
    "age_0 >= 21 or age_1 >= 21"
   ]
  },
  {
   "cell_type": "code",
   "execution_count": 19,
   "metadata": {},
   "outputs": [
    {
     "data": {
      "text/plain": [
       "True"
      ]
     },
     "execution_count": 19,
     "metadata": {},
     "output_type": "execute_result"
    }
   ],
   "source": [
    "request_toppings = ['mushrooms', 'onions', 'pineapple']\n",
    "'mushrooms' in request_toppings"
   ]
  },
  {
   "cell_type": "code",
   "execution_count": 20,
   "metadata": {},
   "outputs": [
    {
     "data": {
      "text/plain": [
       "False"
      ]
     },
     "execution_count": 20,
     "metadata": {},
     "output_type": "execute_result"
    }
   ],
   "source": [
    "'peperoni' in request_toppings"
   ]
  },
  {
   "cell_type": "code",
   "execution_count": 21,
   "metadata": {},
   "outputs": [
    {
     "name": "stdout",
     "output_type": "stream",
     "text": [
      "Marie, you can post a response if you wish.\n"
     ]
    }
   ],
   "source": [
    "#banned_users.py\n",
    "banned_users = ['andrew', 'carolina', 'david']\n",
    "user = 'marie'\n",
    "\n",
    "if user not in banned_users:\n",
    "    print(user.title() + \", you can post a response if you wish.\")"
   ]
  },
  {
   "cell_type": "markdown",
   "metadata": {},
   "source": [
    "## Exercícios"
   ]
  },
  {
   "cell_type": "markdown",
   "metadata": {},
   "source": [
    "### Exercício 5.1"
   ]
  },
  {
   "cell_type": "code",
   "execution_count": 30,
   "metadata": {},
   "outputs": [
    {
     "name": "stdout",
     "output_type": "stream",
     "text": [
      "valueA é maior do que valueA?\n",
      "False\n",
      "valueA é maior ou igual valueA?\n",
      "True\n",
      "valueA é igual valueA?\n",
      "True\n",
      "valueA é diferente valueA?\n",
      "False\n",
      "valueA é igual valueB?\n",
      "True\n",
      "valueA é menor do que valueB?\n",
      "True\n",
      "valueA é menor ou igual valueB?\n",
      "True\n",
      "valueA é igual a valueB?\n",
      "False\n",
      "valueC é menor que valueA\n",
      "False\n",
      "valueC é menor que valueA\n",
      "False\n"
     ]
    }
   ],
   "source": [
    "valueA = 10\n",
    "valueB = 20\n",
    "valueC = 30\n",
    "\n",
    "print(\"valueA é maior do que valueA?\")\n",
    "print(valueA > valueA)\n",
    "\n",
    "print(\"valueA é maior ou igual valueA?\")\n",
    "print(valueA >= valueA)\n",
    "\n",
    "print(\"valueA é igual valueA?\")\n",
    "print(valueA == valueA)\n",
    "\n",
    "print(\"valueA é diferente valueA?\")\n",
    "print(valueA != valueA)\n",
    "\n",
    "print(\"valueA é igual valueB?\")\n",
    "print(valueA != valueB)\n",
    "\n",
    "print(\"valueA é menor do que valueB?\")\n",
    "print(valueA < valueB)\n",
    "\n",
    "print(\"valueA é menor ou igual valueB?\")\n",
    "print(valueA <= valueB)\n",
    "\n",
    "print(\"valueA é igual a valueB?\")\n",
    "print(valueA == valueB)\n",
    "\n",
    "print(\"valueC é menor que valueA\")\n",
    "print(valueC < valueA)\n",
    "\n",
    "print(\"valueC é menor que valueA\")\n",
    "print(valueC <= valueA)\n"
   ]
  },
  {
   "cell_type": "markdown",
   "metadata": {},
   "source": [
    "### Exercício 5.2"
   ]
  },
  {
   "cell_type": "code",
   "execution_count": 11,
   "metadata": {},
   "outputs": [
    {
     "name": "stdout",
     "output_type": "stream",
     "text": [
      "subaru É IGUAL Á audi\n",
      "False\n",
      "subaru É DIFERENTE DE audi\n",
      "True\n",
      "subaru É IGUAL Á subaru\n",
      "True\n",
      "subaru É IGUAL Á subaru\n",
      "False\n",
      "subaru É IGUAL Á Subaru\n",
      "False\n",
      "subaru É IGUAL Á Subaru (lower)\n",
      "True\n"
     ]
    }
   ],
   "source": [
    "#Definindo os nomes para os carros a serem comparados...\n",
    "carA = 'subaru'\n",
    "carB = 'audi'\n",
    "carC = 'Subaru'\n",
    "\n",
    "#Comparando dois carros diferentes por igualdade\n",
    "print(\"subaru É IGUAL Á audi\")\n",
    "print(carA == carB)\n",
    "\n",
    "#Comparando dois carros diferentes por desigualdade...\n",
    "print(\"subaru É DIFERENTE DE audi\")\n",
    "print(carA != carB)\n",
    "\n",
    "#Comparando o mesmo carro por igualdade\n",
    "print(\"subaru É IGUAL Á subaru\")\n",
    "print(carA == carA)\n",
    "\n",
    "#Comparando o mesmo carro por desigualdade\n",
    "print(\"subaru É IGUAL Á subaru\")\n",
    "print(carA != carA)\n",
    "\n",
    "#Comparando dois carros por igualdade, mas com diferença apenas na caixa da primeira letra do segundo carro...\n",
    "print(\"subaru É IGUAL Á Subaru\")\n",
    "print(carA == carC)\n",
    "\n",
    "#Comparando dois carros por igualdade, usando a função lower()\n",
    "print(\"subaru É IGUAL Á Subaru (lower)\")\n",
    "print(carA == carC.lower())"
   ]
  },
  {
   "cell_type": "code",
   "execution_count": 29,
   "metadata": {},
   "outputs": [
    {
     "name": "stdout",
     "output_type": "stream",
     "text": [
      "False\n",
      "True\n",
      "True\n",
      "False\n",
      "True\n",
      "False\n",
      "True\n",
      "False\n",
      "True\n",
      "['os infiltrados', 'os intocáveis', 'cinema paradiso']\n",
      "cinema paradiso está em filmes?\n",
      "True\n",
      "batman está em filmes?\n",
      "False\n",
      "os infiltrados NÃO está em filmes?\n",
      "False\n",
      "Não Está!\n"
     ]
    }
   ],
   "source": [
    "ladoA = 12\n",
    "ladoB = 25\n",
    "ladoC = 36\n",
    "\n",
    "#Comparando por igualdade\n",
    "print(ladoA == ladoB)\n",
    "\n",
    "#Comparando por desigualdade\n",
    "print(ladoA != ladoB)\n",
    "\n",
    "#Comparando ladoA menor que o ladoB\n",
    "print(ladoA < ladoB)\n",
    "\n",
    "#Comparando ladoA maior que o ladoB\n",
    "print(ladoA > ladoB)\n",
    "\n",
    "#Comparando ladoA menor ou igual o ladoA\n",
    "print(ladoA <= ladoA)\n",
    "\n",
    "#Comparando ladoA maior ou igual o ladoB\n",
    "print(ladoA >= ladoB)\n",
    "\n",
    "#Comparando com AND (True e True)\n",
    "print(ladoA < ladoB and ladoA < ladoC)\n",
    "\n",
    "#Comparando com AND (True e False)\n",
    "print(ladoA < ladoB and ladoA > ladoC)\n",
    "\n",
    "#Comparando com OR (True e False)\n",
    "print(ladoA < ladoB or ladoA > ladoC)\n",
    "\n",
    "filmes = ['os infiltrados', 'os intocáveis', 'cinema paradiso']\n",
    "print(filmes)\n",
    "\n",
    "#verificando se o valor está na lista\n",
    "print('cinema paradiso está em filmes?')\n",
    "print ('cinema paradiso' in filmes)\n",
    "\n",
    "print('batman está em filmes?')\n",
    "print('batman' in filmes)\n",
    "\n",
    "#verificando se o valor não está em uma lista...\n",
    "print('os infiltrados NÃO está em filmes?')\n",
    "print('os infiltrados' not in filmes)\n",
    "\n",
    "#outra forma de verificar se não está na lista...\n",
    "if ('batman' not in filmes):\n",
    "    print('Não Está!')"
   ]
  },
  {
   "cell_type": "code",
   "execution_count": 30,
   "metadata": {},
   "outputs": [
    {
     "name": "stdout",
     "output_type": "stream",
     "text": [
      "You are old enough to vote!\n"
     ]
    }
   ],
   "source": [
    "age = 19\n",
    "if age >= 18:\n",
    "    print('You are old enough to vote!')"
   ]
  },
  {
   "cell_type": "code",
   "execution_count": 31,
   "metadata": {},
   "outputs": [
    {
     "name": "stdout",
     "output_type": "stream",
     "text": [
      "You are old enough to vote!\n",
      "Have you registered to vote yet?\n"
     ]
    }
   ],
   "source": [
    "age = 19\n",
    "if age >= 18:\n",
    "    print('You are old enough to vote!')\n",
    "    print('Have you registered to vote yet?')"
   ]
  },
  {
   "cell_type": "code",
   "execution_count": 32,
   "metadata": {},
   "outputs": [
    {
     "name": "stdout",
     "output_type": "stream",
     "text": [
      "Sorry, you are too young to vote.\n",
      "Please register to vote as soon asyou turn 18!\n"
     ]
    }
   ],
   "source": [
    "age = 17\n",
    "if age >= 18:\n",
    "    print('You are old enough to vote!')\n",
    "    print('Have you registered to vote yet?')\n",
    "else:\n",
    "    print('Sorry, you are too young to vote.')\n",
    "    print('Please register to vote as soon asyou turn 18!')"
   ]
  },
  {
   "cell_type": "code",
   "execution_count": 33,
   "metadata": {},
   "outputs": [
    {
     "name": "stdout",
     "output_type": "stream",
     "text": [
      "Your admission cost is $5.\n"
     ]
    }
   ],
   "source": [
    "age = 12\n",
    "\n",
    "if age < 4:\n",
    "    print('Your admission cost is $0.')\n",
    "elif age < 18:\n",
    "    print('Your admission cost is $5.')\n",
    "else:\n",
    "    print('Your admission cost is $10.')"
   ]
  },
  {
   "cell_type": "code",
   "execution_count": 35,
   "metadata": {},
   "outputs": [
    {
     "name": "stdout",
     "output_type": "stream",
     "text": [
      "Your admission cost is $5.\n"
     ]
    }
   ],
   "source": [
    "age = 12\n",
    "\n",
    "if age < 4:\n",
    "    price = 0\n",
    "elif age < 18:\n",
    "    price = 5\n",
    "else:\n",
    "    price = 10\n",
    "\n",
    "print('Your admission cost is $' + str(price) + '.')"
   ]
  },
  {
   "cell_type": "code",
   "execution_count": 36,
   "metadata": {},
   "outputs": [
    {
     "name": "stdout",
     "output_type": "stream",
     "text": [
      "Your admission cost is $5.\n"
     ]
    }
   ],
   "source": [
    "age = 12\n",
    "\n",
    "if age < 4:\n",
    "    price = 0\n",
    "elif age < 18:\n",
    "    price = 5\n",
    "elif age < 65:\n",
    "    price = 10\n",
    "else:\n",
    "    price = 5\n",
    "\n",
    "print('Your admission cost is $' + str(price) + '.')"
   ]
  },
  {
   "cell_type": "code",
   "execution_count": 37,
   "metadata": {},
   "outputs": [
    {
     "name": "stdout",
     "output_type": "stream",
     "text": [
      "Your admission cost is $5.\n"
     ]
    }
   ],
   "source": [
    "age = 12\n",
    "\n",
    "if age < 4:\n",
    "    price = 0\n",
    "elif age < 18:\n",
    "    price = 5\n",
    "elif age < 65:\n",
    "    price = 10\n",
    "elif age >= 65:\n",
    "    price = 5\n",
    "\n",
    "print('Your admission cost is $' + str(price) + '.')"
   ]
  },
  {
   "cell_type": "code",
   "execution_count": 38,
   "metadata": {},
   "outputs": [
    {
     "name": "stdout",
     "output_type": "stream",
     "text": [
      "Adding mushrooms\n",
      "Adding extra cheese\n",
      "\n",
      "Finished making yout pizza!\n"
     ]
    }
   ],
   "source": [
    "requested_toppings = ['mushrooms', 'extra cheese']\n",
    "\n",
    "if 'mushrooms' in requested_toppings:\n",
    "    print(\"Adding mushrooms\")\n",
    "\n",
    "if 'peperoni' in requested_toppings:\n",
    "    print(\"Adding peperoni\")\n",
    "    \n",
    "if 'extra cheese' in requested_toppings:\n",
    "    print(\"Adding extra cheese\")\n",
    "    \n",
    "print(\"\\nFinished making yout pizza!\")\n",
    "    "
   ]
  },
  {
   "cell_type": "code",
   "execution_count": 40,
   "metadata": {},
   "outputs": [
    {
     "name": "stdout",
     "output_type": "stream",
     "text": [
      "Adding mushrooms\n",
      "\n",
      "Finished making yout pizza!\n"
     ]
    }
   ],
   "source": [
    "requested_toppings = ['mushrooms', 'extra cheese']\n",
    "\n",
    "if 'mushrooms' in requested_toppings:\n",
    "    print(\"Adding mushrooms\")\n",
    "\n",
    "elif 'peperoni' in requested_toppings:\n",
    "    print(\"Adding peperoni\")\n",
    "    \n",
    "elif 'extra cheese' in requested_toppings:\n",
    "    print(\"Adding extra cheese\")\n",
    "    \n",
    "print(\"\\nFinished making yout pizza!\")\n",
    "    "
   ]
  },
  {
   "cell_type": "markdown",
   "metadata": {
    "collapsed": true
   },
   "source": [
    "## Exercícios"
   ]
  },
  {
   "cell_type": "markdown",
   "metadata": {},
   "source": [
    "### Exercício 5.3"
   ]
  },
  {
   "cell_type": "code",
   "execution_count": 6,
   "metadata": {},
   "outputs": [
    {
     "name": "stdout",
     "output_type": "stream",
     "text": [
      "Você ganhou 5 pontos!!!\n"
     ]
    }
   ],
   "source": [
    "#versão que mostra a mensagem...\n",
    "alien_color = 'green'\n",
    "\n",
    "if alien_color == 'green':\n",
    "    print(\"Você ganhou 5 pontos!!!\")\n",
    "\n",
    "\n",
    "#versão que falha ao comparar o valor de alien_color...    \n",
    "alien_color = 'red'\n",
    "\n",
    "if alien_color == 'green':\n",
    "    print(\"Você ganhou 5 pontos!!!\")"
   ]
  },
  {
   "cell_type": "markdown",
   "metadata": {},
   "source": [
    "### Exercício 5.2"
   ]
  },
  {
   "cell_type": "code",
   "execution_count": 7,
   "metadata": {},
   "outputs": [
    {
     "name": "stdout",
     "output_type": "stream",
     "text": [
      "Você ganhou 5 pontos!!!\n",
      "Parabéns! Você ganhou 10 pontos.\n"
     ]
    }
   ],
   "source": [
    "#versão que mostra a mensagem...\n",
    "alien_color = 'green'\n",
    "\n",
    "if alien_color == 'green':\n",
    "    print(\"Você ganhou 5 pontos!!!\")\n",
    "else:\n",
    "    print(\"Parabéns! Você ganhou 10 pontos.\")\n",
    "    \n",
    "#versão que passa pelo else\n",
    "alien_color = 'red'\n",
    "\n",
    "if alien_color == 'green':\n",
    "    print(\"Você ganhou 5 pontos!!!\")\n",
    "else:\n",
    "    print(\"Parabéns! Você ganhou 10 pontos.\")"
   ]
  },
  {
   "cell_type": "code",
   "execution_count": 8,
   "metadata": {},
   "outputs": [
    {
     "name": "stdout",
     "output_type": "stream",
     "text": [
      "Você ganhou 5 pontos!!!\n"
     ]
    }
   ],
   "source": [
    "#alienígena verde\n",
    "alien_color = 'green'\n",
    "\n",
    "if alien_color == 'green':\n",
    "    print(\"Você ganhou 5 pontos!!!\")\n",
    "elif alien_color == 'yellow':\n",
    "    print(\"Parabéns! Você ganhou 10 pontos.\")\n",
    "elif alien_color == 'red':\n",
    "    print(\"Parabéns! Você ganhou 10 pontos.\")\n",
    "else:\n",
    "    print(\"Não há pontuação disponível.\")\n",
    "    \n",
    "#alienígena amarelo\n",
    "alien_color = 'yellow'\n",
    "\n",
    "if alien_color == 'green':\n",
    "    print(\"Você ganhou 5 pontos!!!\")\n",
    "elif alien_color == 'yellow':\n",
    "    print(\"Parabéns! Você ganhou 10 pontos.\")\n",
    "elif alien_color == 'red':\n",
    "    print(\"Parabéns! Você ganhou 10 pontos.\")\n",
    "else:\n",
    "    print(\"Não há pontuação disponível.\")\n",
    "    \n",
    "#alienígena vermelho\n",
    "alien_color = 'red'\n",
    "\n",
    "if alien_color == 'green':\n",
    "    print(\"Você ganhou 5 pontos!!!\")\n",
    "elif alien_color == 'yellow':\n",
    "    print(\"Parabéns! Você ganhou 10 pontos.\")\n",
    "elif alien_color == 'red':\n",
    "    print(\"Parabéns! Você ganhou 10 pontos.\")\n",
    "else:\n",
    "    print(\"Não há pontuação disponível.\")\n",
    "'''    \n",
    "OBSERVAÇÃO\n",
    "==========\n",
    "O exercício pede que se use if-elif-else para verificação dos valores (vermelho, verde e amarelo). \n",
    "Porém, no meu entendimento o uso do ELSE cabe mais como uma verificação default e não deveria ser utilizado\n",
    "para verificar um valor específico. Por isso, usei um ELIF para verificar o alienígena vermelho e usei\n",
    "o ELSE para uma mensagem padrão caso o valor não seja um dos três propostos.\n",
    "'''"
   ]
  },
  {
   "cell_type": "markdown",
   "metadata": {},
   "source": [
    "### Exercício 5.6"
   ]
  },
  {
   "cell_type": "code",
   "execution_count": 26,
   "metadata": {},
   "outputs": [
    {
     "name": "stdout",
     "output_type": "stream",
     "text": [
      "Você é um(a) idoso(a)\n"
     ]
    }
   ],
   "source": [
    "idade = 65\n",
    "\n",
    "if idade < 2:\n",
    "    print(\"Você é um bebê.\")\n",
    "elif idade == 2 or idade < 4:\n",
    "    print(\"Você é uma criança.\")\n",
    "elif idade == 4 or idade < 13:\n",
    "    print(\"Você é um garoto(a).\")\n",
    "elif idade == 13 or idade < 20:\n",
    "    print(\"Você é um(a) adolescente\")\n",
    "elif idade == 20 or idade < 65:\n",
    "    print(\"Você é um adulto.\")\n",
    "elif idade >= 65:\n",
    "    print(\"Você é um(a) idoso(a)\")\n",
    "else:\n",
    "    print(\"Não pudemos estabelecer seu estágio de vida.\")"
   ]
  },
  {
   "cell_type": "markdown",
   "metadata": {},
   "source": [
    "### Exercício 5.7"
   ]
  },
  {
   "cell_type": "code",
   "execution_count": 33,
   "metadata": {},
   "outputs": [
    {
     "name": "stdout",
     "output_type": "stream",
     "text": [
      "Morango não é uma das suas frutas favoritas.\n",
      "Melão não é uma das suas frutas favoritas.\n",
      "Você realmente gosta de uva.\n",
      "Você realmente gosta de melância.\n",
      "Você realmente gosta de laranja.\n"
     ]
    }
   ],
   "source": [
    "favorite_fruits = ['uva','melância','laranja']\n",
    "\n",
    "#Não encontra o morango na lista...\n",
    "fruit = 'morango'\n",
    "\n",
    "if fruit in favorite_fruits:\n",
    "    print(\"Você realmente gosta de \" + fruit + \".\")\n",
    "else:\n",
    "    print(fruit.title() + \" não é uma das suas frutas favoritas.\")\n",
    "    \n",
    "#Não encontra o melão na lista...\n",
    "fruit = 'melão'\n",
    "\n",
    "if fruit in favorite_fruits:\n",
    "    print(\"Você realmente gosta de \" + fruit + \".\")\n",
    "else:\n",
    "    print(fruit.title() + \" não é uma das suas frutas favoritas.\")\n",
    "    \n",
    "#Encontra uva na lista...\n",
    "fruit = 'uva'\n",
    "\n",
    "if fruit in favorite_fruits:\n",
    "    print(\"Você realmente gosta de \" + fruit + \".\")\n",
    "else:\n",
    "    print(fruit.title() + \" não é uma das suas frutas favoritas.\")\n",
    "\n",
    "#Encontra melância na lista...\n",
    "fruit = 'melância'\n",
    "\n",
    "if fruit in favorite_fruits:\n",
    "    print(\"Você realmente gosta de \" + fruit + \".\")\n",
    "else:\n",
    "    print(fruit.title() + \" não é uma das suas frutas favoritas.\")\n",
    "    \n",
    "#Encontra laranja na lista...\n",
    "fruit = 'laranja'\n",
    "\n",
    "if fruit in favorite_fruits:\n",
    "    print(\"Você realmente gosta de \" + fruit + \".\")\n",
    "else:\n",
    "    print(fruit.title() + \" não é uma das suas frutas favoritas.\")\n",
    "\n"
   ]
  },
  {
   "cell_type": "code",
   "execution_count": 36,
   "metadata": {},
   "outputs": [
    {
     "name": "stdout",
     "output_type": "stream",
     "text": [
      "Adding mushrooms.\n",
      "Adding green peppers.\n",
      "Adding extra cheese.\n",
      "\n",
      "Finished making your pizza!\n"
     ]
    }
   ],
   "source": [
    "requested_toppings = ['mushrooms', 'green peppers', 'extra cheese']\n",
    "\n",
    "for requested_topping in requested_toppings:\n",
    "    print(\"Adding \" + requested_topping + \".\")\n",
    "\n",
    "print(\"\\nFinished making your pizza!\")"
   ]
  },
  {
   "cell_type": "code",
   "execution_count": 38,
   "metadata": {},
   "outputs": [
    {
     "name": "stdout",
     "output_type": "stream",
     "text": [
      "Adding mushrooms.\n",
      "Sorry, we are aout of green peppers right now.\n",
      "Adding extra cheese.\n",
      "\n",
      "Finished making your pizza!\n"
     ]
    }
   ],
   "source": [
    "requested_toppings = ['mushrooms', 'green peppers', 'extra cheese']\n",
    "\n",
    "for requested_topping in requested_toppings:\n",
    "    if requested_topping == 'green peppers':\n",
    "        print(\"Sorry, we are aout of green peppers right now.\")\n",
    "    else:\n",
    "        print(\"Adding \" + requested_topping + \".\")\n",
    "\n",
    "print(\"\\nFinished making your pizza!\")"
   ]
  },
  {
   "cell_type": "code",
   "execution_count": 40,
   "metadata": {},
   "outputs": [
    {
     "name": "stdout",
     "output_type": "stream",
     "text": [
      "Are you sure you wnat a plain pizza?\n"
     ]
    }
   ],
   "source": [
    "requested_toppings = []\n",
    "\n",
    "if requested_toppings:\n",
    "    for requested_topping in requested_toppings:\n",
    "        print(\"Adding \" + requested_topping + \".\")\n",
    "\n",
    "    print(\"\\nFinished making your pizza!\")\n",
    "else:\n",
    "    print(\"Are you sure you wnat a plain pizza?\")"
   ]
  },
  {
   "cell_type": "code",
   "execution_count": 43,
   "metadata": {},
   "outputs": [
    {
     "name": "stdout",
     "output_type": "stream",
     "text": [
      "Adding mushrooms.\n",
      "Sorry, we don't have french fries.\n",
      "Adding extra cheese.\n",
      "\n",
      "Finished making your pizza!\n"
     ]
    }
   ],
   "source": [
    "avaliable_toppings = ['mushrooms', 'olives', 'green peppers', 'peperoni', 'pineapple', 'extra cheese']\n",
    "\n",
    "requested_toppings = ['mushrooms', 'french fries', 'extra cheese']\n",
    "\n",
    "for requested_topping in requested_toppings:\n",
    "    if requested_topping in avaliable_toppings:\n",
    "        print(\"Adding \" + requested_topping + \".\")\n",
    "    else:\n",
    "        print(\"Sorry, we don't have \" + requested_topping + \".\")\n",
    "\n",
    "print(\"\\nFinished making your pizza!\")"
   ]
  },
  {
   "cell_type": "markdown",
   "metadata": {},
   "source": [
    "## Exercícios"
   ]
  },
  {
   "cell_type": "markdown",
   "metadata": {},
   "source": [
    "### Exercício 5.8"
   ]
  },
  {
   "cell_type": "code",
   "execution_count": 44,
   "metadata": {},
   "outputs": [
    {
     "name": "stdout",
     "output_type": "stream",
     "text": [
      "Olá nancy, obrigado por fazer login novamente.\n",
      "Olá oliver, obrigado por fazer login novamente.\n",
      "Olá jimmy, obrigado por fazer login novamente.\n",
      "Olá paty, obrigado por fazer login novamente.\n",
      "Olá admin, gostaria de ver um relatório de status?\n"
     ]
    }
   ],
   "source": [
    "users = ['nancy', 'oliver', 'jimmy', 'paty', 'admin']\n",
    "\n",
    "for user in users:\n",
    "    if user == 'admin':\n",
    "        print(\"Olá \" + user + \", gostaria de ver um relatório de status?\")\n",
    "    else:\n",
    "        print(\"Olá \" + user + \", obrigado por fazer login novamente.\")"
   ]
  },
  {
   "cell_type": "markdown",
   "metadata": {},
   "source": [
    "### Exercício 5.9"
   ]
  },
  {
   "cell_type": "code",
   "execution_count": 48,
   "metadata": {},
   "outputs": [
    {
     "name": "stdout",
     "output_type": "stream",
     "text": [
      "Precisamos encontrar alguns usuários.\n"
     ]
    }
   ],
   "source": [
    "users = []\n",
    "\n",
    "if users:\n",
    "    for user in users:\n",
    "        if user == 'admin':\n",
    "            print(\"Olá \" + user + \", gostaria de ver um relatório de status?\")\n",
    "        else:\n",
    "            print(\"Olá \" + user + \", obrigado por fazer login novamente.\")\n",
    "else:\n",
    "    print(\"Precisamos encontrar alguns usuários.\")"
   ]
  },
  {
   "cell_type": "markdown",
   "metadata": {},
   "source": [
    "### Exercício 5.10"
   ]
  },
  {
   "cell_type": "code",
   "execution_count": 54,
   "metadata": {},
   "outputs": [
    {
     "name": "stdout",
     "output_type": "stream",
     "text": [
      "O nome de usuário Nancy já está em uso, por favor, escolha outro.\n",
      "O nome de usuário oliver pode ser utilizado.\n",
      "O nome de usuário jimmy já está em uso, por favor, escolha outro.\n",
      "O nome de usuário paty pode ser utilizado.\n",
      "O nome de usuário willian pode ser utilizado.\n",
      "O nome de usuário gustave pode ser utilizado.\n",
      "O nome de usuário mary pode ser utilizado.\n",
      "O nome de usuário francis pode ser utilizado.\n"
     ]
    }
   ],
   "source": [
    "current_users = ['Nancy', 'oliver', 'jimmy', 'paty', 'willian', 'gustave', 'mary', 'francis']\n",
    "\n",
    "new_users = ['peter', 'alan', 'melvin', 'jimmy', 'nancy']\n",
    "\n",
    "for current_user in current_users:\n",
    "    if current_user.lower() in new_users:\n",
    "        print(\"O nome de usuário \" + current_user + \" já está em uso, por favor, escolha outro.\")\n",
    "    else:\n",
    "        print(\"O nome de usuário \" + current_user + \" pode ser utilizado.\")"
   ]
  },
  {
   "cell_type": "markdown",
   "metadata": {},
   "source": [
    "### Exercício 5.11"
   ]
  },
  {
   "cell_type": "code",
   "execution_count": 55,
   "metadata": {},
   "outputs": [
    {
     "name": "stdout",
     "output_type": "stream",
     "text": [
      "1st \n",
      "2nd \n",
      "3rd \n",
      "4th \n",
      "5th \n",
      "6th \n",
      "7th \n",
      "8th \n",
      "9th \n"
     ]
    }
   ],
   "source": [
    "ordinais = [1,2,3,4,5,6,7,8,9]\n",
    "\n",
    "for ordinal in ordinais:\n",
    "    if ordinal == 1:\n",
    "        print(str(ordinal) + \"st \")\n",
    "    elif ordinal == 2:\n",
    "        print(str(ordinal) + \"nd \")\n",
    "    elif ordinal == 3:\n",
    "        print(str(ordinal) + \"rd \")\n",
    "    else:\n",
    "        print(str(ordinal) + \"th \")"
   ]
  }
 ],
 "metadata": {
  "kernelspec": {
   "display_name": "Python 3",
   "language": "python",
   "name": "python3"
  },
  "language_info": {
   "codemirror_mode": {
    "name": "ipython",
    "version": 3
   },
   "file_extension": ".py",
   "mimetype": "text/x-python",
   "name": "python",
   "nbconvert_exporter": "python",
   "pygments_lexer": "ipython3",
   "version": "3.5.3"
  }
 },
 "nbformat": 4,
 "nbformat_minor": 2
}
