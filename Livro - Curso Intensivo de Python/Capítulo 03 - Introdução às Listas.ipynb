{
 "cells": [
  {
   "cell_type": "markdown",
   "metadata": {},
   "source": [
    "## Capítulo 03 - Introdução às listas"
   ]
  },
  {
   "cell_type": "code",
   "execution_count": 5,
   "metadata": {},
   "outputs": [],
   "source": [
    "#definindo uma lista\n",
    "bicycles = ['trek', 'cannondable', 'redline', 'specialized']"
   ]
  },
  {
   "cell_type": "code",
   "execution_count": 6,
   "metadata": {},
   "outputs": [
    {
     "name": "stdout",
     "output_type": "stream",
     "text": [
      "['trek', 'cannondable', 'redline', 'specialized']\n"
     ]
    }
   ],
   "source": [
    "#mostrando uma lista\n",
    "print(bicycles)"
   ]
  },
  {
   "cell_type": "code",
   "execution_count": 7,
   "metadata": {},
   "outputs": [
    {
     "name": "stdout",
     "output_type": "stream",
     "text": [
      "trek\n",
      "cannondable\n",
      "redline\n",
      "specialized\n"
     ]
    }
   ],
   "source": [
    "#mostrando os elementos de uma lista de forma individual\n",
    "print(bicycles[0])\n",
    "print(bicycles[1])\n",
    "print(bicycles[2])\n",
    "print(bicycles[3])"
   ]
  },
  {
   "cell_type": "code",
   "execution_count": 8,
   "metadata": {},
   "outputs": [
    {
     "ename": "IndexError",
     "evalue": "list index out of range",
     "output_type": "error",
     "traceback": [
      "\u001b[0;31m---------------------------------------------------------------------------\u001b[0m",
      "\u001b[0;31mIndexError\u001b[0m                                Traceback (most recent call last)",
      "\u001b[0;32m<ipython-input-8-39811c778978>\u001b[0m in \u001b[0;36m<module>\u001b[0;34m()\u001b[0m\n\u001b[1;32m      1\u001b[0m \u001b[0;31m#tentando acessar um elemento inexistente de uma lista\u001b[0m\u001b[0;34m\u001b[0m\u001b[0;34m\u001b[0m\u001b[0m\n\u001b[0;32m----> 2\u001b[0;31m \u001b[0mprint\u001b[0m\u001b[0;34m(\u001b[0m\u001b[0mbicycles\u001b[0m\u001b[0;34m[\u001b[0m\u001b[0;36m4\u001b[0m\u001b[0;34m]\u001b[0m\u001b[0;34m)\u001b[0m\u001b[0;34m\u001b[0m\u001b[0m\n\u001b[0m",
      "\u001b[0;31mIndexError\u001b[0m: list index out of range"
     ]
    }
   ],
   "source": [
    "#tentando acessar um elemento inexistente de uma lista\n",
    "print(bicycles[4])"
   ]
  },
  {
   "cell_type": "code",
   "execution_count": 9,
   "metadata": {},
   "outputs": [
    {
     "name": "stdout",
     "output_type": "stream",
     "text": [
      "Trek\n"
     ]
    }
   ],
   "source": [
    "print (bicycles[0].title())"
   ]
  },
  {
   "cell_type": "code",
   "execution_count": 10,
   "metadata": {},
   "outputs": [
    {
     "name": "stdout",
     "output_type": "stream",
     "text": [
      "Specialized\n"
     ]
    }
   ],
   "source": [
    "#acessando o último elemento de uma lista\n",
    "print(bicycles[-1].title())"
   ]
  },
  {
   "cell_type": "code",
   "execution_count": 11,
   "metadata": {},
   "outputs": [
    {
     "name": "stdout",
     "output_type": "stream",
     "text": [
      "Specialized\n",
      "Redline\n",
      "Cannondable\n"
     ]
    }
   ],
   "source": [
    "#acessando os últimos valores de uma lista (de trás para frente)\n",
    "print(bicycles[-1].title())\n",
    "print(bicycles[-2].title())\n",
    "print(bicycles[-3].title())"
   ]
  },
  {
   "cell_type": "code",
   "execution_count": 13,
   "metadata": {},
   "outputs": [
    {
     "name": "stdout",
     "output_type": "stream",
     "text": [
      "Eu quero uma bicicleta do tipo Redline, por favor!\n"
     ]
    }
   ],
   "source": [
    "typeBicycle = bicycles[2].title()\n",
    "message = \"Eu quero uma bicicleta do tipo \" + typeBicycle + \", por favor!\"\n",
    "print(message)"
   ]
  },
  {
   "cell_type": "markdown",
   "metadata": {},
   "source": [
    "## Exercícios"
   ]
  },
  {
   "cell_type": "markdown",
   "metadata": {},
   "source": [
    "### Exercício 3.1"
   ]
  },
  {
   "cell_type": "code",
   "execution_count": 16,
   "metadata": {},
   "outputs": [
    {
     "name": "stdout",
     "output_type": "stream",
     "text": [
      "José\n",
      "João\n",
      "Maria\n",
      "Ana\n"
     ]
    }
   ],
   "source": [
    "names = ['josé', 'joão', 'maria', 'ana', 'beatriz']\n",
    "print(names[0].title())\n",
    "print(names[1].title())\n",
    "print(names[2].title())\n",
    "print(names[3].title())"
   ]
  },
  {
   "cell_type": "markdown",
   "metadata": {},
   "source": [
    "### Exercício 3.2"
   ]
  },
  {
   "cell_type": "code",
   "execution_count": 17,
   "metadata": {},
   "outputs": [
    {
     "name": "stdout",
     "output_type": "stream",
     "text": [
      "Bem vindo(a) José\n",
      "Bem vindo(a) João\n",
      "Bem vindo(a) Maria\n",
      "Bem vindo(a) Ana\n"
     ]
    }
   ],
   "source": [
    "message = \"Bem vindo(a) \"\n",
    "print(message + names[0].title())\n",
    "print(message + names[1].title())\n",
    "print(message + names[2].title())\n",
    "print(message + names[3].title())"
   ]
  },
  {
   "cell_type": "markdown",
   "metadata": {},
   "source": [
    "### Exercício 3.3"
   ]
  },
  {
   "cell_type": "code",
   "execution_count": 18,
   "metadata": {},
   "outputs": [
    {
     "name": "stdout",
     "output_type": "stream",
     "text": [
      "Uma boa marca de moto é a Honda\n",
      "Uma boa marca de moto é a Yamaha\n",
      "Uma boa marca de moto é a Dafra\n",
      "Uma boa marca de moto é a Kawasaki\n"
     ]
    }
   ],
   "source": [
    "motorcycles = ['honda', 'yamaha', 'dafra', \"kawasaki\"]\n",
    "message = \"Uma boa marca de moto é a \"\n",
    "print(message + motorcycles[0].title())\n",
    "print(message + motorcycles[1].title())\n",
    "print(message + motorcycles[2].title())\n",
    "print(message + motorcycles[3].title())"
   ]
  },
  {
   "cell_type": "code",
   "execution_count": 19,
   "metadata": {},
   "outputs": [
    {
     "name": "stdout",
     "output_type": "stream",
     "text": [
      "['honda', 'yamaha', 'dafra', 'kawasaki', 'suzuki']\n"
     ]
    }
   ],
   "source": [
    "motorcycles = ['honda', 'yamaha', 'dafra', \"kawasaki\", \"suzuki\"]\n",
    "print(motorcycles)"
   ]
  },
  {
   "cell_type": "code",
   "execution_count": 21,
   "metadata": {},
   "outputs": [
    {
     "name": "stdout",
     "output_type": "stream",
     "text": [
      "['ducati', 'yamaha', 'dafra', 'kawasaki', 'suzuki']\n"
     ]
    }
   ],
   "source": [
    "motorcycles[0] = 'ducati'\n",
    "print(motorcycles)"
   ]
  },
  {
   "cell_type": "code",
   "execution_count": 22,
   "metadata": {},
   "outputs": [
    {
     "name": "stdout",
     "output_type": "stream",
     "text": [
      "['ducati', 'yamaha', 'dafra', 'kawasaki', 'suzuki', 'honda']\n"
     ]
    }
   ],
   "source": [
    "motorcycles.append('honda')\n",
    "print(motorcycles)"
   ]
  },
  {
   "cell_type": "code",
   "execution_count": 23,
   "metadata": {},
   "outputs": [
    {
     "name": "stdout",
     "output_type": "stream",
     "text": [
      "[]\n"
     ]
    }
   ],
   "source": [
    "motorcycles = []\n",
    "print(motorcycles)"
   ]
  },
  {
   "cell_type": "code",
   "execution_count": 24,
   "metadata": {},
   "outputs": [
    {
     "name": "stdout",
     "output_type": "stream",
     "text": [
      "['honda', 'ducati', 'yamaha', 'dafra', 'kawasaki', 'suzuki']\n"
     ]
    }
   ],
   "source": [
    "motorcycles.append('honda')\n",
    "motorcycles.append('ducati')\n",
    "motorcycles.append('yamaha')\n",
    "motorcycles.append('dafra')\n",
    "motorcycles.append('kawasaki')\n",
    "motorcycles.append('suzuki')\n",
    "print(motorcycles)"
   ]
  },
  {
   "cell_type": "code",
   "execution_count": 25,
   "metadata": {},
   "outputs": [
    {
     "name": "stdout",
     "output_type": "stream",
     "text": [
      "['honda', 'ducati', 'yamaha', 'dafra', 'harley davidson', 'kawasaki', 'suzuki']\n"
     ]
    }
   ],
   "source": [
    "#inserindo um elemento em um lugar específico...\n",
    "motorcycles.insert(4, 'harley davidson')\n",
    "print(motorcycles)"
   ]
  },
  {
   "cell_type": "code",
   "execution_count": 33,
   "metadata": {},
   "outputs": [
    {
     "name": "stdout",
     "output_type": "stream",
     "text": [
      "['honda', 'ducati', 'yamaha', 'dafra', 'harley davidson', 'kawasaki', 'suzuki', 'husqvarna']\n",
      "['honda', 'ducati', 'yamaha', 'dafra', 'harley davidson', 'kawasaki', 'suzuki']\n"
     ]
    }
   ],
   "source": [
    "#removendo um elemento com del + índice...\n",
    "motorcycles.append('husqvarna')\n",
    "print(motorcycles)\n",
    "del motorcycles[-1]\n",
    "print(motorcycles)"
   ]
  },
  {
   "cell_type": "code",
   "execution_count": 35,
   "metadata": {},
   "outputs": [
    {
     "name": "stdout",
     "output_type": "stream",
     "text": [
      "['honda', 'ducati', 'yamaha', 'dafra', 'harley davidson', 'kawasaki', 'suzuki']\n",
      "suzuki\n",
      "['honda', 'ducati', 'yamaha', 'dafra', 'harley davidson', 'kawasaki']\n"
     ]
    }
   ],
   "source": [
    "#removendo o último elemento(pop)\n",
    "print(motorcycles)\n",
    "retiradaLoja = motorcycles.pop()\n",
    "print(retiradaLoja)\n",
    "print(motorcycles)"
   ]
  },
  {
   "cell_type": "code",
   "execution_count": 36,
   "metadata": {},
   "outputs": [
    {
     "name": "stdout",
     "output_type": "stream",
     "text": [
      "['honda', 'ducati', 'yamaha', 'dafra', 'harley davidson', 'kawasaki']\n",
      "dafra\n",
      "['honda', 'ducati', 'yamaha', 'harley davidson', 'kawasaki']\n"
     ]
    }
   ],
   "source": [
    "#removendo por uso do índice...\n",
    "print(motorcycles)\n",
    "retiradaLoja = motorcycles.pop(3)\n",
    "print(retiradaLoja)\n",
    "print(motorcycles)"
   ]
  },
  {
   "cell_type": "code",
   "execution_count": 41,
   "metadata": {},
   "outputs": [
    {
     "name": "stdout",
     "output_type": "stream",
     "text": [
      "['honda', 'ducati', 'yamaha', 'harley davidson', 'kawasaki', 'dafra', 'husqvarna']\n",
      "['honda', 'ducati', 'yamaha', 'harley davidson', 'kawasaki', 'husqvarna']\n",
      "['honda', 'ducati', 'yamaha', 'harley davidson', 'kawasaki']\n"
     ]
    }
   ],
   "source": [
    "#removendo por busca de valor...\n",
    "motorcycles.append('dafra')\n",
    "motorcycles.append('husqvarna')\n",
    "print(motorcycles)\n",
    "motorcycles.remove('dafra')\n",
    "print(motorcycles)\n",
    "foraLinha = \"husqvarna\"\n",
    "motorcycles.remove(foraLinha)\n",
    "print(motorcycles)"
   ]
  },
  {
   "cell_type": "markdown",
   "metadata": {},
   "source": [
    "## Exercícios"
   ]
  },
  {
   "cell_type": "markdown",
   "metadata": {},
   "source": [
    "### Exercício 3.7"
   ]
  },
  {
   "cell_type": "code",
   "execution_count": 47,
   "metadata": {},
   "outputs": [
    {
     "name": "stdout",
     "output_type": "stream",
     "text": [
      "Infelizmente o jantar terá apenas dois convidados.\n",
      "Desculpe o transtorno Beatriz, sinto muito por ter que desconvidá-lo(a).\n",
      "Desculpe o transtorno Ana, sinto muito por ter que desconvidá-lo(a).\n",
      "Desculpe o transtorno Maria, sinto muito por ter que desconvidá-lo(a).\n",
      "Parabéns José nos vemos no meu jantar.\n",
      "Parabéns João nos vemos no meu jantar.\n",
      "[]\n"
     ]
    }
   ],
   "source": [
    "names = ['josé', 'joão', 'maria', 'ana', 'beatriz']\n",
    "print (\"Infelizmente o jantar terá apenas dois convidados.\")\n",
    "removido = names.pop()\n",
    "print (\"Desculpe o transtorno \" + removido.title() + \", sinto muito por ter que desconvidá-lo(a).\")\n",
    "removido = names.pop()\n",
    "print (\"Desculpe o transtorno \" + removido.title() + \", sinto muito por ter que desconvidá-lo(a).\")\n",
    "removido = names.pop()\n",
    "print (\"Desculpe o transtorno \" + removido.title() + \", sinto muito por ter que desconvidá-lo(a).\")\n",
    "print (\"Parabéns \" + names[0].title() + \" nos vemos no meu jantar.\")\n",
    "print (\"Parabéns \" + names[1].title() + \" nos vemos no meu jantar.\")\n",
    "del names[1]\n",
    "del names[0]\n",
    "print(names)"
   ]
  },
  {
   "cell_type": "code",
   "execution_count": 48,
   "metadata": {},
   "outputs": [
    {
     "name": "stdout",
     "output_type": "stream",
     "text": [
      "['volkswagen', 'fiat', 'audi', 'ferrari', 'hyundai', 'chevrolet', 'honda']\n",
      "['audi', 'chevrolet', 'ferrari', 'fiat', 'honda', 'hyundai', 'volkswagen']\n"
     ]
    }
   ],
   "source": [
    "cars = ['volkswagen', 'fiat', 'audi', 'ferrari', 'hyundai', 'chevrolet', 'honda']\n",
    "print(cars)\n",
    "cars.sort()\n",
    "print(cars)"
   ]
  },
  {
   "cell_type": "code",
   "execution_count": 49,
   "metadata": {},
   "outputs": [
    {
     "name": "stdout",
     "output_type": "stream",
     "text": [
      "['volkswagen', 'hyundai', 'honda', 'fiat', 'ferrari', 'chevrolet', 'audi']\n"
     ]
    }
   ],
   "source": [
    "#ordena uma lista...\n",
    "cars.sort(reverse = True)\n",
    "print(cars)"
   ]
  },
  {
   "cell_type": "code",
   "execution_count": 56,
   "metadata": {},
   "outputs": [
    {
     "name": "stdout",
     "output_type": "stream",
     "text": [
      "Lista original\n",
      "['volkswagen', 'fiat', 'audi', 'ferrari', 'hyundai', 'chevrolet', 'honda']\n",
      "\n",
      "Lista ordenada temporariamente (asc)\n",
      "['audi', 'chevrolet', 'ferrari', 'fiat', 'honda', 'hyundai', 'volkswagen']\n",
      "\n",
      "Lista ordenada temporariamente (desc)\n",
      "['volkswagen', 'hyundai', 'honda', 'fiat', 'ferrari', 'chevrolet', 'audi']\n",
      "\n",
      "Lista ordenada temporariamente\n",
      "['audi', 'chevrolet', 'ferrari', 'fiat', 'honda', 'hyundai', 'volkswagen']\n"
     ]
    }
   ],
   "source": [
    "#ordena uma lista sem alterar a lista original...\n",
    "cars = ['volkswagen', 'fiat', 'audi', 'ferrari', 'hyundai', 'chevrolet', 'honda']\n",
    "print(\"Lista original\")\n",
    "print(cars)\n",
    "print(\"\\nLista ordenada temporariamente (asc)\")\n",
    "print(sorted(cars))\n",
    "print(\"\\nLista ordenada temporariamente (desc)\")\n",
    "print(sorted(cars, reverse=True))\n",
    "print(\"\\nLista ordenada temporariamente\")\n",
    "print(sorted(cars))"
   ]
  },
  {
   "cell_type": "markdown",
   "metadata": {},
   "source": [
    "## Observação sobre ordenação"
   ]
  },
  {
   "cell_type": "code",
   "execution_count": 57,
   "metadata": {},
   "outputs": [
    {
     "name": "stdout",
     "output_type": "stream",
     "text": [
      "['Fato', 'Ferro', 'Fingido', 'Foca', 'Fuga', 'faca', 'feixe', 'figo', 'forno', 'fusca']\n"
     ]
    }
   ],
   "source": [
    "#ordenação leva em conta a caixa dos caracteres...\n",
    "ordena = ['faca', 'Fato', 'feixe', 'Ferro', 'Fingido', 'figo', 'Foca', 'forno', 'Fuga', 'fusca']\n",
    "print(sorted(ordena))"
   ]
  },
  {
   "cell_type": "code",
   "execution_count": 58,
   "metadata": {},
   "outputs": [
    {
     "name": "stdout",
     "output_type": "stream",
     "text": [
      "['honda', 'chevrolet', 'hyundai', 'ferrari', 'audi', 'fiat', 'volkswagen']\n"
     ]
    }
   ],
   "source": [
    "#ordem reversa de uma lista...\n",
    "cars = ['volkswagen', 'fiat', 'audi', 'ferrari', 'hyundai', 'chevrolet', 'honda']\n",
    "cars.reverse()\n",
    "print(cars)"
   ]
  },
  {
   "cell_type": "code",
   "execution_count": 60,
   "metadata": {},
   "outputs": [
    {
     "data": {
      "text/plain": [
       "7"
      ]
     },
     "execution_count": 60,
     "metadata": {},
     "output_type": "execute_result"
    }
   ],
   "source": [
    "#tamanho de uma lista...\n",
    "len(cars)"
   ]
  },
  {
   "cell_type": "markdown",
   "metadata": {},
   "source": [
    "## Exercícios"
   ]
  },
  {
   "cell_type": "markdown",
   "metadata": {},
   "source": [
    "### Exercício 3.8"
   ]
  },
  {
   "cell_type": "code",
   "execution_count": 71,
   "metadata": {},
   "outputs": [
    {
     "name": "stdout",
     "output_type": "stream",
     "text": [
      "Lista original\n",
      "['ibirapuera', 'museu do ipiranga', 'patio do colegio', 'praca da se', 'avenida paulista', 'pinacoteca']\n",
      "\n",
      "Lista Ordenada (sorted - asc)\n",
      "['avenida paulista', 'ibirapuera', 'museu do ipiranga', 'patio do colegio', 'pinacoteca', 'praca da se']\n",
      "\n",
      "Lista original\n",
      "['ibirapuera', 'museu do ipiranga', 'patio do colegio', 'praca da se', 'avenida paulista', 'pinacoteca']\n",
      "\n",
      "Lista Ordenada (sorted - desc)\n",
      "['praca da se', 'pinacoteca', 'patio do colegio', 'museu do ipiranga', 'ibirapuera', 'avenida paulista']\n",
      "\n",
      "Lista original\n",
      "['ibirapuera', 'museu do ipiranga', 'patio do colegio', 'praca da se', 'avenida paulista', 'pinacoteca']\n",
      "\n",
      "Lista Alterada para ordem reversa\n",
      "['pinacoteca', 'avenida paulista', 'praca da se', 'patio do colegio', 'museu do ipiranga', 'ibirapuera']\n",
      "\n",
      "Lista Alterada novamente para ordem original usando reverse\n",
      "['ibirapuera', 'museu do ipiranga', 'patio do colegio', 'praca da se', 'avenida paulista', 'pinacoteca']\n",
      "\n",
      "Lista Alterada ordenada asc (sort)\n",
      "['avenida paulista', 'ibirapuera', 'museu do ipiranga', 'patio do colegio', 'pinacoteca', 'praca da se']\n",
      "\n",
      "Lista Alterada ordenada desc (sort)\n",
      "['praca da se', 'pinacoteca', 'patio do colegio', 'museu do ipiranga', 'ibirapuera', 'avenida paulista']\n"
     ]
    }
   ],
   "source": [
    "#não usei os acentos para n\n",
    "saopaulo = ['ibirapuera', 'museu do ipiranga', 'patio do colegio', 'praca da se', 'avenida paulista', 'pinacoteca']\n",
    "print(\"Lista original\")\n",
    "print(saopaulo)\n",
    "\n",
    "#ordenando asc com sorted()\n",
    "print(\"\\nLista Ordenada (sorted - asc)\")\n",
    "print(sorted(saopaulo))\n",
    "print(\"\\nLista original\")\n",
    "print(saopaulo)\n",
    "\n",
    "#ordenando desc com sorted()\n",
    "print(\"\\nLista Ordenada (sorted - desc)\")\n",
    "print(sorted(saopaulo, reverse=True))\n",
    "print(\"\\nLista original\")\n",
    "print(saopaulo)\n",
    "\n",
    "#revertendo a lista...\n",
    "saopaulo.reverse()\n",
    "print(\"\\nLista Alterada para ordem reversa\")\n",
    "print(saopaulo)\n",
    "\n",
    "#revertendo a lista voltando para a original\n",
    "saopaulo.reverse()\n",
    "print(\"\\nLista Alterada novamente para ordem original usando reverse\")\n",
    "print(saopaulo)\n",
    "\n",
    "#ordenanado asc a lista com sort() \n",
    "saopaulo.sort()\n",
    "print(\"\\nLista Alterada ordenada asc (sort)\")\n",
    "print(saopaulo)\n",
    "\n",
    "#ordenanado desc a lista com sort()\n",
    "saopaulo.sort(reverse=True)\n",
    "print(\"\\nLista Alterada ordenada desc (sort)\")\n",
    "print(saopaulo)"
   ]
  },
  {
   "cell_type": "markdown",
   "metadata": {},
   "source": [
    "### Exercício 3.9"
   ]
  },
  {
   "cell_type": "code",
   "execution_count": 73,
   "metadata": {},
   "outputs": [
    {
     "name": "stdout",
     "output_type": "stream",
     "text": [
      "Hoje tenho 5 convidados para o jantar.\n"
     ]
    }
   ],
   "source": [
    "names = ['josé', 'joão', 'maria', 'ana', 'beatriz']\n",
    "print(\"Hoje tenho \" + str(len(names)) + \" convidados para o jantar.\")"
   ]
  },
  {
   "cell_type": "markdown",
   "metadata": {},
   "source": [
    "### Exercício 3.10"
   ]
  },
  {
   "cell_type": "code",
   "execution_count": 77,
   "metadata": {},
   "outputs": [
    {
     "name": "stdout",
     "output_type": "stream",
     "text": [
      "['atlantico', 'glacial antartico', 'glacial artico', 'indico', 'pacifico']\n",
      "['pacifico', 'indico', 'glacial artico', 'glacial antartico', 'atlantico']\n",
      "['atlantico', 'glacial antartico', 'glacial artico', 'indico', 'pacifico']\n",
      "['pacifico', 'indico', 'glacial artico', 'glacial antartico', 'atlantico']\n",
      "['atlantico', 'glacial antartico', 'glacial artico', 'indico', 'pacifico']\n",
      "['pacifico', 'indico', 'glacial artico', 'glacial antartico', 'atlantico']\n",
      "Temos 5 oceanos no planeta Terra.\n"
     ]
    }
   ],
   "source": [
    "oceanos = ['pacifico', 'indico', 'atlantico', 'glacial artico', 'glacial antartico']\n",
    "print (sorted(oceanos))\n",
    "print (sorted(oceanos, reverse=True))\n",
    "oceanos.sort()\n",
    "print(oceanos)\n",
    "oceanos.sort(reverse=True)\n",
    "print(oceanos)\n",
    "oceanos.reverse()\n",
    "print(oceanos)\n",
    "oceanos.reverse()\n",
    "print(oceanos)\n",
    "print (\"Temos \" + str(len(oceanos)) + \" oceanos no planeta Terra.\")"
   ]
  },
  {
   "cell_type": "markdown",
   "metadata": {},
   "source": [
    "### Exercício 3.11"
   ]
  },
  {
   "cell_type": "code",
   "execution_count": 78,
   "metadata": {},
   "outputs": [
    {
     "ename": "IndexError",
     "evalue": "list index out of range",
     "output_type": "error",
     "traceback": [
      "\u001b[0;31m---------------------------------------------------------------------------\u001b[0m",
      "\u001b[0;31mIndexError\u001b[0m                                Traceback (most recent call last)",
      "\u001b[0;32m<ipython-input-78-622dab08435d>\u001b[0m in \u001b[0;36m<module>\u001b[0;34m()\u001b[0m\n\u001b[1;32m      1\u001b[0m \u001b[0mcars\u001b[0m \u001b[0;34m=\u001b[0m \u001b[0;34m[\u001b[0m\u001b[0;34m]\u001b[0m\u001b[0;34m\u001b[0m\u001b[0m\n\u001b[0;32m----> 2\u001b[0;31m \u001b[0mprint\u001b[0m \u001b[0;34m(\u001b[0m\u001b[0mcars\u001b[0m\u001b[0;34m[\u001b[0m\u001b[0;34m-\u001b[0m\u001b[0;36m1\u001b[0m\u001b[0;34m]\u001b[0m\u001b[0;34m)\u001b[0m\u001b[0;34m\u001b[0m\u001b[0m\n\u001b[0m",
      "\u001b[0;31mIndexError\u001b[0m: list index out of range"
     ]
    }
   ],
   "source": [
    "cars = []\n",
    "print (cars[-1])"
   ]
  },
  {
   "cell_type": "code",
   "execution_count": null,
   "metadata": {
    "collapsed": true
   },
   "outputs": [],
   "source": []
  }
 ],
 "metadata": {
  "kernelspec": {
   "display_name": "Python 3",
   "language": "python",
   "name": "python3"
  },
  "language_info": {
   "codemirror_mode": {
    "name": "ipython",
    "version": 3
   },
   "file_extension": ".py",
   "mimetype": "text/x-python",
   "name": "python",
   "nbconvert_exporter": "python",
   "pygments_lexer": "ipython3",
   "version": "3.5.3"
  }
 },
 "nbformat": 4,
 "nbformat_minor": 2
}
