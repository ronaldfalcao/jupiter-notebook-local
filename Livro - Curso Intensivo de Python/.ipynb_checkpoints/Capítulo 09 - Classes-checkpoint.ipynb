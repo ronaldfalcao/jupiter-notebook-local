{
 "cells": [
  {
   "cell_type": "markdown",
   "metadata": {},
   "source": [
    "# Capítulo 09 - Classes"
   ]
  },
  {
   "cell_type": "code",
   "execution_count": 6,
   "metadata": {
    "collapsed": true
   },
   "outputs": [],
   "source": [
    "#dog.py\n",
    "\n",
    "class Dog():\n",
    "    \"\"\"Uma tentativa simples de modelar um cachorro.\"\"\"\n",
    "    \n",
    "    \n",
    "    def __init__(self, name, age):\n",
    "        \"\"\"Inicializa os atributos name e age.\"\"\"\n",
    "        self.name = name\n",
    "        self.age = age\n",
    "        \n",
    "    \n",
    "    def sit(self):\n",
    "        \"\"\"Simula um cachorro sentado em resposta a um comando.\"\"\"\n",
    "        print(self.name.title() + \" is now sitting.\")\n",
    "        \n",
    "    \n",
    "    def roll_over(self):\n",
    "        \"\"\"Simula um cachorro rolando em resposta a um comando.\"\"\"\n",
    "        print(self.name.title() + \" rolled over!\")"
   ]
  },
  {
   "cell_type": "code",
   "execution_count": 7,
   "metadata": {},
   "outputs": [
    {
     "name": "stdout",
     "output_type": "stream",
     "text": [
      "My dog's name is Willie.\n",
      "My dog is 6 years old.\n"
     ]
    }
   ],
   "source": [
    "my_dog = Dog('willie', 6)\n",
    "\n",
    "print(\"My dog's name is \" + my_dog.name.title() + \".\")\n",
    "print(\"My dog is \" + str(my_dog.age) + \" years old.\")"
   ]
  },
  {
   "cell_type": "code",
   "execution_count": 4,
   "metadata": {},
   "outputs": [
    {
     "data": {
      "text/plain": [
       "__main__.Dog"
      ]
     },
     "execution_count": 4,
     "metadata": {},
     "output_type": "execute_result"
    }
   ],
   "source": [
    "type(my_dog)"
   ]
  },
  {
   "cell_type": "code",
   "execution_count": 8,
   "metadata": {},
   "outputs": [
    {
     "name": "stdout",
     "output_type": "stream",
     "text": [
      "Willie is now sitting.\n",
      "Willie rolled over!\n"
     ]
    }
   ],
   "source": [
    "my_dog = Dog('willie', 6)\n",
    "\n",
    "my_dog.sit()\n",
    "my_dog.roll_over()"
   ]
  },
  {
   "cell_type": "code",
   "execution_count": 12,
   "metadata": {},
   "outputs": [
    {
     "name": "stdout",
     "output_type": "stream",
     "text": [
      "My dog's name is Willie.\n",
      "My dog is 6 years old.\n",
      "Willie is now sitting.\n",
      "\n",
      "Your dog's name is Lucy.\n",
      "Your dog is 3 years old.\n",
      "Lucy is now sitting.\n"
     ]
    }
   ],
   "source": [
    "my_dog = Dog('willie', 6)\n",
    "your_dog = Dog('lucy', 3)\n",
    "\n",
    "print(\"My dog's name is \" + my_dog.name.title() + \".\")\n",
    "print(\"My dog is \" + str(my_dog.age) + \" years old.\")\n",
    "my_dog.sit()\n",
    "\n",
    "print(\"\\nYour dog's name is \" + your_dog.name.title() + \".\")\n",
    "print(\"Your dog is \" + str(your_dog.age) + \" years old.\")\n",
    "your_dog.sit()"
   ]
  },
  {
   "cell_type": "markdown",
   "metadata": {},
   "source": [
    "## Exercícios"
   ]
  },
  {
   "cell_type": "markdown",
   "metadata": {},
   "source": [
    "## Exercícios 9.1"
   ]
  },
  {
   "cell_type": "code",
   "execution_count": 18,
   "metadata": {},
   "outputs": [
    {
     "name": "stdout",
     "output_type": "stream",
     "text": [
      "Mostrando os atributos do objeto:\n",
      "Nome do Restaurante: Under The Dog\n",
      "Tipo de cozinha: Contemporânea\n",
      "\n",
      "Chamando os métodos da classe\n",
      "O restaurante Under The Dog é especialista em comida contemporânea.\n",
      "O restaurante Under The Dog encontra-se aberto!\n"
     ]
    }
   ],
   "source": [
    "\"\"\"Classe Restaurante\"\"\"\n",
    "\n",
    "class Restaurant():\n",
    "    \n",
    "    def __init__(self, restaurant_name, cuisine_type):\n",
    "        \"\"\"Método para iniciar um objeto da classe Restaurant.\"\"\"\n",
    "        self.restaurant_name = restaurant_name\n",
    "        self.cuisine_type = cuisine_type\n",
    "        \n",
    "    \n",
    "    def describe_restaurant(self):\n",
    "        \"\"\"Método para mostrar as informações disponíveis do restaurante.\"\"\"\n",
    "        print(\"O restaurante \" + self.restaurant_name.title() + \" é especialista em comida \" + self.cuisine_type + \".\")\n",
    "        \n",
    "    \n",
    "    def open_restaurant(self):\n",
    "        \"\"\"Método para mostrar se o restaurante está aberto.\"\"\"\n",
    "        print(\"O restaurante \" + self.restaurant_name.title() + \" encontra-se aberto!\")\n",
    "        \n",
    "restaurant = Restaurant(\"under the dog\", \"contemporânea\")\n",
    "print(\"Mostrando os atributos do objeto:\")\n",
    "print(\"Nome do Restaurante: \" + restaurant.restaurant_name.title())\n",
    "print(\"Tipo de cozinha: \" + restaurant.cuisine_type.title())\n",
    "print(\"\\nChamando os métodos da classe\")\n",
    "restaurant.describe_restaurant()\n",
    "restaurant.open_restaurant()"
   ]
  },
  {
   "cell_type": "markdown",
   "metadata": {},
   "source": [
    "### Exercício 9.2"
   ]
  },
  {
   "cell_type": "code",
   "execution_count": 19,
   "metadata": {},
   "outputs": [
    {
     "name": "stdout",
     "output_type": "stream",
     "text": [
      "O restaurante Bar Do Amaral é especialista em comida contemporânea.\n",
      "O restaurante Vovó Lúcia é especialista em comida caseira.\n",
      "O restaurante Pinus é especialista em comida típica árabe.\n"
     ]
    }
   ],
   "source": [
    "bar_amaral = Restaurant(\"bar do amaral\", \"contemporânea\")\n",
    "vovo_lucia = Restaurant(\"vovó lúcia\", \"caseira\")\n",
    "pinus = Restaurant(\"Pinus\", \"típica árabe\")\n",
    "\n",
    "bar_amaral.describe_restaurant()\n",
    "vovo_lucia.describe_restaurant()\n",
    "pinus.describe_restaurant()"
   ]
  },
  {
   "cell_type": "markdown",
   "metadata": {},
   "source": [
    "### Exercício 9.3"
   ]
  },
  {
   "cell_type": "code",
   "execution_count": 16,
   "metadata": {},
   "outputs": [
    {
     "name": "stdout",
     "output_type": "stream",
     "text": [
      "\n",
      "Descrição do usuário\n",
      "====================\n",
      "Nome: kurt cobain\n",
      "Usuário: kurt.cobain\n",
      "E-mail: kurt@nirvana.com\n",
      "Senha: nevermind\n",
      "Bem vindo(a), Kurt Cobain.\n",
      "\n",
      "\n",
      "Descrição do usuário\n",
      "====================\n",
      "Nome: krist novoselic\n",
      "Usuário: krist.novoselic\n",
      "E-mail: krist@nirvana.com\n",
      "Senha: inutero\n",
      "Bem vindo(a), Krist Novoselic.\n",
      "\n",
      "\n",
      "Descrição do usuário\n",
      "====================\n",
      "Nome: david grohl\n",
      "Usuário: david.grohl\n",
      "E-mail: david@nirvana.com\n",
      "Senha: heartshappedbox\n",
      "Bem vindo(a), David Grohl.\n",
      "\n",
      "\n",
      "Descrição do usuário\n",
      "====================\n",
      "Nome: jason everman\n",
      "Usuário: jason.everman\n",
      "E-mail: jason@nirvana.com\n",
      "Senha: inbloom\n",
      "Bem vindo(a), Jason Everman.\n",
      "\n"
     ]
    }
   ],
   "source": [
    "class User:\n",
    "    \n",
    "    def __init__(self, first_name, last_name, user, email, password):\n",
    "        self.first_name = first_name\n",
    "        self.last_name = last_name\n",
    "        self.user = user\n",
    "        self.email = email\n",
    "        self.password = password\n",
    "        \n",
    "        \n",
    "    def describe_user(self):\n",
    "        print(\"\\nDescrição do usuário\")\n",
    "        print(\"=\"*20)\n",
    "        \n",
    "        print(\"Nome: \" + self.first_name + \" \" + self.last_name)\n",
    "        print(\"Usuário: \" + self.user)\n",
    "        print(\"E-mail: \" + self.email)\n",
    "        print(\"Senha: \" + self.password)\n",
    "        \n",
    "        \n",
    "    def greet_user(self):\n",
    "        print(\"Bem vindo(a), \" + self.first_name.title() + \" \" + self.last_name.title() + \".\\n\")\n",
    "\n",
    "\n",
    "usuario01 = User(\"kurt\", \"cobain\", \"kurt.cobain\", \"kurt@nirvana.com\", \"nevermind\")\n",
    "usuario02 = User(\"krist\", \"novoselic\", \"krist.novoselic\", \"krist@nirvana.com\", \"inutero\")\n",
    "usuario03 = User(\"david\", \"grohl\", \"david.grohl\", \"david@nirvana.com\", \"heartshappedbox\")\n",
    "usuario04 = User(\"jason\", \"everman\", \"jason.everman\", \"jason@nirvana.com\", \"inbloom\")\n",
    "\n",
    "# Criando uma lista com os usuários...\n",
    "band = [usuario01, usuario02, usuario03, usuario04]\n",
    "\n",
    "# Dentro do laço chamando os itens da lista...\n",
    "for member in band:\n",
    "    member.describe_user()\n",
    "    member.greet_user()"
   ]
  },
  {
   "cell_type": "code",
   "execution_count": 26,
   "metadata": {},
   "outputs": [
    {
     "name": "stdout",
     "output_type": "stream",
     "text": [
      "2016 Audi A4\n"
     ]
    }
   ],
   "source": [
    "#car.py\n",
    "\n",
    "class Car:\n",
    "    \"\"\"Uma tentativa simples de representar um carro.\"\"\"\n",
    "    \n",
    "    def __init__(self, make, model, year):\n",
    "        \"\"\"Inicializa os atributos que descrevem um carro.\"\"\"\n",
    "        self.make = make\n",
    "        self.model = model\n",
    "        self.year = year\n",
    "        \n",
    "        \n",
    "    def get_descriptive_name(self):\n",
    "        \"\"\"Devolve um nome descritivo, formado de modo elegante.\"\"\"\n",
    "        long_name = str(self.year) + ' ' + self.make + ' ' + self.model\n",
    "        return long_name.title()\n",
    "\n",
    "    \n",
    "car = Car(\"audi\", \"a4\", 2016)\n",
    "print(car.get_descriptive_name())"
   ]
  },
  {
   "cell_type": "code",
   "execution_count": 28,
   "metadata": {},
   "outputs": [
    {
     "name": "stdout",
     "output_type": "stream",
     "text": [
      "2016 Audi A4\n",
      "This car has 0 miles on it.\n"
     ]
    }
   ],
   "source": [
    "#car.py\n",
    "\n",
    "class Car:\n",
    "    \"\"\"Uma tentativa simples de representar um carro.\"\"\"\n",
    "    \n",
    "    def __init__(self, make, model, year):\n",
    "        \"\"\"Inicializa os atributos que descrevem um carro.\"\"\"\n",
    "        self.make = make\n",
    "        self.model = model\n",
    "        self.year = year\n",
    "        self.odometer_reading = 0\n",
    "        \n",
    "        \n",
    "    def get_descriptive_name(self):\n",
    "        \"\"\"Devolve um nome descritivo, formado de modo elegante.\"\"\"\n",
    "        long_name = str(self.year) + ' ' + self.make + ' ' + self.model\n",
    "        return long_name.title()\n",
    "    \n",
    "    \n",
    "    def read_odometer(self):\n",
    "        \"\"\"Exibe uma frase que mostra a milhagem do carro\"\"\"\n",
    "        print(\"This car has \" + str(self.odometer_reading) + \" miles on it.\")\n",
    "    \n",
    "car = Car(\"audi\", \"a4\", 2016)\n",
    "print(car.get_descriptive_name())\n",
    "car.read_odometer()"
   ]
  },
  {
   "cell_type": "code",
   "execution_count": 29,
   "metadata": {},
   "outputs": [
    {
     "name": "stdout",
     "output_type": "stream",
     "text": [
      "This car has 23 miles on it.\n"
     ]
    }
   ],
   "source": [
    "car.odometer_reading = 23\n",
    "car.read_odometer()"
   ]
  },
  {
   "cell_type": "code",
   "execution_count": 34,
   "metadata": {},
   "outputs": [
    {
     "name": "stdout",
     "output_type": "stream",
     "text": [
      "2016 Audi A4\n",
      "This car has 23 miles on it.\n"
     ]
    }
   ],
   "source": [
    "#car.py\n",
    "\n",
    "class Car:\n",
    "    \"\"\"Uma tentativa simples de representar um carro.\"\"\"\n",
    "    \n",
    "    def __init__(self, make, model, year):\n",
    "        \"\"\"Inicializa os atributos que descrevem um carro.\"\"\"\n",
    "        self.make = make\n",
    "        self.model = model\n",
    "        self.year = year\n",
    "        self.odometer_reading = 0\n",
    "        \n",
    "        \n",
    "    def get_descriptive_name(self):\n",
    "        \"\"\"Devolve um nome descritivo, formado de modo elegante.\"\"\"\n",
    "        long_name = str(self.year) + ' ' + self.make + ' ' + self.model\n",
    "        return long_name.title()\n",
    "    \n",
    "    \n",
    "    def read_odometer(self):\n",
    "        \"\"\"Exibe uma frase que mostra a milhagem do carro\"\"\"\n",
    "        print(\"This car has \" + str(self.odometer_reading) + \" miles on it.\")\n",
    "\n",
    "        \n",
    "    def update_odometer(self, mileage):\n",
    "        \"\"\"Define o valor de leitura do hodômetro com o valor especificado.\"\"\"\n",
    "        self.odometer_reading = mileage\n",
    "        \n",
    "my_new_car = Car(\"audi\", \"a4\", 2016)\n",
    "print(my_new_car.get_descriptive_name())\n",
    "\n",
    "my_new_car.update_odometer(23)\n",
    "my_new_car.read_odometer()"
   ]
  },
  {
   "cell_type": "code",
   "execution_count": 36,
   "metadata": {},
   "outputs": [
    {
     "name": "stdout",
     "output_type": "stream",
     "text": [
      "2016 Audi A4\n",
      "This car has 23 miles on it.\n",
      "This car has 36 miles on it.\n",
      "You can't roll back an odometer!\n",
      "This car has 36 miles on it.\n"
     ]
    }
   ],
   "source": [
    "#car.py\n",
    "\n",
    "class Car:\n",
    "    \"\"\"Uma tentativa simples de representar um carro.\"\"\"\n",
    "    \n",
    "    def __init__(self, make, model, year):\n",
    "        \"\"\"Inicializa os atributos que descrevem um carro.\"\"\"\n",
    "        self.make = make\n",
    "        self.model = model\n",
    "        self.year = year\n",
    "        self.odometer_reading = 0\n",
    "        \n",
    "        \n",
    "    def get_descriptive_name(self):\n",
    "        \"\"\"Devolve um nome descritivo, formado de modo elegante.\"\"\"\n",
    "        long_name = str(self.year) + ' ' + self.make + ' ' + self.model\n",
    "        return long_name.title()\n",
    "    \n",
    "    \n",
    "    def read_odometer(self):\n",
    "        \"\"\"Exibe uma frase que mostra a milhagem do carro\"\"\"\n",
    "        print(\"This car has \" + str(self.odometer_reading) + \" miles on it.\")\n",
    "\n",
    "        \n",
    "    def update_odometer(self, mileage):\n",
    "        \"\"\"\n",
    "        Define o valor de leitura do hodômetro com o valor especificado.\n",
    "        Rejeita a alteração se for tentativa de definir um valor menor para o hodômetro.\n",
    "        \"\"\"\n",
    "        if mileage >= self.odometer_reading:\n",
    "            self.odometer_reading = mileage\n",
    "        else:\n",
    "            print(\"You can't roll back an odometer!\")\n",
    "      \n",
    "\n",
    "    \n",
    "my_new_car = Car(\"audi\", \"a4\", 2016)\n",
    "print(my_new_car.get_descriptive_name())\n",
    "\n",
    "my_new_car.update_odometer(23)\n",
    "my_new_car.read_odometer()\n",
    "\n",
    "my_new_car.update_odometer(36)\n",
    "my_new_car.read_odometer()\n",
    "\n",
    "my_new_car.update_odometer(20)\n",
    "my_new_car.read_odometer()"
   ]
  },
  {
   "cell_type": "code",
   "execution_count": 37,
   "metadata": {},
   "outputs": [
    {
     "name": "stdout",
     "output_type": "stream",
     "text": [
      "2013 Subaru Outback\n",
      "This car has 23500 miles on it.\n",
      "This car has 23600 miles on it.\n"
     ]
    }
   ],
   "source": [
    "#car.py\n",
    "\n",
    "class Car:\n",
    "    \"\"\"Uma tentativa simples de representar um carro.\"\"\"\n",
    "    \n",
    "    def __init__(self, make, model, year):\n",
    "        \"\"\"Inicializa os atributos que descrevem um carro.\"\"\"\n",
    "        self.make = make\n",
    "        self.model = model\n",
    "        self.year = year\n",
    "        self.odometer_reading = 0\n",
    "        \n",
    "        \n",
    "    def get_descriptive_name(self):\n",
    "        \"\"\"Devolve um nome descritivo, formado de modo elegante.\"\"\"\n",
    "        long_name = str(self.year) + ' ' + self.make + ' ' + self.model\n",
    "        return long_name.title()\n",
    "    \n",
    "    \n",
    "    def read_odometer(self):\n",
    "        \"\"\"Exibe uma frase que mostra a milhagem do carro\"\"\"\n",
    "        print(\"This car has \" + str(self.odometer_reading) + \" miles on it.\")\n",
    "\n",
    "        \n",
    "    def update_odometer(self, mileage):\n",
    "        \"\"\"\n",
    "        Define o valor de leitura do hodômetro com o valor especificado.\n",
    "        Rejeita a alteração se for tentativa de definir um valor menor para o hodômetro.\n",
    "        \"\"\"\n",
    "        if mileage >= self.odometer_reading:\n",
    "            self.odometer_reading = mileage\n",
    "        else:\n",
    "            print(\"You can't roll back an odometer!\")\n",
    "            \n",
    "    \n",
    "    def increment_odometer(self, miles):\n",
    "        \"\"\"Soma a quantidade especificada ao valor de leitura do hodômetro\"\"\"\n",
    "        self.odometer_reading += miles\n",
    "        \n",
    "    \n",
    "my_used_car = Car(\"subaru\", \"outback\", 2013)\n",
    "print(my_used_car.get_descriptive_name())\n",
    "\n",
    "my_used_car.update_odometer(23500)\n",
    "my_used_car.read_odometer()\n",
    "\n",
    "my_used_car.increment_odometer(100)\n",
    "my_used_car.read_odometer()"
   ]
  },
  {
   "cell_type": "markdown",
   "metadata": {},
   "source": [
    "## Exercícios"
   ]
  },
  {
   "cell_type": "markdown",
   "metadata": {},
   "source": [
    "### Exercícios 9.4"
   ]
  },
  {
   "cell_type": "code",
   "execution_count": 7,
   "metadata": {},
   "outputs": [
    {
     "name": "stdout",
     "output_type": "stream",
     "text": [
      "Mostrando os atributos do objeto:\n",
      "Nome do Restaurante: Under The Dog\n",
      "Tipo de cozinha: Contemporânea\n",
      "\n",
      "Chamando os métodos da classe\n",
      "O restaurante Under The Dog é especialista em comida contemporânea.\n",
      "O restaurante Under The Dog encontra-se aberto!\n",
      "\n",
      "Atendimentod no dia: 0\n",
      "\n",
      "Atendimentod no dia alterado: 10\n",
      "\n",
      "Atendimentod no dia alterado: 12\n"
     ]
    }
   ],
   "source": [
    "\"\"\"Classe Restaurante\"\"\"\n",
    "\n",
    "class Restaurant():\n",
    "    \n",
    "    def __init__(self, restaurant_name, cuisine_type, number_served=0):\n",
    "        \"\"\"Método para iniciar um objeto da classe Restaurant.\"\"\"\n",
    "        self.restaurant_name = restaurant_name\n",
    "        self.cuisine_type = cuisine_type\n",
    "        self.number_served = number_served\n",
    "        \n",
    "        \n",
    "    def describe_restaurant(self):\n",
    "        \"\"\"Método para mostrar as informações disponíveis do restaurante.\"\"\"\n",
    "        print(\"O restaurante \" + self.restaurant_name.title() + \" é especialista em comida \" + self.cuisine_type + \".\")\n",
    "        \n",
    "        \n",
    "    def open_restaurant(self):\n",
    "        \"\"\"Método para mostrar se o restaurante está aberto.\"\"\"\n",
    "        print(\"O restaurante \" + self.restaurant_name.title() + \" encontra-se aberto!\")\n",
    "        \n",
    "        \n",
    "    def set_number_served(self, number_served):\n",
    "        \"\"\"Método para atualizar o valor do atributo number_served\"\"\"\n",
    "        self.number_served = number_served\n",
    "        \n",
    "        \n",
    "    def increment_number_served(self, number_served_add):\n",
    "        self.number_served = self.number_served + number_served_add\n",
    "        \n",
    "# Fazendo os testes da classe implementada...        \n",
    "restaurant = Restaurant(\"under the dog\", \"contemporânea\", 0)\n",
    "print(\"Mostrando os atributos do objeto:\")\n",
    "print(\"Nome do Restaurante: \" + restaurant.restaurant_name.title())\n",
    "print(\"Tipo de cozinha: \" + restaurant.cuisine_type.title())\n",
    "\n",
    "print(\"\\nChamando os métodos da classe\")\n",
    "restaurant.describe_restaurant()\n",
    "restaurant.open_restaurant()\n",
    "\n",
    "print(\"\\nAtendimentod no dia: \" + str(restaurant.number_served))\n",
    "\n",
    "restaurant.set_number_served(10)\n",
    "print(\"\\nAtendimentod no dia alterado: \" + str(restaurant.number_served))\n",
    "\n",
    "restaurant.increment_number_served(2)\n",
    "print(\"\\nAtendimentod no dia alterado: \" + str(restaurant.number_served))"
   ]
  },
  {
   "cell_type": "markdown",
   "metadata": {},
   "source": [
    "### Exercício 9.5"
   ]
  },
  {
   "cell_type": "code",
   "execution_count": 16,
   "metadata": {},
   "outputs": [
    {
     "name": "stdout",
     "output_type": "stream",
     "text": [
      "Número de tentativas: 0\n",
      "Número de tentativas: 1\n",
      "Número de tentativas: 3\n",
      "Número de tentativas: 6\n",
      "Número de tentativas: 0\n"
     ]
    }
   ],
   "source": [
    "class User:\n",
    "    \n",
    "    def __init__(self, first_name, last_name, user, email, password):\n",
    "        self.first_name = first_name\n",
    "        self.last_name = last_name\n",
    "        self.user = user\n",
    "        self.email = email\n",
    "        self.password = password\n",
    "        self.login_attempts = 0\n",
    "        \n",
    "        \n",
    "    def describe_user(self):\n",
    "        print(\"\\nDescrição do usuário\")\n",
    "        print(\"=\"*20)\n",
    "        \n",
    "        print(\"Nome: \" + self.first_name + \" \" + self.last_name)\n",
    "        print(\"Usuário: \" + self.user)\n",
    "        print(\"E-mail: \" + self.email)\n",
    "        print(\"Senha: \" + self.password)\n",
    "        \n",
    "        \n",
    "    def greet_user(self):\n",
    "        print(\"Bem vindo(a), \" + self.first_name.title() + \" \" + self.last_name.title() + \".\\n\")\n",
    "        \n",
    "        \n",
    "    def get_login_attempts(self):\n",
    "        return self.login_attempts\n",
    "        \n",
    "        \n",
    "    def increment_login_attempts(self, attempts):\n",
    "        self.login_attempts = self.login_attempts + attempts\n",
    "        \n",
    "        \n",
    "    def reset_login_attempts(self):\n",
    "        self.login_attempts = 0\n",
    "        \n",
    "\n",
    "usuario01 = User(\"kurt\", \"cobain\", \"kurt.cobain\", \"kurt@nirvana.com\", \"nevermind\")\n",
    "\n",
    "print(\"Número de tentativas: \" + str(usuario01.get_login_attempts()))\n",
    "\n",
    "# Incrementando o número de tentativas de login...\n",
    "usuario01.increment_login_attempts(1)\n",
    "print(\"Número de tentativas: \" + str(usuario01.get_login_attempts()))\n",
    "\n",
    "# Incrementando o número de tentativas de login...\n",
    "usuario01.increment_login_attempts(2)\n",
    "print(\"Número de tentativas: \" + str(usuario01.get_login_attempts()))\n",
    "\n",
    "# Incrementando o número de tentativas de login...\n",
    "usuario01.increment_login_attempts(3)\n",
    "print(\"Número de tentativas: \" + str(usuario01.get_login_attempts()))\n",
    "\n",
    "# Resetando as tentativas de login...\n",
    "usuario01.reset_login_attempts()\n",
    "print(\"Número de tentativas: \" + str(usuario01.get_login_attempts()))"
   ]
  },
  {
   "cell_type": "markdown",
   "metadata": {},
   "source": [
    "## Heranças"
   ]
  },
  {
   "cell_type": "code",
   "execution_count": 19,
   "metadata": {},
   "outputs": [
    {
     "name": "stdout",
     "output_type": "stream",
     "text": [
      "2016 Tesla Model S\n"
     ]
    }
   ],
   "source": [
    "class Car():\n",
    "    \"\"\"Uma tentativa simples de representar um carro\"\"\"\n",
    "    \n",
    "    def __init__(self, make, model, year):\n",
    "        self.make = make\n",
    "        self.model = model\n",
    "        self.year = year\n",
    "        self.odometer_reading = 0\n",
    "        \n",
    "        \n",
    "    def get_descriptive_name(self):\n",
    "        long_name = str(self.year) + \" \" + self.make + \" \" + self.model\n",
    "        return long_name.title()\n",
    "    \n",
    "    \n",
    "    def read_odometer(self):\n",
    "        print(\"This car has \" + str(self.odometer_reading) + \" miles on it.\")\n",
    "        \n",
    "        \n",
    "    def update_odometer(self, mileage):\n",
    "        if mileage >= self.odometer_reading:\n",
    "            self.odometer_reading = mileage\n",
    "        else:\n",
    "            print(\"You can't roll back an odometer!\")\n",
    "            \n",
    "    \n",
    "    def increment_odometer(self, miles):\n",
    "        self.odometer_reading += miles\n",
    "        \n",
    "        \n",
    "class EletricCar(Car):\n",
    "    \"\"\"Representa aspectos de um carro específicos de veículos elétricos\"\"\"\n",
    "    \n",
    "    def __init__(self, make, model, year):\n",
    "        \"\"\"Inicializa os atributos da classe-pai\"\"\"\n",
    "        # super(EletricCar, self).__init__(make, model, year) in the Python 2.7.x\n",
    "        super().__init__(make, model, year)\n",
    "        \n",
    "        \n",
    "# Instancionando um objeto da classe EletricCar()\n",
    "my_tesla = EletricCar('tesla', 'model S', 2016)\n",
    "print(my_tesla.get_descriptive_name())"
   ]
  },
  {
   "cell_type": "markdown",
   "metadata": {},
   "source": [
    "## Definindo atributos e métodos da classe-filha"
   ]
  },
  {
   "cell_type": "code",
   "execution_count": 20,
   "metadata": {},
   "outputs": [
    {
     "name": "stdout",
     "output_type": "stream",
     "text": [
      "2016 Tesla Model S\n",
      "This car has a 70 kwh baterry.\n"
     ]
    }
   ],
   "source": [
    "class EletricCar(Car):\n",
    "    \"\"\"Representa aspectos de um carro específicos de veículos elétricos\"\"\"\n",
    "    \n",
    "    def __init__(self, make, model, year):\n",
    "        \n",
    "        \"\"\"Inicializa os atributos da classe-pai\"\"\"\n",
    "        super().__init__(make, model, year)\n",
    "        \n",
    "        \"\"\"Em seguida, inicializa os atributos específicos de um carro elétrico\"\"\"\n",
    "        self.battery_size = 70\n",
    "       \n",
    "    \n",
    "    def describe_battery(self):\n",
    "        \"\"\"Exibe uma frase que descreve acapacidade da bateria.\"\"\"\n",
    "        print(\"This car has a \" + str(self.battery_size) + \" kwh baterry.\")\n",
    "        \n",
    "# Instancionando um objeto da classe EletricCar()\n",
    "my_tesla = EletricCar('tesla', 'model S', 2016)\n",
    "print(my_tesla.get_descriptive_name())\n",
    "my_tesla.describe_battery()"
   ]
  },
  {
   "cell_type": "markdown",
   "metadata": {},
   "source": [
    "## Sobrescrevendo métodos da classe-pai"
   ]
  },
  {
   "cell_type": "code",
   "execution_count": 22,
   "metadata": {},
   "outputs": [
    {
     "name": "stdout",
     "output_type": "stream",
     "text": [
      "This car doesn't need a gas tank.\n"
     ]
    }
   ],
   "source": [
    "class Car():\n",
    "    \"\"\"Uma tentativa simples de representar um carro\"\"\"\n",
    "    \n",
    "    def __init__(self, make, model, year):\n",
    "        self.make = make\n",
    "        self.model = model\n",
    "        self.year = year\n",
    "        self.odometer_reading = 0\n",
    "        \n",
    "        \n",
    "    def get_descriptive_name(self):\n",
    "        long_name = str(self.year) + \" \" + self.make + \" \" + self.model\n",
    "        return long_name.title()\n",
    "    \n",
    "    \n",
    "    def read_odometer(self):\n",
    "        print(\"This car has \" + str(self.odometer_reading) + \" miles on it.\")\n",
    "        \n",
    "        \n",
    "    def update_odometer(self, mileage):\n",
    "        if mileage >= self.odometer_reading:\n",
    "            self.odometer_reading = mileage\n",
    "        else:\n",
    "            print(\"You can't roll back an odometer!\")\n",
    "            \n",
    "    \n",
    "    def increment_odometer(self, miles):\n",
    "        self.odometer_reading += miles\n",
    "        \n",
    "        \n",
    "    def fill_gas_tank(self):\n",
    "        pass\n",
    "        \n",
    "        \n",
    "class EletricCar(Car):\n",
    "    \"\"\"Representa aspectos de um carro específicos de veículos elétricos\"\"\"\n",
    "    \n",
    "    def __init__(self, make, model, year):\n",
    "        \"\"\"Inicializa os atributos da classe-pai\"\"\"\n",
    "        # super(EletricCar, self).__init__(make, model, year) in the Python 2.7.x\n",
    "        super().__init__(make, model, year)\n",
    "        \n",
    "        \n",
    "    def fill_gas_tank(self):\n",
    "        \"\"\"Carros elétricos não têm tanques de gasolina\"\"\"\n",
    "        print(\"This car doesn't need a gas tank.\")\n",
    "        \n",
    "# Instancionando um objeto da classe EletricCar()\n",
    "my_tesla = EletricCar('tesla', 'model S', 2016)\n",
    "my_old_car = Car('fiat', 'bravo', 2017)\n",
    "my_old_car.fill_gas_tank()\n",
    "my_tesla.fill_gas_tank()\n"
   ]
  },
  {
   "cell_type": "markdown",
   "metadata": {},
   "source": [
    "## Instância como atributos"
   ]
  },
  {
   "cell_type": "code",
   "execution_count": 23,
   "metadata": {},
   "outputs": [
    {
     "name": "stdout",
     "output_type": "stream",
     "text": [
      "This car has a 70-kWh battery.\n"
     ]
    }
   ],
   "source": [
    "\"\"\"Classe Battery\"\"\"\n",
    "class Battery():\n",
    "    \"\"\"Uma tentativa simples de modelar uma bateria para um carro elétrico.\"\"\"\n",
    "    \n",
    "    def __init__(self, battery_size=70):\n",
    "        \"\"\"Inicializando os atributos da bateria\"\"\"\n",
    "        self.battery_size = battery_size\n",
    "        \n",
    "    \n",
    "    def describe_battery(self):\n",
    "        \"\"\"Exibe uma frase que descreve a capacidade da bateria\"\"\"\n",
    "        print(\"This car has a \" + str(self.battery_size) + \"-kWh battery.\")\n",
    "\n",
    "\n",
    "\"\"\"Classe EletricCar\"\"\"\n",
    "class EletricCar(Car):\n",
    "    \"\"\"Representa aspectos de um carro específicos de veículos elétricos\"\"\"\n",
    "    \n",
    "    def __init__(self, make, model, year):\n",
    "        \"\"\"Inicializa os atributos da classe-pai\"\"\"\n",
    "        # super(EletricCar, self).__init__(make, model, year) in the Python 2.7.x\n",
    "        super().__init__(make, model, year)\n",
    "        \n",
    "        self.battery = Battery()\n",
    "        \n",
    "        \n",
    "    def fill_gas_tank(self):\n",
    "        \"\"\"Carros elétricos não têm tanques de gasolina\"\"\"\n",
    "        print(\"This car doesn't need a gas tank.\")\n",
    "        \n",
    "        \n",
    "my_tesla = EletricCar('tesla', 'model S', 2016)\n",
    "my_tesla.battery.describe_battery()"
   ]
  },
  {
   "cell_type": "code",
   "execution_count": 24,
   "metadata": {},
   "outputs": [
    {
     "name": "stdout",
     "output_type": "stream",
     "text": [
      "2016 Tesla Model S\n",
      "This car has a 70-kWh battery.\n",
      "This car can go approximately 240 miles on a full charge.\n"
     ]
    }
   ],
   "source": [
    "class Battery():\n",
    "    \"\"\"Uma tentativa simples de modelar uma bateria para um carro elétrico.\"\"\"\n",
    "    \n",
    "    def __init__(self, battery_size=70):\n",
    "        \"\"\"Inicializando os atributos da bateria\"\"\"\n",
    "        self.battery_size = battery_size\n",
    "        \n",
    "    \n",
    "    def describe_battery(self):\n",
    "        \"\"\"Exibe uma frase que descreve a capacidade da bateria\"\"\"\n",
    "        print(\"This car has a \" + str(self.battery_size) + \"-kWh battery.\")\n",
    "        \n",
    "        \n",
    "    def get_range(self):\n",
    "        if self.battery_size == 70:\n",
    "            range = 240\n",
    "        elif self.battery_size == 85:\n",
    "            range = 270\n",
    "            \n",
    "        message = \"This car can go approximately \" + str(range)\n",
    "        message += \" miles on a full charge.\"\n",
    "        print(message)\n",
    "            \n",
    "            \n",
    "my_tesla = EletricCar('tesla', 'model S', 2016)\n",
    "print(my_tesla.get_descriptive_name())\n",
    "my_tesla.battery.describe_battery()\n",
    "my_tesla.battery.get_range()\n"
   ]
  },
  {
   "cell_type": "markdown",
   "metadata": {},
   "source": [
    "## Exercícios"
   ]
  },
  {
   "cell_type": "markdown",
   "metadata": {},
   "source": [
    "### Exercício 9.6"
   ]
  },
  {
   "cell_type": "code",
   "execution_count": 34,
   "metadata": {},
   "outputs": [
    {
     "name": "stdout",
     "output_type": "stream",
     "text": [
      "Mostrando os atributos do objeto:\n",
      "Nome do Restaurante: Mommy'S Ice Cream\n",
      "Tipo de cozinha: Sorveteria\n",
      "\n",
      "Chamando os métodos da classe\n",
      "O restaurante Mommy'S Ice Cream é especialista em sorveteria.\n",
      "O restaurante Mommy'S Ice Cream encontra-se aberto!\n",
      "Nossos sabores hoje são: \n",
      "- Vanilla\n",
      "- Chocolate\n",
      "- Cookies & Cream\n",
      "- Mint Chocolate Chip\n",
      "- Salted Caramel Pretzel\n"
     ]
    }
   ],
   "source": [
    "\"\"\"Classe Restaurante\"\"\"\n",
    "class Restaurant():\n",
    "    \n",
    "    def __init__(self, restaurant_name, cuisine_type, number_served=0):\n",
    "        \"\"\"Método para iniciar um objeto da classe Restaurant.\"\"\"\n",
    "        self.restaurant_name = restaurant_name\n",
    "        self.cuisine_type = cuisine_type\n",
    "        self.number_served = number_served\n",
    "        \n",
    "        \n",
    "    def describe_restaurant(self):\n",
    "        \"\"\"Método para mostrar as informações disponíveis do restaurante.\"\"\"\n",
    "        print(\"O restaurante \" + self.restaurant_name.title() + \" é especialista em \" + self.cuisine_type + \".\")\n",
    "        \n",
    "        \n",
    "    def open_restaurant(self):\n",
    "        \"\"\"Método para mostrar se o restaurante está aberto.\"\"\"\n",
    "        print(\"O restaurante \" + self.restaurant_name.title() + \" encontra-se aberto!\")\n",
    "        \n",
    "        \n",
    "    def set_number_served(self, number_served):\n",
    "        \"\"\"Método para atualizar o valor do atributo number_served\"\"\"\n",
    "        self.number_served = number_served\n",
    "        \n",
    "        \n",
    "    def increment_number_served(self, number_served_add):\n",
    "        self.number_served = self.number_served + number_served_add\n",
    "        \n",
    "        \n",
    "\"\"\"Classe IceCreamStand\"\"\"\n",
    "class IceCreamStand(Restaurant):\n",
    "    \n",
    "    def __init__(self, restaurant_name, cuisine_type, number_served=0):\n",
    "        \n",
    "        \"\"\"Iniciando a classe-pai\"\"\"\n",
    "        super().__init__(restaurant_name, cuisine_type, number_served)\n",
    "        \n",
    "        \"\"\"Iniciando atributo da classe\"\"\"\n",
    "        self.flavors = ['vanilla', 'chocolate', 'cookies & cream', 'mint chocolate chip','salted caramel pretzel']\n",
    "        \n",
    "    def describe_flavors(self):\n",
    "        print(\"Nossos sabores hoje são: \")\n",
    "        for flavor in self.flavors:\n",
    "            print(\"- \" + flavor.title())\n",
    "        \n",
    "        \n",
    "# Fazendo os testes da classe implementada...        \n",
    "restaurant = IceCreamStand(\"mommy's ice cream\", \"sorveteria\", 0)\n",
    "print(\"Mostrando os atributos do objeto:\")\n",
    "print(\"Nome do Restaurante: \" + restaurant.restaurant_name.title())\n",
    "print(\"Tipo de cozinha: \" + restaurant.cuisine_type.title())\n",
    "\n",
    "print(\"\\nChamando os métodos da classe\")\n",
    "restaurant.describe_restaurant()\n",
    "restaurant.open_restaurant()\n",
    "restaurant.describe_flavors()"
   ]
  },
  {
   "cell_type": "markdown",
   "metadata": {},
   "source": [
    "### Exercício 9.7"
   ]
  },
  {
   "cell_type": "code",
   "execution_count": 39,
   "metadata": {},
   "outputs": [
    {
     "name": "stdout",
     "output_type": "stream",
     "text": [
      "- can add post\n",
      "- can delete post\n",
      "- can ban user\n"
     ]
    }
   ],
   "source": [
    "class User:\n",
    "    \n",
    "    def __init__(self, first_name, last_name, user, email, password):\n",
    "        self.first_name = first_name\n",
    "        self.last_name = last_name\n",
    "        self.user = user\n",
    "        self.email = email\n",
    "        self.password = password\n",
    "        self.login_attempts = 0\n",
    "        \n",
    "        \n",
    "    def describe_user(self):\n",
    "        print(\"\\nDescrição do usuário\")\n",
    "        print(\"=\"*20)\n",
    "        \n",
    "        print(\"Nome: \" + self.first_name + \" \" + self.last_name)\n",
    "        print(\"Usuário: \" + self.user)\n",
    "        print(\"E-mail: \" + self.email)\n",
    "        print(\"Senha: \" + self.password)\n",
    "        \n",
    "        \n",
    "    def greet_user(self):\n",
    "        print(\"Bem vindo(a), \" + self.first_name.title() + \" \" + self.last_name.title() + \".\\n\")\n",
    "        \n",
    "        \n",
    "    def get_login_attempts(self):\n",
    "        return self.login_attempts\n",
    "        \n",
    "        \n",
    "    def increment_login_attempts(self, attempts):\n",
    "        self.login_attempts = self.login_attempts + attempts\n",
    "        \n",
    "        \n",
    "    def reset_login_attempts(self):\n",
    "        self.login_attempts = 0\n",
    "\n",
    "\n",
    "        \n",
    "class Admin(User):\n",
    "    \"\"\"Iniciando método da classe pai\"\"\"\n",
    "    def __init__(self, first_name, last_name, user, email, password):\n",
    "        super().__init__(first_name, last_name, user, email, password)\n",
    "        \n",
    "        \n",
    "        \"\"\"Atributo exclusivo da classe filha\"\"\"\n",
    "        self.privileges = ['can add post', 'can delete post', 'can ban user']\n",
    "        \n",
    "        \n",
    "    def show_privileges(self):\n",
    "        for privilege in self.privileges:\n",
    "            print(\"- \" + privilege)\n",
    "\n",
    "            \n",
    "usuario01 = Admin(\"kurt\", \"cobain\", \"kurt.cobain\", \"kurt@nirvana.com\", \"nevermind\")\n",
    "usuario01.show_privileges()"
   ]
  },
  {
   "cell_type": "markdown",
   "metadata": {},
   "source": [
    "### Exercício 9.8"
   ]
  },
  {
   "cell_type": "code",
   "execution_count": 41,
   "metadata": {},
   "outputs": [
    {
     "name": "stdout",
     "output_type": "stream",
     "text": [
      "- can add post\n",
      "- can delete post\n",
      "- can ban user\n"
     ]
    }
   ],
   "source": [
    "\"\"\"Classe Admin\"\"\"\n",
    "class Admin(User):\n",
    "    \"\"\"Iniciando método da classe pai\"\"\"\n",
    "    def __init__(self, first_name, last_name, user, email, password):\n",
    "        super().__init__(first_name, last_name, user, email, password)\n",
    "        \n",
    "        \n",
    "        \"\"\"Atributo exclusivo da classe filha\"\"\"\n",
    "        self.privileges = Privileges()\n",
    "\n",
    "\n",
    "\"\"\"Classe Privileges\"\"\"            \n",
    "class Privileges():\n",
    "    \n",
    "    def __init__(self):\n",
    "        self.privileges = ['can add post', 'can delete post', 'can ban user']\n",
    "        \n",
    "    \n",
    "    def show_privileges(self):\n",
    "        for privilege in self.privileges:\n",
    "            print(\"- \" + privilege)\n",
    "            \n",
    "            \n",
    "usuario01 = Admin(\"kurt\", \"cobain\", \"kurt.cobain\", \"kurt@nirvana.com\", \"nevermind\")\n",
    "usuario01.privileges.show_privileges()"
   ]
  },
  {
   "cell_type": "markdown",
   "metadata": {},
   "source": [
    "### Exercício 9.9"
   ]
  },
  {
   "cell_type": "code",
   "execution_count": 45,
   "metadata": {},
   "outputs": [
    {
     "name": "stdout",
     "output_type": "stream",
     "text": [
      "2016 Tesla Model S\n",
      "This car has a 70-kWh battery.\n",
      "This car can go approximately 240 miles on a full charge.\n",
      "\n",
      "Upgrade de bateria...\n",
      "This car has a 85-kWh battery.\n",
      "This car can go approximately 270 miles on a full charge.\n"
     ]
    }
   ],
   "source": [
    "class Battery():\n",
    "    \"\"\"Uma tentativa simples de modelar uma bateria para um carro elétrico.\"\"\"\n",
    "    \n",
    "    def __init__(self, battery_size=70):\n",
    "        \"\"\"Inicializando os atributos da bateria\"\"\"\n",
    "        self.battery_size = battery_size\n",
    "        \n",
    "    \n",
    "    def describe_battery(self):\n",
    "        \"\"\"Exibe uma frase que descreve a capacidade da bateria\"\"\"\n",
    "        print(\"This car has a \" + str(self.battery_size) + \"-kWh battery.\")\n",
    "        \n",
    "        \n",
    "    def get_range(self):\n",
    "        if self.battery_size == 70:\n",
    "            range = 240\n",
    "        elif self.battery_size == 85:\n",
    "            range = 270\n",
    "            \n",
    "        message = \"This car can go approximately \" + str(range)\n",
    "        message += \" miles on a full charge.\"\n",
    "        print(message)\n",
    "        \n",
    "    \n",
    "    def upgrade_battery(self):\n",
    "        if self.battery_size != 85:\n",
    "            self.battery_size = 85\n",
    "            \n",
    "            \n",
    "my_tesla = EletricCar('tesla', 'model S', 2016)\n",
    "print(my_tesla.get_descriptive_name())\n",
    "my_tesla.battery.describe_battery()\n",
    "my_tesla.battery.get_range()\n",
    "\n",
    "# Alterando o valor da bateria (upgrade)\n",
    "my_tesla.battery.upgrade_battery()\n",
    "print(\"\\nUpgrade de bateria...\")\n",
    "my_tesla.battery.describe_battery()\n",
    "my_tesla.battery.get_range()"
   ]
  },
  {
   "cell_type": "markdown",
   "metadata": {},
   "source": [
    "## Importando classes"
   ]
  },
  {
   "cell_type": "code",
   "execution_count": 46,
   "metadata": {},
   "outputs": [],
   "source": [
    "# Códigos na pasta cap-09-classes/codes"
   ]
  },
  {
   "cell_type": "markdown",
   "metadata": {},
   "source": [
    "## Exercícios"
   ]
  },
  {
   "cell_type": "code",
   "execution_count": null,
   "metadata": {},
   "outputs": [],
   "source": [
    "# Exercícios na pasta cap-09-classes/exercicios"
   ]
  },
  {
   "cell_type": "markdown",
   "metadata": {},
   "source": [
    "## Biblioteca Padrão do Python"
   ]
  },
  {
   "cell_type": "code",
   "execution_count": 2,
   "metadata": {},
   "outputs": [
    {
     "name": "stdout",
     "output_type": "stream",
     "text": [
      "Jen's favorite language is Python.\n",
      "Sarah's favorite language is C.\n",
      "Edward's favorite language is Ruby.\n",
      "Phill's favorite language is Python.\n"
     ]
    }
   ],
   "source": [
    "from collections import OrderedDict\n",
    "\n",
    "favorite_languages = OrderedDict()\n",
    "\n",
    "favorite_languages['jen'] = 'python'\n",
    "favorite_languages['sarah'] = 'c'\n",
    "favorite_languages['edward'] = 'ruby'\n",
    "favorite_languages['phill'] = 'python'\n",
    "\n",
    "for name, language in favorite_languages.items():\n",
    "    print(name.title() + \"'s favorite language is \" + language.title() + \".\")"
   ]
  },
  {
   "cell_type": "markdown",
   "metadata": {},
   "source": [
    "## Exercícios"
   ]
  },
  {
   "cell_type": "markdown",
   "metadata": {},
   "source": [
    "### Exercício 9.13"
   ]
  },
  {
   "cell_type": "code",
   "execution_count": 8,
   "metadata": {},
   "outputs": [
    {
     "name": "stdout",
     "output_type": "stream",
     "text": [
      "Python : Python é Uma Linguagem De ProgramaçãO De Alto NíVel,[4] Interpretada, De Script, Imperativa, Orientada A Objetos, Funcional, De Tipagem DinâMica E Forte. Foi LançAda Por Guido Van Rossum Em 1991.[1] Atualmente Possui Um Modelo De Desenvolvimento ComunitáRio, Aberto E Gerenciado Pela OrganizaçãO Sem Fins Lucrativos Python Software Foundation. Apesar De VáRias Partes Da Linguagem PossuíRem PadrõEs E EspecificaçõEs Formais, A Linguagem Como Um Todo NãO é Formalmente Especificada. O PadrãO De Facto é A ImplementaçãO Cpython.\n",
      "\n",
      "Guido Van Rossum : Guido Van Rossum (Haarlem, 31 De Janeiro De 1956) é Um Programador De Computadores Dos NeerlandêS, Mais Conhecido Por Ser O Autor Da Linguagem De ProgramaçãO Python.\n",
      "\n",
      "Cpython : ImplementaçãO Principal Da Linguagem De ProgramaçãO Python, Escrita Em Linguagem C. É Desenvolvida E Mantida Por Guido Van Rossum E Diversos Outros Desenvolvedores Espalhados Pelo Mundo.\n",
      "\n",
      "Monty Python : Monty Python Ou The Pythons [1][2] é Um Grupo De ComéDia BritâNico, Que Foram Os Criadores E IntéRpretes Da SéRie CôMica Monty Pythons Flying Circus, Um Programa De TelevisãO BritâNico Que Foi Ao Ar Pela Primeira Vez Em 5 De Outubro De 1969. \n",
      "\n",
      "ProgramaçãO Orientada A Objetos : (TambéM Conhecida Pela Sua Sigla Poo) é Um Modelo De AnáLise, Projeto E ProgramaçãO De Sistemas De Software Baseado Na ComposiçãO E InteraçãO Entre Diversas Unidades De Software Chamadas De Objetos.\n",
      "\n",
      "Python Software Foundation : (TambéM Conhecida Por Psf) é Uma OrganizaçãO Sem Fins Lucrativos Que Se Dedica à Linguagem De ProgramaçãO Python. Foi Fundada Em 6 De MarçO De 2001.\n",
      "\n",
      "Cgi : (Sigla Em InglêS Para Common Gateway Interface), Consiste Numa Importante Tecnologia Que Permite Gerar PáGinas DinâMicas, Permitindo A Um Navegador Passar ParâMetros Para Um Programa Alojado Num Servidor Web. Assim, Designam-Se Por Scripts Cgi Os Pequenos Programas Que Interpretam Esses ParâMetros E Geram A PáGina Depois De Os Processar.\n",
      "\n",
      "Amoeba : é Um Sistema Operacional Distribuido Baseado Em MicronúCleo E De CóDigo Aberto, Criado Por Andrew S. Tanenbaum E Outros Na Universidade Vrije Na Holanda. O Objetivo Do Projeto Era Construir Um Sistema Operacional De Tempo Compartilhado Que Fizesse Um Conjunto De Computadores Em Rede Comportar-Se Como Uma úNica MáQuina Ao UsuáRio. O Desenvolvimento Do Sistema Aparentemente Foi Interrompido Pois Os Arquivos Da úLtima VersãO (5.3) Datam De 12 De Fevereiro De 2001.\n",
      "\n",
      "Modula-3 : Modula-3 é Uma Linguagem De ProgramaçãO Concebida Como A Sucessora De Uma VersãO Atualizada Do Modula-2. Apesar De Ter Sido Influente Nos Meios De Pesquisa, Influenciando O Desenvolvimento De Linguagens Comerciais Como Java E C#), Nunca Atingiu AdoçãO Na IndúStria De Forma ConsideráVel. Foi Desenvolvida Por Luca Cardelli, Jim Donahue, Mick Jordan, Bill Kalsow E Greg Nelson No Centro De Pesquisa Da Digital Equipment Corporation E Na Olivetti Durante O Final Da DéCada De 1980. Seu Desenvolvimento Foi Influenciado Pelo Trabalho No Modula-2+, Em Uso Na Dec Na Mesma éPoca E Que Serviu Para A Escrita Do Sistema Operacional Do Multiprocessador Dec Firefly.\n",
      "\n",
      "Darpa :  (Defense Advanced Research Projects Agency, AgêNcia De Projetos De Pesquisa AvançAda De Defesa) Foi Criada Em Fevereiro De 1958 (Como Arpa) Por Militares E Pesquisadores Americanos Sob A SupervisãO Do Presidente Eisenhower, Numa ReaçãO Dos Estados Unidos à VitóRia TecnolóGica Da EntãO UniãO SoviéTica Com O LançAmento Do Primeiro SatéLite Artificial, O Sputnik 1.\n",
      "\n"
     ]
    }
   ],
   "source": [
    "from collections import OrderedDict\n",
    "\n",
    "glossario = OrderedDict()\n",
    "\n",
    "glossario['python'] = 'Python é uma linguagem de programação de alto nível,[4] interpretada, de script, imperativa, orientada a objetos, funcional, de tipagem dinâmica e forte. Foi lançada por Guido van Rossum em 1991.[1] Atualmente possui um modelo de desenvolvimento comunitário, aberto e gerenciado pela organização sem fins lucrativos Python Software Foundation. Apesar de várias partes da linguagem possuírem padrões e especificações formais, a linguagem como um todo não é formalmente especificada. O padrão de facto é a implementação CPython.'\n",
    "    \n",
    "glossario['guido van rossum'] = 'Guido van Rossum (Haarlem, 31 de janeiro de 1956) é um programador de computadores dos neerlandês, mais conhecido por ser o autor da linguagem de programação Python.'\n",
    "\n",
    "glossario['cpython'] = 'implementação principal da linguagem de programação Python, escrita em Linguagem C. É desenvolvida e mantida por Guido van Rossum e diversos outros desenvolvedores espalhados pelo mundo.'\n",
    "\n",
    "glossario['monty python'] = 'Monty Python ou The Pythons [1][2] é um grupo de comédia britânico, que foram os criadores e intérpretes da série cômica Monty Pythons Flying Circus, um programa de televisão britânico que foi ao ar pela primeira vez em 5 de outubro de 1969. '\n",
    "    \n",
    "glossario['programação orientada a objetos'] = '(também conhecida pela sua sigla POO) é um modelo de análise, projeto e programação de sistemas de software baseado na composição e interação entre diversas unidades de software chamadas de objetos.'\n",
    "\n",
    "glossario['python software foundation'] = '(também conhecida por PSF) é uma organização sem fins lucrativos que se dedica à linguagem de programação Python. Foi fundada em 6 de Março de 2001.'\n",
    "    \n",
    "glossario['cgi'] = '(sigla em inglês para Common Gateway Interface), consiste numa importante tecnologia que permite gerar páginas dinâmicas, permitindo a um navegador passar parâmetros para um programa alojado num servidor web. Assim, designam-se por scripts CGI os pequenos programas que interpretam esses parâmetros e geram a página depois de os processar.'\n",
    "    \n",
    "glossario['amoeba'] = 'é um sistema operacional distribuido baseado em micronúcleo e de código aberto, criado por Andrew S. Tanenbaum e outros na Universidade Vrije na Holanda. O objetivo do projeto era construir um sistema operacional de tempo compartilhado que fizesse um conjunto de computadores em rede comportar-se como uma única máquina ao usuário. O desenvolvimento do sistema aparentemente foi interrompido pois os arquivos da última versão (5.3) datam de 12 de fevereiro de 2001.'\n",
    "\n",
    "glossario['modula-3'] = 'Modula-3 é uma linguagem de programação concebida como a sucessora de uma versão atualizada do Modula-2. Apesar de ter sido influente nos meios de pesquisa, influenciando o desenvolvimento de linguagens comerciais como Java e C#), nunca atingiu adoção na indústria de forma considerável. Foi desenvolvida por Luca Cardelli, Jim Donahue, Mick Jordan, Bill Kalsow e Greg Nelson no centro de pesquisa da Digital Equipment Corporation e na Olivetti durante o final da década de 1980. Seu desenvolvimento foi influenciado pelo trabalho no Modula-2+, em uso na DEC na mesma época e que serviu para a escrita do sistema operacional do multiprocessador DEC Firefly.'\n",
    "\n",
    "glossario['darpa'] = ' (Defense Advanced Research Projects Agency, Agência de Projetos de Pesquisa Avançada de Defesa) foi criada em fevereiro de 1958 (como ARPA) por militares e pesquisadores americanos sob a supervisão do presidente Eisenhower, numa reação dos Estados Unidos à vitória tecnológica da então União Soviética com o lançamento do primeiro satélite artificial, o Sputnik 1.'\n",
    "\n",
    "for key, value in glossario.items():\n",
    "    print(key.title() + \" : \" + value.title() + \"\\n\")"
   ]
  },
  {
   "cell_type": "markdown",
   "metadata": {},
   "source": [
    "### Exercício 9.14"
   ]
  },
  {
   "cell_type": "code",
   "execution_count": 35,
   "metadata": {},
   "outputs": [
    {
     "name": "stdout",
     "output_type": "stream",
     "text": [
      "\n",
      "Dado d06\n",
      "6\n",
      "10\n",
      "Jogada d06 = 5\n",
      "10\n",
      "Jogada d06 = 3\n",
      "10\n",
      "Jogada d06 = 5\n",
      "10\n",
      "Jogada d06 = 1\n",
      "10\n",
      "Jogada d06 = 9\n",
      "10\n",
      "Jogada d06 = 4\n",
      "10\n",
      "Jogada d06 = 2\n",
      "10\n",
      "Jogada d06 = 5\n",
      "10\n",
      "Jogada d06 = 2\n",
      "10\n",
      "Jogada d06 = 10\n",
      "\n",
      "Dado d10\n",
      "10\n",
      "Jogada d10 = 4\n",
      "10\n",
      "Jogada d10 = 9\n",
      "10\n",
      "Jogada d10 = 6\n",
      "10\n",
      "Jogada d10 = 4\n",
      "10\n",
      "Jogada d10 = 7\n",
      "10\n",
      "Jogada d10 = 2\n",
      "10\n",
      "Jogada d10 = 1\n",
      "10\n",
      "Jogada d10 = 10\n",
      "10\n",
      "Jogada d10 = 5\n",
      "10\n",
      "Jogada d10 = 7\n",
      "\n",
      "Dado d20\n",
      "10\n",
      "Jogada d20 = 10\n",
      "10\n",
      "Jogada d20 = 10\n",
      "10\n",
      "Jogada d20 = 8\n",
      "10\n",
      "Jogada d20 = 4\n",
      "10\n",
      "Jogada d20 = 10\n",
      "10\n",
      "Jogada d20 = 9\n",
      "10\n",
      "Jogada d20 = 9\n",
      "10\n",
      "Jogada d20 = 3\n",
      "10\n",
      "Jogada d20 = 9\n",
      "10\n",
      "Jogada d20 = 7\n"
     ]
    }
   ],
   "source": [
    "from random import randint\n",
    "\n",
    "class Die:\n",
    "    \n",
    "    def __init__(self, sides = 6):\n",
    "        self.sides = sides\n",
    "    \n",
    "    def roll_die(self):\n",
    "        \"\"\"Método que retorna um valor aleatório inteiro entre 1 e <sides>\"\"\"\n",
    "        print(self.sides)\n",
    "        return randint(1,self.sides)\n",
    "    \n",
    "\n",
    "# Testando a classe\n",
    "\n",
    "# Definindo os dados...\n",
    "d06 = Die()\n",
    "\n",
    "# Rolando 10x o d06...\n",
    "print (\"\\nDado d06\")\n",
    "print(d06.sides)\n",
    "for i in range(0,10):\n",
    "    print (\"Jogada d06 = \" + str(d10.roll_die()))\n",
    "\n",
    "d10 = Die(10)\n",
    "\n",
    "# Rolando 10x o d10...\n",
    "print (\"\\nDado d10\")\n",
    "for i in range(0,10):\n",
    "    print (\"Jogada d10 = \" + str(d10.roll_die()))\n",
    "        \n",
    "d20 = Die(20)\n",
    "# Rolando 10x o d20...\n",
    "print (\"\\nDado d20\")\n",
    "for i in range(0,10):\n",
    "    print (\"Jogada d20 = \" + str(d10.roll_die()))"
   ]
  },
  {
   "cell_type": "code",
   "execution_count": null,
   "metadata": {},
   "outputs": [],
   "source": []
  }
 ],
 "metadata": {
  "kernelspec": {
   "display_name": "Python 3",
   "language": "python",
   "name": "python3"
  },
  "language_info": {
   "codemirror_mode": {
    "name": "ipython",
    "version": 2
   },
   "file_extension": ".py",
   "mimetype": "text/x-python",
   "name": "python",
   "nbconvert_exporter": "python",
   "pygments_lexer": "ipython2",
   "version": "2.7.13"
  }
 },
 "nbformat": 4,
 "nbformat_minor": 2
}
