{
 "cells": [
  {
   "cell_type": "markdown",
   "metadata": {},
   "source": [
    "# Capítulo 06 - Dicionários"
   ]
  },
  {
   "cell_type": "code",
   "execution_count": 1,
   "metadata": {},
   "outputs": [
    {
     "name": "stdout",
     "output_type": "stream",
     "text": [
      "green\n",
      "5\n"
     ]
    }
   ],
   "source": [
    "#alien.py\n",
    "\n",
    "alien_0 = {'color':'green', 'points':5}\n",
    "\n",
    "print(alien_0['color'])\n",
    "print(alien_0['points'])"
   ]
  },
  {
   "cell_type": "code",
   "execution_count": 2,
   "metadata": {},
   "outputs": [
    {
     "name": "stdout",
     "output_type": "stream",
     "text": [
      "You just earned 5 points!\n"
     ]
    }
   ],
   "source": [
    "new_points = alien_0['points']\n",
    "print(\"You just earned \" + str(new_points) + \" points!\")"
   ]
  },
  {
   "cell_type": "code",
   "execution_count": 3,
   "metadata": {},
   "outputs": [
    {
     "name": "stdout",
     "output_type": "stream",
     "text": [
      "{'points': 5, 'color': 'green'}\n",
      "{'x_position': 0, 'points': 5, 'color': 'green', 'y_position': 25}\n"
     ]
    }
   ],
   "source": [
    "# Adicionando novos valores chave-valor ao dicionário\n",
    "print(alien_0)\n",
    "\n",
    "alien_0['x_position'] = 0\n",
    "alien_0['y_position'] = 25\n",
    "\n",
    "print(alien_0)"
   ]
  },
  {
   "cell_type": "code",
   "execution_count": 4,
   "metadata": {},
   "outputs": [
    {
     "name": "stdout",
     "output_type": "stream",
     "text": [
      "{}\n",
      "{'points': 25, 'color': 'green'}\n"
     ]
    }
   ],
   "source": [
    "alien_0 = {}\n",
    "\n",
    "print(alien_0)\n",
    "\n",
    "alien_0['color'] = 'green'\n",
    "alien_0['points'] = 25\n",
    "\n",
    "print(alien_0)"
   ]
  },
  {
   "cell_type": "code",
   "execution_count": 5,
   "metadata": {},
   "outputs": [
    {
     "name": "stdout",
     "output_type": "stream",
     "text": [
      "The aliens is green.\n",
      "The aliens is now yellow.\n"
     ]
    }
   ],
   "source": [
    "# Alterando um valor do dicionário...\n",
    "print(\"The aliens is \" + alien_0['color'] + \".\")\n",
    "\n",
    "alien_0['color'] = 'yellow'\n",
    "print(\"The aliens is now \" + alien_0['color'] + \".\")"
   ]
  },
  {
   "cell_type": "code",
   "execution_count": 6,
   "metadata": {},
   "outputs": [
    {
     "name": "stdout",
     "output_type": "stream",
     "text": [
      "Original x-position: 0\n",
      "New x-position: 2\n"
     ]
    }
   ],
   "source": [
    "alien_0 = {'x_position':0, 'y_position': 25, 'speed':'medium'}\n",
    "print(\"Original x-position: \" + str(alien_0['x_position']))\n",
    "\n",
    "# Move o alienígena para a direita\n",
    "# Determina a distância que o alienígena deve se deslocar de acordo com sua\n",
    "# velocidade atual...\n",
    "if alien_0['speed'] == 'slow':\n",
    "    x_increment = 1\n",
    "elif alien_0['speed'] == 'medium':\n",
    "    x_increment = 2\n",
    "else:\n",
    "    x_increment = 3\n",
    "    \n",
    "# A nova posição é a posição antiga somada ao incremento...\n",
    "alien_0['x_position'] = alien_0['x_position'] + x_increment\n",
    "\n",
    "print(\"New x-position: \" + str(alien_0['x_position']))"
   ]
  },
  {
   "cell_type": "code",
   "execution_count": 7,
   "metadata": {},
   "outputs": [
    {
     "name": "stdout",
     "output_type": "stream",
     "text": [
      "New x-position: 4\n"
     ]
    }
   ],
   "source": [
    "# Mais rápido...\n",
    "alien_0['x_position'] = alien_0['x_position'] + x_increment\n",
    "\n",
    "print(\"New x-position: \" + str(alien_0['x_position']))"
   ]
  },
  {
   "cell_type": "code",
   "execution_count": 9,
   "metadata": {},
   "outputs": [
    {
     "name": "stdout",
     "output_type": "stream",
     "text": [
      "New x-position: 9\n"
     ]
    }
   ],
   "source": [
    "# Mais rápido (other)\n",
    "alien_0['speed'] = 'fast'\n",
    "\n",
    "if alien_0['speed'] == 'slow':\n",
    "    x_increment = 1\n",
    "elif alien_0['speed'] == 'medium':\n",
    "    x_increment = 2\n",
    "else:\n",
    "    x_increment = 3\n",
    "\n",
    "alien_0['x_position'] = alien_0['x_position'] + x_increment\n",
    "\n",
    "print(\"New x-position: \" + str(alien_0['x_position']))\n"
   ]
  },
  {
   "cell_type": "code",
   "execution_count": 11,
   "metadata": {},
   "outputs": [
    {
     "name": "stdout",
     "output_type": "stream",
     "text": [
      "{'speed': 'fast', 'x_position': 9, 'stars': 5, 'y_position': 25}\n",
      "{'speed': 'fast', 'x_position': 9, 'y_position': 25}\n"
     ]
    }
   ],
   "source": [
    "# Apagando um par chave-valor do dicionário\n",
    "alien_0['stars'] = 5\n",
    "\n",
    "print(alien_0)\n",
    "\n",
    "del alien_0['stars']\n",
    "\n",
    "print(alien_0)"
   ]
  },
  {
   "cell_type": "code",
   "execution_count": 14,
   "metadata": {},
   "outputs": [
    {
     "name": "stdout",
     "output_type": "stream",
     "text": [
      "Sarah's favorite language is C.\n"
     ]
    }
   ],
   "source": [
    "# Dicionário de objetos semelhantes\n",
    "favorite_languages = {\n",
    "    'jen': 'python',\n",
    "    'sarah':'c',\n",
    "    'edward': 'ruby',\n",
    "    'phil': 'python',\n",
    "}\n",
    "\n",
    "print(\"Sarah's favorite language is \" + \n",
    "      favorite_languages['sarah'].title() +\n",
    "      \".\")"
   ]
  },
  {
   "cell_type": "markdown",
   "metadata": {},
   "source": [
    "## Exercícios"
   ]
  },
  {
   "cell_type": "markdown",
   "metadata": {},
   "source": [
    "### Exercício 6.1"
   ]
  },
  {
   "cell_type": "code",
   "execution_count": 16,
   "metadata": {},
   "outputs": [
    {
     "name": "stdout",
     "output_type": "stream",
     "text": [
      "First Name: Kurt\n",
      "Last Name: Cobain\n",
      "Age: 27\n",
      "City: Seatle\n"
     ]
    }
   ],
   "source": [
    "grunge_singer = {\n",
    "    'first_name':'Kurt',\n",
    "    'last_name': 'Cobain',\n",
    "    'age': 27,\n",
    "    'city': 'Seatle',\n",
    "}\n",
    "\n",
    "print(\"First Name: \" + grunge_singer['first_name'])\n",
    "print(\"Last Name: \" + grunge_singer['last_name'])\n",
    "print(\"Age: \" + str(grunge_singer['age']))\n",
    "print(\"City: \" + grunge_singer['city'])"
   ]
  },
  {
   "cell_type": "markdown",
   "metadata": {},
   "source": [
    "### Exercício 6.2"
   ]
  },
  {
   "cell_type": "code",
   "execution_count": 18,
   "metadata": {},
   "outputs": [
    {
     "name": "stdout",
     "output_type": "stream",
     "text": [
      "Luck number for Herry is 30.\n",
      "Luck number for Tody is 24.\n",
      "Luck number for Ellen is 54.\n",
      "Luck number for Jonnhy is 95.\n",
      "Luck number for Meggy is 23.\n"
     ]
    }
   ],
   "source": [
    "luck_numbers = {\n",
    "    'herry':30,\n",
    "    'tody':24,\n",
    "    'ellen':54,\n",
    "    'jonnhy':95,\n",
    "    'meggy':23,\n",
    "}\n",
    "\n",
    "print(\"Luck number for Herry is \" + str(luck_numbers['herry']) + \".\")\n",
    "print(\"Luck number for Tody is \" + str(luck_numbers['tody']) + \".\")\n",
    "print(\"Luck number for Ellen is \" + str(luck_numbers['ellen']) + \".\")\n",
    "print(\"Luck number for Jonnhy is \" + str(luck_numbers['jonnhy']) + \".\")\n",
    "print(\"Luck number for Meggy is \" + str(luck_numbers['meggy']) + \".\")"
   ]
  },
  {
   "cell_type": "markdown",
   "metadata": {},
   "source": [
    "### Exercício 6.3"
   ]
  },
  {
   "cell_type": "code",
   "execution_count": 23,
   "metadata": {},
   "outputs": [
    {
     "name": "stdout",
     "output_type": "stream",
     "text": [
      "Python: Python é uma linguagem de programação de alto nível,[4] interpretada, de script, imperativa, orientada a objetos, funcional, de tipagem dinâmica e forte. Foi lançada por Guido van Rossum em 1991.[1] Atualmente possui um modelo de desenvolvimento comunitário, aberto e gerenciado pela organização sem fins lucrativos Python Software Foundation. Apesar de várias partes da linguagem possuírem padrões e especificações formais, a linguagem como um todo não é formalmente especificada. O padrão de facto é a implementação CPython.\n",
      "\n",
      "Guido van Rossum: Guido van Rossum (Haarlem, 31 de janeiro de 1956) é um programador de computadores dos neerlandês, mais conhecido por ser o autor da linguagem de programação Python.\n",
      "\n",
      "Cpython: implementação principal da linguagem de programação Python, escrita em Linguagem C. É desenvolvida e mantida por Guido van Rossum e diversos outros desenvolvedores espalhados pelo mundo.\n",
      "\n",
      "Monty Python: Monty Python ou The Pythons [1][2] é um grupo de comédia britânico, que foram os criadores e intérpretes da série cômica Monty Pythons Flying Circus, um programa de televisão britânico que foi ao ar pela primeira vez em 5 de outubro de 1969. \n",
      "\n",
      "Programação orientada a objetos: (também conhecida pela sua sigla POO) é um modelo de análise, projeto e programação de sistemas de software baseado na composição e interação entre diversas unidades de software chamadas de objetos.\n",
      "\n"
     ]
    }
   ],
   "source": [
    "glossario = {\n",
    "    'python':'Python é uma linguagem de programação de alto nível,[4] interpretada, de script, imperativa, orientada a objetos, funcional, de tipagem dinâmica e forte. Foi lançada por Guido van Rossum em 1991.[1] Atualmente possui um modelo de desenvolvimento comunitário, aberto e gerenciado pela organização sem fins lucrativos Python Software Foundation. Apesar de várias partes da linguagem possuírem padrões e especificações formais, a linguagem como um todo não é formalmente especificada. O padrão de facto é a implementação CPython.',\n",
    "    'guido van rossum':'Guido van Rossum (Haarlem, 31 de janeiro de 1956) é um programador de computadores dos neerlandês, mais conhecido por ser o autor da linguagem de programação Python.',\n",
    "    'cpython':'implementação principal da linguagem de programação Python, escrita em Linguagem C. É desenvolvida e mantida por Guido van Rossum e diversos outros desenvolvedores espalhados pelo mundo.',\n",
    "    'monty python':'Monty Python ou The Pythons [1][2] é um grupo de comédia britânico, que foram os criadores e intérpretes da série cômica Monty Pythons Flying Circus, um programa de televisão britânico que foi ao ar pela primeira vez em 5 de outubro de 1969. ',\n",
    "    'programação orientada a objetos':'(também conhecida pela sua sigla POO) é um modelo de análise, projeto e programação de sistemas de software baseado na composição e interação entre diversas unidades de software chamadas de objetos.',\n",
    "}\n",
    "\n",
    "print('Python: ' + glossario['python'] + '\\n')\n",
    "print('Guido van Rossum: ' + glossario['guido van rossum'] + '\\n')\n",
    "print('Cpython: ' + glossario['cpython'] + '\\n')\n",
    "print('Monty Python: ' + glossario['monty python'] + '\\n')\n",
    "print('Programação orientada a objetos: ' + glossario['programação orientada a objetos'] + '\\n')"
   ]
  },
  {
   "cell_type": "code",
   "execution_count": 26,
   "metadata": {},
   "outputs": [
    {
     "name": "stdout",
     "output_type": "stream",
     "text": [
      "\n",
      "Key: first\n",
      "Value: enrico\n",
      "\n",
      "Key: last\n",
      "Value: fermi\n",
      "\n",
      "Key: username\n",
      "Value: efermi\n"
     ]
    }
   ],
   "source": [
    "# Percorrendo dicionário com laço...\n",
    "#user.py\n",
    "user_0 = {\n",
    "    'username':'efermi',\n",
    "    'first':'enrico',\n",
    "    'last':'fermi',\n",
    "}\n",
    "\n",
    "for key, value in user_0.items():\n",
    "    print(\"\\nKey: \" + key)\n",
    "    print(\"Value: \" + value)\n",
    "    \n"
   ]
  },
  {
   "cell_type": "code",
   "execution_count": 27,
   "metadata": {},
   "outputs": [
    {
     "name": "stdout",
     "output_type": "stream",
     "text": [
      "Sarah's favorite language is C.\n",
      "Edward's favorite language is Ruby.\n",
      "Jen's favorite language is Python.\n",
      "Phil's favorite language is Python.\n"
     ]
    }
   ],
   "source": [
    "favorite_languages = {\n",
    "    'jen': 'python',\n",
    "    'sarah':'c',\n",
    "    'edward': 'ruby',\n",
    "    'phil': 'python',\n",
    "}\n",
    "\n",
    "for name, language in favorite_languages.items():\n",
    "    print(name.title() + \"'s favorite language is \" + language.title() + \".\")"
   ]
  },
  {
   "cell_type": "code",
   "execution_count": 2,
   "metadata": {},
   "outputs": [
    {
     "name": "stdout",
     "output_type": "stream",
     "text": [
      "Jen\n",
      "Phil\n",
      "Sarah\n",
      "Edward\n"
     ]
    }
   ],
   "source": [
    "#favorite_languages.py\n",
    "favorite_languages = {\n",
    "    'jen':'python',\n",
    "    'sarah':'c',\n",
    "    'edward':'ruby',\n",
    "    'phil':'python',    \n",
    "}\n",
    "\n",
    "for name in favorite_languages.keys():\n",
    "    print(name.title())\n"
   ]
  },
  {
   "cell_type": "code",
   "execution_count": 5,
   "metadata": {},
   "outputs": [
    {
     "name": "stdout",
     "output_type": "stream",
     "text": [
      "Jen\n",
      "Phil\n",
      "Hi Phil, I see your favorite language is Python!\n",
      "Sarah\n",
      "Hi Sarah, I see your favorite language is C!\n",
      "Edward\n"
     ]
    }
   ],
   "source": [
    "favorite_languages = {\n",
    "    'jen':'python',\n",
    "    'sarah':'c',\n",
    "    'edward':'ruby',\n",
    "    'phil':'python',    \n",
    "}\n",
    "\n",
    "friends = ['phil', 'sarah']\n",
    "\n",
    "for name in favorite_languages.keys():\n",
    "    print(name.title())\n",
    "    \n",
    "    if name in friends:\n",
    "        print(\"Hi \" + name.title() + \", I see your favorite language is \" + favorite_languages[name].title() + \"!\")"
   ]
  },
  {
   "cell_type": "code",
   "execution_count": 6,
   "metadata": {},
   "outputs": [
    {
     "name": "stdout",
     "output_type": "stream",
     "text": [
      "Erin, please take our poll!\n"
     ]
    }
   ],
   "source": [
    "favorite_languages = {\n",
    "    'jen':'python',\n",
    "    'sarah':'c',\n",
    "    'edward':'ruby',\n",
    "    'phil':'python',    \n",
    "}\n",
    "\n",
    "if 'erin' not in favorite_languages.keys():\n",
    "    print(\"Erin, please take our poll!\")"
   ]
  },
  {
   "cell_type": "code",
   "execution_count": 9,
   "metadata": {},
   "outputs": [
    {
     "name": "stdout",
     "output_type": "stream",
     "text": [
      "Edward, thank you for taking the poll!\n",
      "Jen, thank you for taking the poll!\n",
      "Phil, thank you for taking the poll!\n",
      "Sarah, thank you for taking the poll!\n"
     ]
    }
   ],
   "source": [
    "favorite_languages = {\n",
    "    'jen':'python',\n",
    "    'sarah':'c',\n",
    "    'edward':'ruby',\n",
    "    'phil':'python',    \n",
    "}\n",
    "\n",
    "for name in sorted(favorite_languages.keys()):\n",
    "    print(name.title() + \", thank you for taking the poll!\")"
   ]
  },
  {
   "cell_type": "code",
   "execution_count": 10,
   "metadata": {},
   "outputs": [
    {
     "name": "stdout",
     "output_type": "stream",
     "text": [
      "The following languages have been mentioned:\n",
      "Python\n",
      "Python\n",
      "C\n",
      "Ruby\n"
     ]
    }
   ],
   "source": [
    "#lista todos os valores do dicionário...\n",
    "favorite_languages = {\n",
    "    'jen':'python',\n",
    "    'sarah':'c',\n",
    "    'edward':'ruby',\n",
    "    'phil':'python',    \n",
    "}\n",
    "\n",
    "print(\"The following languages have been mentioned:\")\n",
    "\n",
    "for language in favorite_languages.values():\n",
    "    print(language.title())"
   ]
  },
  {
   "cell_type": "code",
   "execution_count": 11,
   "metadata": {},
   "outputs": [
    {
     "name": "stdout",
     "output_type": "stream",
     "text": [
      "The following languages have been mentioned:\n",
      "C\n",
      "Ruby\n",
      "Python\n"
     ]
    }
   ],
   "source": [
    "#lista todos os valores do dicionário sem repetições...\n",
    "favorite_languages = {\n",
    "    'jen':'python',\n",
    "    'sarah':'c',\n",
    "    'edward':'ruby',\n",
    "    'phil':'python',    \n",
    "}\n",
    "\n",
    "print(\"The following languages have been mentioned:\")\n",
    "\n",
    "for language in set(favorite_languages.values()):\n",
    "    print(language.title())"
   ]
  },
  {
   "cell_type": "markdown",
   "metadata": {},
   "source": [
    "## Exercícios"
   ]
  },
  {
   "cell_type": "markdown",
   "metadata": {},
   "source": [
    "### Exercício 6.4"
   ]
  },
  {
   "cell_type": "code",
   "execution_count": 19,
   "metadata": {},
   "outputs": [
    {
     "name": "stdout",
     "output_type": "stream",
     "text": [
      "Cgi : (sigla em inglês para Common Gateway Interface), consiste numa importante tecnologia que permite gerar páginas dinâmicas, permitindo a um navegador passar parâmetros para um programa alojado num servidor web. Assim, designam-se por scripts CGI os pequenos programas que interpretam esses parâmetros e geram a página depois de os processar.\n",
      "\n",
      "Modula-3 : Modula-3 é uma linguagem de programação concebida como a sucessora de uma versão atualizada do Modula-2. Apesar de ter sido influente nos meios de pesquisa, influenciando o desenvolvimento de linguagens comerciais como Java e C#), nunca atingiu adoção na indústria de forma considerável. Foi desenvolvida por Luca Cardelli, Jim Donahue, Mick Jordan, Bill Kalsow e Greg Nelson no centro de pesquisa da Digital Equipment Corporation e na Olivetti durante o final da década de 1980. Seu desenvolvimento foi influenciado pelo trabalho no Modula-2+, em uso na DEC na mesma época e que serviu para a escrita do sistema operacional do multiprocessador DEC Firefly.\n",
      "\n",
      "Programação Orientada A Objetos : (também conhecida pela sua sigla POO) é um modelo de análise, projeto e programação de sistemas de software baseado na composição e interação entre diversas unidades de software chamadas de objetos.\n",
      "\n",
      "Darpa :  (Defense Advanced Research Projects Agency, Agência de Projetos de Pesquisa Avançada de Defesa) foi criada em fevereiro de 1958 (como ARPA) por militares e pesquisadores americanos sob a supervisão do presidente Eisenhower, numa reação dos Estados Unidos à vitória tecnológica da então União Soviética com o lançamento do primeiro satélite artificial, o Sputnik 1.\n",
      "\n",
      "Guido Van Rossum : Guido van Rossum (Haarlem, 31 de janeiro de 1956) é um programador de computadores dos neerlandês, mais conhecido por ser o autor da linguagem de programação Python.\n",
      "\n",
      "Monty Python : Monty Python ou The Pythons [1][2] é um grupo de comédia britânico, que foram os criadores e intérpretes da série cômica Monty Pythons Flying Circus, um programa de televisão britânico que foi ao ar pela primeira vez em 5 de outubro de 1969. \n",
      "\n",
      "Cpython : implementação principal da linguagem de programação Python, escrita em Linguagem C. É desenvolvida e mantida por Guido van Rossum e diversos outros desenvolvedores espalhados pelo mundo.\n",
      "\n",
      "Amoeba : é um sistema operacional distribuido baseado em micronúcleo e de código aberto, criado por Andrew S. Tanenbaum e outros na Universidade Vrije na Holanda. O objetivo do projeto era construir um sistema operacional de tempo compartilhado que fizesse um conjunto de computadores em rede comportar-se como uma única máquina ao usuário. O desenvolvimento do sistema aparentemente foi interrompido pois os arquivos da última versão (5.3) datam de 12 de fevereiro de 2001.\n",
      "\n",
      "Python : Python é uma linguagem de programação de alto nível,[4] interpretada, de script, imperativa, orientada a objetos, funcional, de tipagem dinâmica e forte. Foi lançada por Guido van Rossum em 1991.[1] Atualmente possui um modelo de desenvolvimento comunitário, aberto e gerenciado pela organização sem fins lucrativos Python Software Foundation. Apesar de várias partes da linguagem possuírem padrões e especificações formais, a linguagem como um todo não é formalmente especificada. O padrão de facto é a implementação CPython.\n",
      "\n",
      "Python Software Foundation : (também conhecida por PSF) é uma organização sem fins lucrativos que se dedica à linguagem de programação Python. Foi fundada em 6 de Março de 2001.\n",
      "\n"
     ]
    }
   ],
   "source": [
    "glossario = {\n",
    "    'python':'Python é uma linguagem de programação de alto nível,[4] interpretada, de script, imperativa, orientada a objetos, funcional, de tipagem dinâmica e forte. Foi lançada por Guido van Rossum em 1991.[1] Atualmente possui um modelo de desenvolvimento comunitário, aberto e gerenciado pela organização sem fins lucrativos Python Software Foundation. Apesar de várias partes da linguagem possuírem padrões e especificações formais, a linguagem como um todo não é formalmente especificada. O padrão de facto é a implementação CPython.',\n",
    "    'guido van rossum':'Guido van Rossum (Haarlem, 31 de janeiro de 1956) é um programador de computadores dos neerlandês, mais conhecido por ser o autor da linguagem de programação Python.',\n",
    "    'cpython':'implementação principal da linguagem de programação Python, escrita em Linguagem C. É desenvolvida e mantida por Guido van Rossum e diversos outros desenvolvedores espalhados pelo mundo.',\n",
    "    'monty python':'Monty Python ou The Pythons [1][2] é um grupo de comédia britânico, que foram os criadores e intérpretes da série cômica Monty Pythons Flying Circus, um programa de televisão britânico que foi ao ar pela primeira vez em 5 de outubro de 1969. ',\n",
    "    'programação orientada a objetos':'(também conhecida pela sua sigla POO) é um modelo de análise, projeto e programação de sistemas de software baseado na composição e interação entre diversas unidades de software chamadas de objetos.',\n",
    "    'python software foundation':'(também conhecida por PSF) é uma organização sem fins lucrativos que se dedica à linguagem de programação Python. Foi fundada em 6 de Março de 2001.',\n",
    "    'cgi':'(sigla em inglês para Common Gateway Interface), consiste numa importante tecnologia que permite gerar páginas dinâmicas, permitindo a um navegador passar parâmetros para um programa alojado num servidor web. Assim, designam-se por scripts CGI os pequenos programas que interpretam esses parâmetros e geram a página depois de os processar.',\n",
    "    'amoeba':'é um sistema operacional distribuido baseado em micronúcleo e de código aberto, criado por Andrew S. Tanenbaum e outros na Universidade Vrije na Holanda. O objetivo do projeto era construir um sistema operacional de tempo compartilhado que fizesse um conjunto de computadores em rede comportar-se como uma única máquina ao usuário. O desenvolvimento do sistema aparentemente foi interrompido pois os arquivos da última versão (5.3) datam de 12 de fevereiro de 2001.',\n",
    "    'modula-3':'Modula-3 é uma linguagem de programação concebida como a sucessora de uma versão atualizada do Modula-2. Apesar de ter sido influente nos meios de pesquisa, influenciando o desenvolvimento de linguagens comerciais como Java e C#), nunca atingiu adoção na indústria de forma considerável. Foi desenvolvida por Luca Cardelli, Jim Donahue, Mick Jordan, Bill Kalsow e Greg Nelson no centro de pesquisa da Digital Equipment Corporation e na Olivetti durante o final da década de 1980. Seu desenvolvimento foi influenciado pelo trabalho no Modula-2+, em uso na DEC na mesma época e que serviu para a escrita do sistema operacional do multiprocessador DEC Firefly.',\n",
    "    'darpa':' (Defense Advanced Research Projects Agency, Agência de Projetos de Pesquisa Avançada de Defesa) foi criada em fevereiro de 1958 (como ARPA) por militares e pesquisadores americanos sob a supervisão do presidente Eisenhower, numa reação dos Estados Unidos à vitória tecnológica da então União Soviética com o lançamento do primeiro satélite artificial, o Sputnik 1.',\n",
    "}\n",
    "\n",
    "for key, value in glossario.items():\n",
    "    print(key.title() + \" : \" + value + \"\\n\")"
   ]
  },
  {
   "cell_type": "markdown",
   "metadata": {},
   "source": [
    "### Exercício 6.5"
   ]
  },
  {
   "cell_type": "code",
   "execution_count": 27,
   "metadata": {},
   "outputs": [
    {
     "name": "stdout",
     "output_type": "stream",
     "text": [
      "O rio Nilo corre pelo Egito.\n",
      "O rio Yangtzé corre pelo China.\n",
      "O rio Amazonas corre pelo Brasil.\n",
      "\n",
      "Rios nesse dicionário:\n",
      "Nilo\n",
      "Yangtzé\n",
      "Amazonas\n",
      "\n",
      "Países nesse dicionário:\n",
      "Egito\n",
      "China\n",
      "Brasil\n"
     ]
    }
   ],
   "source": [
    "rios = {\n",
    "    'amazonas':'brasil',\n",
    "    'nilo':'egito',\n",
    "    'yangtzé':'china'\n",
    "}\n",
    "\n",
    "for rio, pais in rios.items():\n",
    "    print(\"O rio \" + rio.title() + \" corre pelo \" + pais.title() + \".\" )\n",
    "\n",
    "    \n",
    "print (\"\\nRios nesse dicionário:\")    \n",
    "for rio in rios.keys():\n",
    "    print(rio.title())\n",
    "    \n",
    "print (\"\\nPaíses nesse dicionário:\")    \n",
    "for rio in rios.values():\n",
    "    print(rio.title())"
   ]
  },
  {
   "cell_type": "markdown",
   "metadata": {},
   "source": [
    "### Exercício 6.6"
   ]
  },
  {
   "cell_type": "code",
   "execution_count": 36,
   "metadata": {},
   "outputs": [
    {
     "name": "stdout",
     "output_type": "stream",
     "text": [
      "Caro Jonas. Vimos aqui que ainda não participou da nossa enquete. Queremos muito saber mais sobre vocẽs. Por favor, nos ajude respondendo qual a sua linguagem de programação favorita\n",
      "\n",
      "Obrigado Jen pela sua resposta!\n",
      "\n",
      "Caro Ronald. Vimos aqui que ainda não participou da nossa enquete. Queremos muito saber mais sobre vocẽs. Por favor, nos ajude respondendo qual a sua linguagem de programação favorita\n",
      "\n",
      "Caro Tomas. Vimos aqui que ainda não participou da nossa enquete. Queremos muito saber mais sobre vocẽs. Por favor, nos ajude respondendo qual a sua linguagem de programação favorita\n",
      "\n",
      "Obrigado Sarah pela sua resposta!\n",
      "\n",
      "Obrigado Phil pela sua resposta!\n",
      "\n",
      "Obrigado Edward pela sua resposta!\n",
      "\n",
      "Caro Charles. Vimos aqui que ainda não participou da nossa enquete. Queremos muito saber mais sobre vocẽs. Por favor, nos ajude respondendo qual a sua linguagem de programação favorita\n",
      "\n",
      "Caro Gavin. Vimos aqui que ainda não participou da nossa enquete. Queremos muito saber mais sobre vocẽs. Por favor, nos ajude respondendo qual a sua linguagem de programação favorita\n",
      "\n"
     ]
    }
   ],
   "source": [
    "favorite_languages = {\n",
    "    'jen':'python',\n",
    "    'sarah':'c',\n",
    "    'edward':'ruby',\n",
    "    'phil':'python'\n",
    "}\n",
    "\n",
    "participantes = ['jonas', 'jen', 'ronald', 'tomas', 'sarah', 'phil', 'edward', 'charles', 'gavin']\n",
    "\n",
    "for name in participantes:\n",
    "    \n",
    "    if name in favorite_languages:\n",
    "        print(\"Obrigado \" + name.title() + \" pela sua resposta!\\n\")\n",
    "    else:\n",
    "        print(\"Caro \" + name.title() + \". Vimos aqui que ainda não participou da nossa enquete. Queremos muito saber mais sobre vocẽs. Por favor, nos ajude respondendo qual a sua linguagem de programação favorita\\n\")\n"
   ]
  },
  {
   "cell_type": "code",
   "execution_count": 37,
   "metadata": {},
   "outputs": [
    {
     "name": "stdout",
     "output_type": "stream",
     "text": [
      "{'points': 5, 'color': 'green'}\n",
      "{'points': 10, 'color': 'yellow'}\n",
      "{'points': 15, 'color': 'red'}\n"
     ]
    }
   ],
   "source": [
    "#aliens.py\n",
    "\n",
    "alien_0 = {'color':'green','points':5}\n",
    "alien_1 = {'color':'yellow','points':10}\n",
    "alien_2 = {'color':'red','points':15}\n",
    "\n",
    "aliens = [alien_0, alien_1, alien_2]\n",
    "\n",
    "for alien in aliens:\n",
    "    print(alien)\n",
    "    "
   ]
  },
  {
   "cell_type": "code",
   "execution_count": 38,
   "metadata": {},
   "outputs": [
    {
     "name": "stdout",
     "output_type": "stream",
     "text": [
      "{'speed': 'slow', 'points': 5, 'color': 'green'}\n",
      "{'speed': 'slow', 'points': 5, 'color': 'green'}\n",
      "{'speed': 'slow', 'points': 5, 'color': 'green'}\n",
      "{'speed': 'slow', 'points': 5, 'color': 'green'}\n",
      "{'speed': 'slow', 'points': 5, 'color': 'green'}\n",
      "...\n",
      "Total number of aliens: 30\n"
     ]
    }
   ],
   "source": [
    "# Cria uma lista vazia para armazenar alienígenas...\n",
    "aliens = []\n",
    "\n",
    "# Cria 30 aliens verdes... \n",
    "for alien_number in range(30):\n",
    "    new_alien = {'color':'green', 'points':5, 'speed':'slow'}\n",
    "    aliens.append(new_alien)\n",
    "    \n",
    "# Mostra os 5 primeiros aliens...\n",
    "for alien in aliens[:5]:\n",
    "    print(alien)\n",
    "\n",
    "print(\"...\")\n",
    "\n",
    "# Mostra quantos alienígenas foram criados...\n",
    "print(\"Total number of aliens: \" + str(len(aliens)))"
   ]
  },
  {
   "cell_type": "code",
   "execution_count": 40,
   "metadata": {},
   "outputs": [
    {
     "name": "stdout",
     "output_type": "stream",
     "text": [
      "{'speed': 'medium', 'points': 10, 'color': 'yellow'}\n",
      "{'speed': 'medium', 'points': 10, 'color': 'yellow'}\n",
      "{'speed': 'medium', 'points': 10, 'color': 'yellow'}\n",
      "{'speed': 'slow', 'points': 5, 'color': 'green'}\n",
      "{'speed': 'slow', 'points': 5, 'color': 'green'}\n",
      "...\n",
      "Total number of aliens: 30\n"
     ]
    }
   ],
   "source": [
    "# Cria uma lista vazia para armazenar alienígenas...\n",
    "aliens = []\n",
    "\n",
    "# Cria 30 aliens verdes... \n",
    "for alien_number in range(30):\n",
    "    new_alien = {'color':'green', 'points':5, 'speed':'slow'}\n",
    "    aliens.append(new_alien)\n",
    "    \n",
    "# Altera os três primeiros aliens...\n",
    "for alien in aliens[0:3]:\n",
    "    if alien['color'] == 'green':\n",
    "        alien['color'] = 'yellow'\n",
    "        alien['speed'] = 'medium'\n",
    "        alien['points'] = 10\n",
    "        \n",
    "# Mostra os 5 primeiros aliens...\n",
    "for alien in aliens[:5]:\n",
    "    print(alien)\n",
    "\n",
    "print(\"...\")\n",
    "\n",
    "# Mostra quantos alienígenas foram criados...\n",
    "print(\"Total number of aliens: \" + str(len(aliens)))"
   ]
  },
  {
   "cell_type": "code",
   "execution_count": 41,
   "metadata": {},
   "outputs": [
    {
     "name": "stdout",
     "output_type": "stream",
     "text": [
      "{'speed': 'fast', 'points': 15, 'color': 'red'}\n",
      "{'speed': 'fast', 'points': 15, 'color': 'red'}\n",
      "{'speed': 'fast', 'points': 15, 'color': 'red'}\n",
      "{'speed': 'slow', 'points': 5, 'color': 'green'}\n",
      "{'speed': 'slow', 'points': 5, 'color': 'green'}\n",
      "...\n",
      "Total number of aliens: 30\n"
     ]
    }
   ],
   "source": [
    "# Altera os aliens, agora separando os amarelois e os verdes...\n",
    "for alien in aliens[0:3]:\n",
    "    if alien['color'] == 'green':\n",
    "        alien['color'] = 'yellow'\n",
    "        alien['speed'] = 'medium'\n",
    "        alien['points'] = 10\n",
    "    elif alien['color'] == 'yellow':\n",
    "        alien['color'] = 'red'\n",
    "        alien['speed'] = 'fast'\n",
    "        alien['points'] = 15\n",
    "        \n",
    "# Mostra os 5 primeiros aliens...\n",
    "for alien in aliens[:5]:\n",
    "    print(alien)\n",
    "\n",
    "print(\"...\")\n",
    "\n",
    "# Mostra quantos alienígenas foram criados...\n",
    "print(\"Total number of aliens: \" + str(len(aliens)))"
   ]
  },
  {
   "cell_type": "code",
   "execution_count": 42,
   "metadata": {},
   "outputs": [
    {
     "name": "stdout",
     "output_type": "stream",
     "text": [
      "You ordered a thick-crust pizza with the following toppings: \n",
      "\tmushrooms\n",
      "\textra cheese\n"
     ]
    }
   ],
   "source": [
    "#pizza.py\n",
    "\n",
    "pizza = {\n",
    "    'crust':'thick',\n",
    "    'toppings':['mushrooms', 'extra cheese'],\n",
    "}\n",
    "\n",
    "print(\"You ordered a \" + pizza['crust'] + \"-crust pizza \" + \"with the following toppings: \")\n",
    "\n",
    "for topping in pizza['toppings']:\n",
    "    print(\"\\t\" + topping)"
   ]
  },
  {
   "cell_type": "code",
   "execution_count": 1,
   "metadata": {},
   "outputs": [
    {
     "name": "stdout",
     "output_type": "stream",
     "text": [
      "\n",
      "Edward's favorite languages are: \n",
      "\tRuby\n",
      "\tGo\n",
      "\n",
      "Sarah's favorite languages are: \n",
      "\tC\n",
      "\n",
      "Jen's favorite languages are: \n",
      "\tPython\n",
      "\tRuby\n",
      "\n",
      "Phil's favorite languages are: \n",
      "\tPython\n",
      "\tHaskell\n"
     ]
    }
   ],
   "source": [
    "#favorite_languages\n",
    "favorite_languages = {\n",
    "    'jen':['python', 'ruby'],\n",
    "    'sarah':['c'],\n",
    "    'edward':['ruby','go'],\n",
    "    'phil':['python', 'haskell'],\n",
    "}\n",
    "\n",
    "for name, languages in favorite_languages.items():\n",
    "    print(\"\\n\" + name.title() + \"'s favorite languages are: \")\n",
    "    for language in languages:\n",
    "        print(\"\\t\" + language.title())"
   ]
  },
  {
   "cell_type": "code",
   "execution_count": 2,
   "metadata": {},
   "outputs": [
    {
     "name": "stdout",
     "output_type": "stream",
     "text": [
      "\n",
      "Edward's favorite languages are: \n",
      "\tRuby\n",
      "\tGo\n",
      "\n",
      "Sarah's favorite languages is: \n",
      "\tC\n",
      "\n",
      "Jen's favorite languages are: \n",
      "\tPython\n",
      "\tRuby\n",
      "\n",
      "Phil's favorite languages are: \n",
      "\tPython\n",
      "\tHaskell\n"
     ]
    }
   ],
   "source": [
    "#favorite_languages\n",
    "favorite_languages = {\n",
    "    'jen':['python', 'ruby'],\n",
    "    'sarah':['c'],\n",
    "    'edward':['ruby','go'],\n",
    "    'phil':['python', 'haskell'],\n",
    "}\n",
    "\n",
    "for name, languages in favorite_languages.items():\n",
    "    if len(languages) > 1:\n",
    "        print(\"\\n\" + name.title() + \"'s favorite languages are: \")\n",
    "    else:\n",
    "        print(\"\\n\" + name.title() + \"'s favorite languages is: \")\n",
    "        \n",
    "    for language in languages:\n",
    "        print(\"\\t\" + language.title())"
   ]
  },
  {
   "cell_type": "code",
   "execution_count": 3,
   "metadata": {},
   "outputs": [
    {
     "name": "stdout",
     "output_type": "stream",
     "text": [
      "\n",
      "Username: mcurie\n",
      "\tFull name: Marie Curie\n",
      "\tLocation: Paris\n",
      "\n",
      "Username: aeinstein\n",
      "\tFull name: Albert Einstein\n",
      "\tLocation: Princeton\n"
     ]
    }
   ],
   "source": [
    "#many_users.py\n",
    "\n",
    "users = {\n",
    "    \n",
    "    'aeinstein': {\n",
    "        'first':'albert',\n",
    "        'last':'einstein',\n",
    "        'location':'princeton',\n",
    "    },\n",
    "    \n",
    "    'mcurie':{\n",
    "        'first':'marie',\n",
    "        'last':'curie',\n",
    "        'location':'paris',\n",
    "    },\n",
    "\n",
    "}\n",
    "\n",
    "for username, user_info in users.items():\n",
    "    print(\"\\nUsername: \" + username)\n",
    "    full_name = user_info['first'] + \" \" + user_info['last']\n",
    "    location = user_info['location']\n",
    "    \n",
    "    print(\"\\tFull name: \" + full_name.title())\n",
    "    print(\"\\tLocation: \" + location.title())\n"
   ]
  },
  {
   "cell_type": "markdown",
   "metadata": {},
   "source": [
    "## Exercícios"
   ]
  },
  {
   "cell_type": "markdown",
   "metadata": {},
   "source": [
    "### Exercício 6.7"
   ]
  },
  {
   "cell_type": "code",
   "execution_count": 12,
   "metadata": {},
   "outputs": [
    {
     "name": "stdout",
     "output_type": "stream",
     "text": [
      "First name: Kurt\n",
      "Last name: Cobain\n",
      "Age: 27\n",
      "City: Seatle\n",
      "\n",
      "First name: Ian\n",
      "Last name: Curtis\n",
      "Age: 23\n",
      "City: Manchester\n",
      "\n",
      "First name: Joey\n",
      "Last name: Ramone\n",
      "Age: 49\n",
      "City: New York\n",
      "\n"
     ]
    }
   ],
   "source": [
    "## Definindo os três dicionários...\n",
    "grunge_singer = {\n",
    "    'first_name':'kurt',\n",
    "    'last_name': 'cobain',\n",
    "    'age': 27,\n",
    "    'city': 'seatle',\n",
    "}\n",
    "\n",
    "pospunk_singer = {\n",
    "    'first_name':'ian',\n",
    "    'last_name': 'curtis',\n",
    "    'age': 23,\n",
    "    'city': 'manchester',\n",
    "}\n",
    "\n",
    "punk_singer = {\n",
    "    'first_name':'joey',\n",
    "    'last_name': 'ramone',\n",
    "    'age': 49,\n",
    "    'city': 'new york',\n",
    "}\n",
    "\n",
    "# Definindo a lista com os três dicionários criados...\n",
    "singers = [grunge_singer, pospunk_singer, punk_singer]\n",
    "\n",
    "for singer in singers:\n",
    "    print(\"First name: \" + singer['first_name'].title())\n",
    "    print(\"Last name: \" + singer['last_name'].title())\n",
    "    print(\"Age: \" + str(singer['age']))\n",
    "    print(\"City: \" + singer['city'].title() + \"\\n\")"
   ]
  },
  {
   "cell_type": "markdown",
   "metadata": {},
   "source": [
    "### Exercício 6.8"
   ]
  },
  {
   "cell_type": "code",
   "execution_count": 15,
   "metadata": {},
   "outputs": [
    {
     "name": "stdout",
     "output_type": "stream",
     "text": [
      "\n",
      "Tipo: Hamster\n",
      "Dono: Renata\n",
      "\n",
      "Tipo: Calopsita\n",
      "Dono: Ingrid\n",
      "\n",
      "Tipo: Cachorro\n",
      "Dono: Ronald\n"
     ]
    }
   ],
   "source": [
    "frodinho = {\n",
    "    'tipo':'hamster',\n",
    "    'dono':'renata',\n",
    "}\n",
    "\n",
    "tico_franscisco = {\n",
    "    'tipo':'calopsita',\n",
    "    'dono':'ingrid',\n",
    "}\n",
    "\n",
    "rex = {\n",
    "    'tipo':'cachorro',\n",
    "    'dono':'ronald',\n",
    "}\n",
    "\n",
    "pets = [frodinho, tico_franscisco, rex]\n",
    "\n",
    "for pet in pets:\n",
    "    print(\"\\nTipo: \" + pet['tipo'].title())\n",
    "    print(\"Dono: \" + pet['dono'].title())"
   ]
  },
  {
   "cell_type": "markdown",
   "metadata": {},
   "source": [
    "### Exercícios 6.9"
   ]
  },
  {
   "cell_type": "code",
   "execution_count": 26,
   "metadata": {},
   "outputs": [
    {
     "name": "stdout",
     "output_type": "stream",
     "text": [
      "\n",
      "Nome: Ronald\n",
      "Lugar Favorito: \n",
      "\t\tParis\n",
      "\t\tLondres\n",
      "\t\tMadri\n",
      "\n",
      "Nome: Alice\n",
      "Lugar Favorito: \n",
      "\t\tManaus\n",
      "\t\tCuzco\n",
      "\t\tBogota\n",
      "\n",
      "Nome: Anderson\n",
      "Lugar Favorito: \n",
      "\t\tBuenos Aires\n",
      "\t\tLima\n",
      "\t\tMontevidéu\n"
     ]
    }
   ],
   "source": [
    "favorite_places = {}\n",
    "\n",
    "favorite_places = {\n",
    "    'ronald':['paris', 'londres','madri'],\n",
    "    'alice':['manaus', 'cuzco', 'bogota'],\n",
    "    'anderson':['buenos aires', 'lima', 'montevidéu']\n",
    "}\n",
    "\n",
    "for name, places in favorite_places.items():\n",
    "    print(\"\\nNome: \" + name.title())\n",
    "    print(\"Lugar Favorito: \")\n",
    "    for place in places:\n",
    "        print(\"\\t\\t\" + place.title())"
   ]
  },
  {
   "cell_type": "markdown",
   "metadata": {},
   "source": [
    "### Exercício 6.10"
   ]
  },
  {
   "cell_type": "code",
   "execution_count": 34,
   "metadata": {},
   "outputs": [
    {
     "name": "stdout",
     "output_type": "stream",
     "text": [
      "\n",
      "Nome: Meggy\n",
      "Números da sorte: \n",
      "\t\t23\n",
      "\t\t9\n",
      "\t\t44\n",
      "\t\t36\n",
      "\n",
      "Nome: Jonnhy\n",
      "Números da sorte: \n",
      "\t\t95\n",
      "\t\t34\n",
      "\t\t66\n",
      "\t\t87\n",
      "\n",
      "Nome: Herry\n",
      "Números da sorte: \n",
      "\t\t12\n",
      "\t\t32\n",
      "\t\t45\n",
      "\t\t10\n",
      "\n",
      "Nome: Ellen\n",
      "Números da sorte: \n",
      "\t\t54\n",
      "\t\t29\n",
      "\t\t23\n",
      "\t\t65\n",
      "\n",
      "Nome: Tody\n",
      "Números da sorte: \n",
      "\t\t32\n",
      "\t\t20\n",
      "\t\t78\n",
      "\t\t93\n"
     ]
    }
   ],
   "source": [
    "luck_numbers = {\n",
    "    'herry':[12,32,45,10],\n",
    "    'tody':[32,20,78,93],\n",
    "    'ellen':[54,29,23,65],\n",
    "    'jonnhy':[95,34,66,87],\n",
    "    'meggy':[23,9,44,36],\n",
    "}\n",
    "\n",
    "for name, numbers in luck_numbers.items():\n",
    "    print(\"\\n\" + \"Nome: \" + name.title())\n",
    "    print(\"Números da sorte: \")\n",
    "    for number in numbers:\n",
    "        print(\"\\t\\t\" + str(number))\n",
    "       \n"
   ]
  },
  {
   "cell_type": "markdown",
   "metadata": {},
   "source": [
    "### Exercício 6.11"
   ]
  },
  {
   "cell_type": "code",
   "execution_count": 43,
   "metadata": {},
   "outputs": [
    {
     "name": "stdout",
     "output_type": "stream",
     "text": [
      "New York\n",
      "\tPaís: EUA\n",
      "\tPopulação: 8175133\n",
      "\tFatos: Friends\n",
      "\n",
      "Houston\n",
      "\tPaís: EUA\n",
      "\tPopulação: 2099451\n",
      "\tFatos: NASA\n",
      "\n",
      "Philadelphia\n",
      "\tPaís: EUA\n",
      "\tPopulação: 1526006\n",
      "\tFatos: streets\n",
      "\n"
     ]
    }
   ],
   "source": [
    "cities = {\n",
    "    'new york':{\n",
    "        'country':'EUA',\n",
    "        'population':8175133,\n",
    "        'facts':'Friends'\n",
    "    },\n",
    "    \n",
    "    'philadelphia':{\n",
    "        'country':'EUA',\n",
    "        'population':1526006,\n",
    "        'facts':'streets'\n",
    "    },\n",
    "    \n",
    "    'Houston':{\n",
    "        'country':'EUA',\n",
    "        'population':2099451,\n",
    "        'facts':'NASA'\n",
    "    },\n",
    "}\n",
    "\n",
    "for city, city_informations in cities.items():\n",
    "    print(city.title())\n",
    "    country = city_informations['country']\n",
    "    population = city_informations['population']\n",
    "    facts = city_informations['facts']\n",
    "    print(\"\\tPaís: \" + country)\n",
    "    print(\"\\tPopulação: \" + str(population))\n",
    "    print(\"\\tFatos: \" + facts + \"\\n\")"
   ]
  },
  {
   "cell_type": "markdown",
   "metadata": {},
   "source": [
    "### Exercício 6.12"
   ]
  },
  {
   "cell_type": "code",
   "execution_count": 6,
   "metadata": {},
   "outputs": [
    {
     "name": "stdout",
     "output_type": "stream",
     "text": [
      "\n",
      "mcurie\n",
      "Full name: Marie Curie\n",
      "Location: Paris/FRANCE\n",
      "\n",
      "nbohr\n",
      "Full name: Niels Bohr\n",
      "Location: Copenhagen/DENMARK\n",
      "\n",
      "lpauling\n",
      "Full name: Linus Pauling\n",
      "Location: Portland/UNITED STATES\n",
      "\n",
      "aeinstein\n",
      "Full name: Albert Einstein\n",
      "Location: Princeton/ENGLAND\n",
      "\n",
      "mfaraday\n",
      "Full name: Michael Faraday\n",
      "Location: Surey/ENGLAND\n"
     ]
    }
   ],
   "source": [
    "users = {\n",
    "    \n",
    "    'aeinstein': {\n",
    "        'first':'albert',\n",
    "        'last':'einstein',\n",
    "        'location':'princeton',\n",
    "        'country':'england',\n",
    "    },\n",
    "    \n",
    "    'mcurie':{\n",
    "        'first':'marie',\n",
    "        'last':'curie',\n",
    "        'location':'paris',\n",
    "        'country':'france',\n",
    "    },\n",
    "    \n",
    "    \n",
    "    'mfaraday':{\n",
    "        'first':'michael',\n",
    "        'last':'faraday',\n",
    "        'location':'surey',\n",
    "        'country':'england',\n",
    "    },\n",
    "    \n",
    "    \n",
    "    'lpauling':{\n",
    "        'first':'linus',\n",
    "        'last':'pauling',\n",
    "        'location':'portland',\n",
    "        'country':'united states',\n",
    "    },\n",
    "    \n",
    "    'nbohr':{\n",
    "        'first':'niels',\n",
    "        'last':'bohr',\n",
    "        'location':'copenhagen',\n",
    "        'country':'denmark',\n",
    "    },\n",
    "\n",
    "\n",
    "}\n",
    "\n",
    "for username, user_info in users.items():\n",
    "    print(\"\\n\" + username)\n",
    "    full_name = user_info['first'] + \" \" + user_info['last']\n",
    "    location = user_info['location']\n",
    "    country = user_info['country']\n",
    "    \n",
    "    print(\"Full name: \" + full_name.title())\n",
    "    print(\"Location: \" + location.title() + \"/\" + country.upper())\n",
    "    "
   ]
  },
  {
   "cell_type": "code",
   "execution_count": null,
   "metadata": {
    "collapsed": true
   },
   "outputs": [],
   "source": []
  }
 ],
 "metadata": {
  "kernelspec": {
   "display_name": "Python 3",
   "language": "python",
   "name": "python3"
  },
  "language_info": {
   "codemirror_mode": {
    "name": "ipython",
    "version": 2
   },
   "file_extension": ".py",
   "mimetype": "text/x-python",
   "name": "python",
   "nbconvert_exporter": "python",
   "pygments_lexer": "ipython2",
   "version": "2.7.13"
  }
 },
 "nbformat": 4,
 "nbformat_minor": 2
}
