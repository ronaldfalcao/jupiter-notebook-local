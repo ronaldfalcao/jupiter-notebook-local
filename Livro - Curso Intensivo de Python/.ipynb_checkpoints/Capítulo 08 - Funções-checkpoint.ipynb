{
 "cells": [
  {
   "cell_type": "code",
   "execution_count": 2,
   "metadata": {},
   "outputs": [
    {
     "name": "stdout",
     "output_type": "stream",
     "text": [
      "Hello!\n"
     ]
    }
   ],
   "source": [
    "#greeter.py\n",
    "\n",
    "def greet_user():\n",
    "    \"\"\"Função para exibir uma mensagem\"\"\"\n",
    "    print(\"Hello!\")\n",
    "    \n",
    "greet_user()"
   ]
  },
  {
   "cell_type": "code",
   "execution_count": 4,
   "metadata": {},
   "outputs": [
    {
     "name": "stdout",
     "output_type": "stream",
     "text": [
      "Hello Ronald!\n"
     ]
    }
   ],
   "source": [
    "# Função que recebe um parâmetro...\n",
    "def greet_user(userName):\n",
    "    \"\"\"Função para exibir uma mensagem\"\"\"\n",
    "    print(\"Hello \" + userName + \"!\")\n",
    "\n",
    "# Executamos a função passando um argumento...\n",
    "greet_user(\"Ronald\")\n",
    "    "
   ]
  },
  {
   "cell_type": "markdown",
   "metadata": {},
   "source": [
    "## Exercícios"
   ]
  },
  {
   "cell_type": "markdown",
   "metadata": {},
   "source": [
    "### Exercício 8.1"
   ]
  },
  {
   "cell_type": "code",
   "execution_count": 6,
   "metadata": {},
   "outputs": [
    {
     "name": "stdout",
     "output_type": "stream",
     "text": [
      "Estamos aprendendo sobre funções!\n"
     ]
    }
   ],
   "source": [
    "def display_message():\n",
    "    \"\"\"Exibindo uma mensagem para o exercício 8.1\"\"\"\n",
    "    print(\"Estamos aprendendo sobre funções!\")\n",
    "\n",
    "# Executando a função display_message()\n",
    "display_message()"
   ]
  },
  {
   "cell_type": "markdown",
   "metadata": {},
   "source": [
    "### Exercício 8.2"
   ]
  },
  {
   "cell_type": "code",
   "execution_count": 7,
   "metadata": {},
   "outputs": [
    {
     "name": "stdout",
     "output_type": "stream",
     "text": [
      "Um dos meus livros favoritos é Um copo de cólera!\n"
     ]
    }
   ],
   "source": [
    "def favorite_book(title):\n",
    "    \"\"\"Exibindo um título de um livro favorito passado como argumento\"\"\"\n",
    "    print(\"Um dos meus livros favoritos é \" + title + \"!\")\n",
    "    \n",
    "favorite_book(\"Um copo de cólera\")"
   ]
  },
  {
   "cell_type": "code",
   "execution_count": 9,
   "metadata": {},
   "outputs": [
    {
     "name": "stdout",
     "output_type": "stream",
     "text": [
      "\n",
      "I have a hamster.\n",
      "My hamster's is Harry.\n"
     ]
    }
   ],
   "source": [
    "# pets.py\n",
    "\n",
    "def describe_pet(animal_type, pet_name):\n",
    "    \"\"\"Exibe informações sobre um animal de estimação\"\"\"\n",
    "    print(\"\\nI have a \" + animal_type + \".\")\n",
    "    print(\"My \" + animal_type + \"'s is \" + pet_name.title() + \".\")\n",
    "    \n",
    "describe_pet(\"hamster\", \"harry\")"
   ]
  },
  {
   "cell_type": "code",
   "execution_count": 10,
   "metadata": {},
   "outputs": [
    {
     "name": "stdout",
     "output_type": "stream",
     "text": [
      "\n",
      "I have a hamster.\n",
      "My hamster's is Harry.\n",
      "\n",
      "I have a dog.\n",
      "My dog's is Willie.\n"
     ]
    }
   ],
   "source": [
    "def describe_pet(animal_type, pet_name):\n",
    "    \"\"\"Exibe informações sobre um animal de estimação\"\"\"\n",
    "    print(\"\\nI have a \" + animal_type + \".\")\n",
    "    print(\"My \" + animal_type + \"'s is \" + pet_name.title() + \".\")\n",
    "    \n",
    "describe_pet(\"hamster\", \"harry\")\n",
    "describe_pet(\"dog\", \"willie\")"
   ]
  },
  {
   "cell_type": "code",
   "execution_count": 11,
   "metadata": {},
   "outputs": [
    {
     "name": "stdout",
     "output_type": "stream",
     "text": [
      "\n",
      "I have a harry.\n",
      "My harry's is Hamster.\n"
     ]
    }
   ],
   "source": [
    "def describe_pet(animal_type, pet_name):\n",
    "    \"\"\"Exibe informações sobre um animal de estimação\"\"\"\n",
    "    print(\"\\nI have a \" + animal_type + \".\")\n",
    "    print(\"My \" + animal_type + \"'s is \" + pet_name.title() + \".\")\n",
    "    \n",
    "describe_pet(\"harry\", \"hamster\")"
   ]
  },
  {
   "cell_type": "code",
   "execution_count": 13,
   "metadata": {},
   "outputs": [
    {
     "name": "stdout",
     "output_type": "stream",
     "text": [
      "\n",
      "I have a hamster.\n",
      "My hamster's is Harry.\n"
     ]
    }
   ],
   "source": [
    "def describe_pet(animal_type, pet_name):\n",
    "    \"\"\"Exibe informações sobre um animal de estimação\"\"\"\n",
    "    print(\"\\nI have a \" + animal_type + \".\")\n",
    "    print(\"My \" + animal_type + \"'s is \" + pet_name.title() + \".\")\n",
    "    \n",
    "describe_pet(pet_name=\"harry\", animal_type=\"hamster\")"
   ]
  },
  {
   "cell_type": "code",
   "execution_count": 15,
   "metadata": {},
   "outputs": [
    {
     "name": "stdout",
     "output_type": "stream",
     "text": [
      "\n",
      "I have a dog.\n",
      "My dog's is Willie.\n"
     ]
    }
   ],
   "source": [
    "def describe_pet(pet_name, animal_type='dog'):\n",
    "    \"\"\"Exibe informações sobre um animal de estimação\"\"\"\n",
    "    print(\"\\nI have a \" + animal_type + \".\")\n",
    "    print(\"My \" + animal_type + \"'s is \" + pet_name.title() + \".\")\n",
    "    \n",
    "describe_pet(\"willie\")"
   ]
  },
  {
   "cell_type": "code",
   "execution_count": 16,
   "metadata": {},
   "outputs": [
    {
     "name": "stdout",
     "output_type": "stream",
     "text": [
      "\n",
      "I have a dog.\n",
      "My dog's is Willie.\n",
      "\n",
      "I have a hamster.\n",
      "My hamster's is Harry.\n"
     ]
    }
   ],
   "source": [
    "def describe_pet(pet_name, animal_type='dog'):\n",
    "    \"\"\"Exibe informações sobre um animal de estimação\"\"\"\n",
    "    print(\"\\nI have a \" + animal_type + \".\")\n",
    "    print(\"My \" + animal_type + \"'s is \" + pet_name.title() + \".\")\n",
    "    \n",
    "describe_pet(\"willie\")\n",
    "describe_pet(\"harry\", \"hamster\")"
   ]
  },
  {
   "cell_type": "code",
   "execution_count": 17,
   "metadata": {},
   "outputs": [
    {
     "ename": "TypeError",
     "evalue": "describe_pet() missing 1 required positional argument: 'animal_type'",
     "output_type": "error",
     "traceback": [
      "\u001b[0;31m---------------------------------------------------------------------------\u001b[0m",
      "\u001b[0;31mTypeError\u001b[0m                                 Traceback (most recent call last)",
      "\u001b[0;32m<ipython-input-17-1fc970c73ff8>\u001b[0m in \u001b[0;36m<module>\u001b[0;34m()\u001b[0m\n\u001b[1;32m      4\u001b[0m     \u001b[0mprint\u001b[0m\u001b[0;34m(\u001b[0m\u001b[0;34m\"My \"\u001b[0m \u001b[0;34m+\u001b[0m \u001b[0manimal_type\u001b[0m \u001b[0;34m+\u001b[0m \u001b[0;34m\"'s is \"\u001b[0m \u001b[0;34m+\u001b[0m \u001b[0mpet_name\u001b[0m\u001b[0;34m.\u001b[0m\u001b[0mtitle\u001b[0m\u001b[0;34m(\u001b[0m\u001b[0;34m)\u001b[0m \u001b[0;34m+\u001b[0m \u001b[0;34m\".\"\u001b[0m\u001b[0;34m)\u001b[0m\u001b[0;34m\u001b[0m\u001b[0m\n\u001b[1;32m      5\u001b[0m \u001b[0;34m\u001b[0m\u001b[0m\n\u001b[0;32m----> 6\u001b[0;31m \u001b[0mdescribe_pet\u001b[0m\u001b[0;34m(\u001b[0m\u001b[0;34m\"willie\"\u001b[0m\u001b[0;34m)\u001b[0m\u001b[0;34m\u001b[0m\u001b[0m\n\u001b[0m",
      "\u001b[0;31mTypeError\u001b[0m: describe_pet() missing 1 required positional argument: 'animal_type'"
     ]
    }
   ],
   "source": [
    "def describe_pet(pet_name, animal_type):\n",
    "    \"\"\"Exibe informações sobre um animal de estimação\"\"\"\n",
    "    print(\"\\nI have a \" + animal_type + \".\")\n",
    "    print(\"My \" + animal_type + \"'s is \" + pet_name.title() + \".\")\n",
    "    \n",
    "describe_pet(\"willie\")"
   ]
  },
  {
   "cell_type": "code",
   "execution_count": 18,
   "metadata": {},
   "outputs": [
    {
     "ename": "TypeError",
     "evalue": "describe_pet() takes 2 positional arguments but 3 were given",
     "output_type": "error",
     "traceback": [
      "\u001b[0;31m---------------------------------------------------------------------------\u001b[0m",
      "\u001b[0;31mTypeError\u001b[0m                                 Traceback (most recent call last)",
      "\u001b[0;32m<ipython-input-18-2acd491503df>\u001b[0m in \u001b[0;36m<module>\u001b[0;34m()\u001b[0m\n\u001b[1;32m      4\u001b[0m     \u001b[0mprint\u001b[0m\u001b[0;34m(\u001b[0m\u001b[0;34m\"My \"\u001b[0m \u001b[0;34m+\u001b[0m \u001b[0manimal_type\u001b[0m \u001b[0;34m+\u001b[0m \u001b[0;34m\"'s is \"\u001b[0m \u001b[0;34m+\u001b[0m \u001b[0mpet_name\u001b[0m\u001b[0;34m.\u001b[0m\u001b[0mtitle\u001b[0m\u001b[0;34m(\u001b[0m\u001b[0;34m)\u001b[0m \u001b[0;34m+\u001b[0m \u001b[0;34m\".\"\u001b[0m\u001b[0;34m)\u001b[0m\u001b[0;34m\u001b[0m\u001b[0m\n\u001b[1;32m      5\u001b[0m \u001b[0;34m\u001b[0m\u001b[0m\n\u001b[0;32m----> 6\u001b[0;31m \u001b[0mdescribe_pet\u001b[0m\u001b[0;34m(\u001b[0m\u001b[0;34m\"harry\"\u001b[0m\u001b[0;34m,\u001b[0m \u001b[0;34m\"hamster\"\u001b[0m\u001b[0;34m,\u001b[0m \u001b[0;36m2\u001b[0m\u001b[0;34m)\u001b[0m\u001b[0;34m\u001b[0m\u001b[0m\n\u001b[0m",
      "\u001b[0;31mTypeError\u001b[0m: describe_pet() takes 2 positional arguments but 3 were given"
     ]
    }
   ],
   "source": [
    "def describe_pet(pet_name, animal_type):\n",
    "    \"\"\"Exibe informações sobre um animal de estimação\"\"\"\n",
    "    print(\"\\nI have a \" + animal_type + \".\")\n",
    "    print(\"My \" + animal_type + \"'s is \" + pet_name.title() + \".\")\n",
    "    \n",
    "describe_pet(\"harry\", \"hamster\", 2)"
   ]
  },
  {
   "cell_type": "markdown",
   "metadata": {},
   "source": [
    "## Exercícios"
   ]
  },
  {
   "cell_type": "markdown",
   "metadata": {},
   "source": [
    "### Exercício 8.3"
   ]
  },
  {
   "cell_type": "code",
   "execution_count": 19,
   "metadata": {},
   "outputs": [
    {
     "name": "stdout",
     "output_type": "stream",
     "text": [
      "Foi escolhida a camiseta de tamanho M com a mensagem: I Love SP\n",
      "Foi escolhida a camiseta de tamanho GG com a mensagem: I Love NY\n"
     ]
    }
   ],
   "source": [
    "def make_shirt(tamanho, mensagem):\n",
    "    print(\"Foi escolhida a camiseta de tamanho \" + tamanho + \" com a mensagem: \" + mensagem)\n",
    "\n",
    "make_shirt(tamanho=\"M\", mensagem=\"I Love SP\")\n",
    "make_shirt(tamanho=\"GG\", mensagem=\"I Love NY\")"
   ]
  },
  {
   "cell_type": "markdown",
   "metadata": {},
   "source": [
    "### Exercício 8.4"
   ]
  },
  {
   "cell_type": "code",
   "execution_count": 21,
   "metadata": {},
   "outputs": [
    {
     "name": "stdout",
     "output_type": "stream",
     "text": [
      "Foi escolhida a camiseta de tamanho G com a mensagem: Eu amo Python\n",
      "Foi escolhida a camiseta de tamanho M com a mensagem: Eu amo Python\n",
      "Foi escolhida a camiseta de tamanho P com a mensagem: I Love SP\n"
     ]
    }
   ],
   "source": [
    "def make_shirt(tamanho=\"G\", mensagem=\"Eu amo Python\"):\n",
    "    print(\"Foi escolhida a camiseta de tamanho \" + tamanho + \" com a mensagem: \" + mensagem)\n",
    "    \n",
    "make_shirt(tamanho=\"G\")\n",
    "make_shirt(tamanho=\"M\")\n",
    "make_shirt(tamanho=\"P\", mensagem=\"I Love SP\")"
   ]
  },
  {
   "cell_type": "markdown",
   "metadata": {},
   "source": [
    "### Exercício 8.5"
   ]
  },
  {
   "cell_type": "code",
   "execution_count": 22,
   "metadata": {},
   "outputs": [
    {
     "name": "stdout",
     "output_type": "stream",
     "text": [
      "Montevidéu está localizada no URUGUAI\n",
      "Lima está localizada no PERU\n",
      "São Paulo está localizada no BRASIL\n"
     ]
    }
   ],
   "source": [
    "def describe_city(nomeCidade, nomePais=\"Brasil\"):\n",
    "    print(nomeCidade.title() + \" está localizada no \" + nomePais.upper())\n",
    "\n",
    "describe_city(\"montevidéu\", \"uruguai\")\n",
    "describe_city(\"lima\", \"peru\")\n",
    "describe_city(\"são paulo\")"
   ]
  },
  {
   "cell_type": "code",
   "execution_count": 23,
   "metadata": {},
   "outputs": [
    {
     "name": "stdout",
     "output_type": "stream",
     "text": [
      "Jimi Hendrix\n"
     ]
    }
   ],
   "source": [
    "def get_formatted_name(first_name, last_name):\n",
    "    \"\"\"Devolve um nome completo formatado de modo elegante.\"\"\"\n",
    "    full_name = first_name + \" \" + last_name\n",
    "    return full_name.title()\n",
    "\n",
    "musician = get_formatted_name(\"jimi\", \"hendrix\")\n",
    "print(musician)"
   ]
  },
  {
   "cell_type": "code",
   "execution_count": 24,
   "metadata": {},
   "outputs": [
    {
     "name": "stdout",
     "output_type": "stream",
     "text": [
      "John Lee Hooker\n"
     ]
    }
   ],
   "source": [
    "def get_formatted_name(first_name, middle_name, last_name):\n",
    "    \"\"\"Devolve um nome completo formatado de modo elegante.\"\"\"\n",
    "    full_name = first_name + \" \" + middle_name + \" \" + last_name\n",
    "    return full_name.title()\n",
    "\n",
    "musician = get_formatted_name('john', 'lee', 'hooker')\n",
    "print(musician)"
   ]
  },
  {
   "cell_type": "code",
   "execution_count": 27,
   "metadata": {},
   "outputs": [
    {
     "name": "stdout",
     "output_type": "stream",
     "text": [
      "Jimi Hendrix\n",
      "John Hooker Lee\n"
     ]
    }
   ],
   "source": [
    "def get_formatted_name(first_name, last_name, middle_name=''):\n",
    "    \"\"\"Devolve um nome completo formatado de modo elegante.\"\"\"\n",
    "    if middle_name:\n",
    "        full_name = first_name + \" \" + middle_name + \" \" + last_name\n",
    "    else:\n",
    "        full_name = first_name + \" \" + last_name\n",
    "    \n",
    "    return full_name.title()\n",
    "\n",
    "musician = get_formatted_name(\"jimi\", \"hendrix\")\n",
    "print(musician)\n",
    "\n",
    "# Como agora middle_name é opcional precisamos mudar a ordem dos argumentos...\n",
    "musician = get_formatted_name('john', 'hooker', 'lee')\n",
    "print(musician)"
   ]
  },
  {
   "cell_type": "code",
   "execution_count": 29,
   "metadata": {},
   "outputs": [
    {
     "name": "stdout",
     "output_type": "stream",
     "text": [
      "{'last': 'hendrix', 'first': 'jimi'}\n"
     ]
    }
   ],
   "source": [
    "#person.py\n",
    "\n",
    "def build_person(first_name, last_name):\n",
    "    \"\"\"Devolve um dicionário com informações sobre uma pessoa.\"\"\"\n",
    "    person = {'first':first_name, 'last':last_name}\n",
    "    return person\n",
    "\n",
    "# Executando um exemplo...\n",
    "musician = build_person('jimi', 'hendrix')\n",
    "print(musician)"
   ]
  },
  {
   "cell_type": "code",
   "execution_count": 30,
   "metadata": {},
   "outputs": [
    {
     "name": "stdout",
     "output_type": "stream",
     "text": [
      "{'last': 'hendrix', 'age': 27, 'first': 'jimi'}\n"
     ]
    }
   ],
   "source": [
    "def build_person(first_name, last_name, age=''):\n",
    "    \"\"\"Devolve um dicionário com informações sobre uma pessoa.\"\"\"\n",
    "    person = {'first':first_name, 'last':last_name}\n",
    "    if age:\n",
    "        person['age'] = age\n",
    "    return person\n",
    "\n",
    "# Executando um exemplo...\n",
    "musician = build_person('jimi', 'hendrix', age=27)\n",
    "print(musician)"
   ]
  },
  {
   "cell_type": "code",
   "execution_count": 31,
   "metadata": {},
   "outputs": [
    {
     "name": "stdout",
     "output_type": "stream",
     "text": [
      "\n",
      "Please tell me your name.\n",
      "First name: Ronald\n",
      "Last name: B Falcão\n",
      "\n",
      "Hello, Ronald B Falcão!\n",
      "\n",
      "Please tell me your name.\n",
      "First name: Kurt\n",
      "Last name: Cobain\n",
      "\n",
      "Hello, Kurt Cobain!\n",
      "\n",
      "Please tell me your name.\n",
      "First name: Jimi\n",
      "Last name: Hendrix\n",
      "\n",
      "Hello, Jimi Hendrix!\n",
      "\n",
      "Please tell me your name.\n",
      "First name: ian\n",
      "Last name: curtis\n",
      "\n",
      "Hello, Ian Curtis!\n",
      "\n",
      "Please tell me your name.\n"
     ]
    },
    {
     "ename": "KeyboardInterrupt",
     "evalue": "",
     "output_type": "error",
     "traceback": [
      "\u001b[0;31m---------------------------------------------------------------------------\u001b[0m",
      "\u001b[0;31mKeyboardInterrupt\u001b[0m                         Traceback (most recent call last)",
      "\u001b[0;32m/usr/local/lib/python3.5/dist-packages/ipykernel/kernelbase.py\u001b[0m in \u001b[0;36m_input_request\u001b[0;34m(self, prompt, ident, parent, password)\u001b[0m\n\u001b[1;32m    729\u001b[0m             \u001b[0;32mtry\u001b[0m\u001b[0;34m:\u001b[0m\u001b[0;34m\u001b[0m\u001b[0m\n\u001b[0;32m--> 730\u001b[0;31m                 \u001b[0mident\u001b[0m\u001b[0;34m,\u001b[0m \u001b[0mreply\u001b[0m \u001b[0;34m=\u001b[0m \u001b[0mself\u001b[0m\u001b[0;34m.\u001b[0m\u001b[0msession\u001b[0m\u001b[0;34m.\u001b[0m\u001b[0mrecv\u001b[0m\u001b[0;34m(\u001b[0m\u001b[0mself\u001b[0m\u001b[0;34m.\u001b[0m\u001b[0mstdin_socket\u001b[0m\u001b[0;34m,\u001b[0m \u001b[0;36m0\u001b[0m\u001b[0;34m)\u001b[0m\u001b[0;34m\u001b[0m\u001b[0m\n\u001b[0m\u001b[1;32m    731\u001b[0m             \u001b[0;32mexcept\u001b[0m \u001b[0mException\u001b[0m\u001b[0;34m:\u001b[0m\u001b[0;34m\u001b[0m\u001b[0m\n",
      "\u001b[0;32m/usr/local/lib/python3.5/dist-packages/jupyter_client/session.py\u001b[0m in \u001b[0;36mrecv\u001b[0;34m(self, socket, mode, content, copy)\u001b[0m\n\u001b[1;32m    795\u001b[0m         \u001b[0;32mtry\u001b[0m\u001b[0;34m:\u001b[0m\u001b[0;34m\u001b[0m\u001b[0m\n\u001b[0;32m--> 796\u001b[0;31m             \u001b[0mmsg_list\u001b[0m \u001b[0;34m=\u001b[0m \u001b[0msocket\u001b[0m\u001b[0;34m.\u001b[0m\u001b[0mrecv_multipart\u001b[0m\u001b[0;34m(\u001b[0m\u001b[0mmode\u001b[0m\u001b[0;34m,\u001b[0m \u001b[0mcopy\u001b[0m\u001b[0;34m=\u001b[0m\u001b[0mcopy\u001b[0m\u001b[0;34m)\u001b[0m\u001b[0;34m\u001b[0m\u001b[0m\n\u001b[0m\u001b[1;32m    797\u001b[0m         \u001b[0;32mexcept\u001b[0m \u001b[0mzmq\u001b[0m\u001b[0;34m.\u001b[0m\u001b[0mZMQError\u001b[0m \u001b[0;32mas\u001b[0m \u001b[0me\u001b[0m\u001b[0;34m:\u001b[0m\u001b[0;34m\u001b[0m\u001b[0m\n",
      "\u001b[0;32m/usr/local/lib/python3.5/dist-packages/zmq/sugar/socket.py\u001b[0m in \u001b[0;36mrecv_multipart\u001b[0;34m(self, flags, copy, track)\u001b[0m\n\u001b[1;32m    394\u001b[0m         \"\"\"\n\u001b[0;32m--> 395\u001b[0;31m         \u001b[0mparts\u001b[0m \u001b[0;34m=\u001b[0m \u001b[0;34m[\u001b[0m\u001b[0mself\u001b[0m\u001b[0;34m.\u001b[0m\u001b[0mrecv\u001b[0m\u001b[0;34m(\u001b[0m\u001b[0mflags\u001b[0m\u001b[0;34m,\u001b[0m \u001b[0mcopy\u001b[0m\u001b[0;34m=\u001b[0m\u001b[0mcopy\u001b[0m\u001b[0;34m,\u001b[0m \u001b[0mtrack\u001b[0m\u001b[0;34m=\u001b[0m\u001b[0mtrack\u001b[0m\u001b[0;34m)\u001b[0m\u001b[0;34m]\u001b[0m\u001b[0;34m\u001b[0m\u001b[0m\n\u001b[0m\u001b[1;32m    396\u001b[0m         \u001b[0;31m# have first part already, only loop while more to receive\u001b[0m\u001b[0;34m\u001b[0m\u001b[0;34m\u001b[0m\u001b[0m\n",
      "\u001b[0;32mzmq/backend/cython/socket.pyx\u001b[0m in \u001b[0;36mzmq.backend.cython.socket.Socket.recv (zmq/backend/cython/socket.c:7683)\u001b[0;34m()\u001b[0m\n",
      "\u001b[0;32mzmq/backend/cython/socket.pyx\u001b[0m in \u001b[0;36mzmq.backend.cython.socket.Socket.recv (zmq/backend/cython/socket.c:7460)\u001b[0;34m()\u001b[0m\n",
      "\u001b[0;32mzmq/backend/cython/socket.pyx\u001b[0m in \u001b[0;36mzmq.backend.cython.socket._recv_copy (zmq/backend/cython/socket.c:2344)\u001b[0;34m()\u001b[0m\n",
      "\u001b[0;32m/usr/local/lib/python3.5/dist-packages/zmq/backend/cython/checkrc.pxd\u001b[0m in \u001b[0;36mzmq.backend.cython.checkrc._check_rc (zmq/backend/cython/socket.c:9621)\u001b[0;34m()\u001b[0m\n",
      "\u001b[0;31mKeyboardInterrupt\u001b[0m: ",
      "\nDuring handling of the above exception, another exception occurred:\n",
      "\u001b[0;31mKeyboardInterrupt\u001b[0m                         Traceback (most recent call last)",
      "\u001b[0;32m<ipython-input-31-ff2723c12e24>\u001b[0m in \u001b[0;36m<module>\u001b[0;34m()\u001b[0m\n\u001b[1;32m      9\u001b[0m \u001b[0;32mwhile\u001b[0m \u001b[0;32mTrue\u001b[0m\u001b[0;34m:\u001b[0m\u001b[0;34m\u001b[0m\u001b[0m\n\u001b[1;32m     10\u001b[0m     \u001b[0mprint\u001b[0m\u001b[0;34m(\u001b[0m\u001b[0;34m\"\\nPlease tell me your name.\"\u001b[0m\u001b[0;34m)\u001b[0m\u001b[0;34m\u001b[0m\u001b[0m\n\u001b[0;32m---> 11\u001b[0;31m     \u001b[0mf_name\u001b[0m \u001b[0;34m=\u001b[0m \u001b[0minput\u001b[0m\u001b[0;34m(\u001b[0m\u001b[0;34m\"First name: \"\u001b[0m\u001b[0;34m)\u001b[0m\u001b[0;34m\u001b[0m\u001b[0m\n\u001b[0m\u001b[1;32m     12\u001b[0m     \u001b[0ml_name\u001b[0m \u001b[0;34m=\u001b[0m \u001b[0minput\u001b[0m\u001b[0;34m(\u001b[0m\u001b[0;34m\"Last name: \"\u001b[0m\u001b[0;34m)\u001b[0m\u001b[0;34m\u001b[0m\u001b[0m\n\u001b[1;32m     13\u001b[0m \u001b[0;34m\u001b[0m\u001b[0m\n",
      "\u001b[0;32m/usr/local/lib/python3.5/dist-packages/ipykernel/kernelbase.py\u001b[0m in \u001b[0;36mraw_input\u001b[0;34m(self, prompt)\u001b[0m\n\u001b[1;32m    703\u001b[0m             \u001b[0mself\u001b[0m\u001b[0;34m.\u001b[0m\u001b[0m_parent_ident\u001b[0m\u001b[0;34m,\u001b[0m\u001b[0;34m\u001b[0m\u001b[0m\n\u001b[1;32m    704\u001b[0m             \u001b[0mself\u001b[0m\u001b[0;34m.\u001b[0m\u001b[0m_parent_header\u001b[0m\u001b[0;34m,\u001b[0m\u001b[0;34m\u001b[0m\u001b[0m\n\u001b[0;32m--> 705\u001b[0;31m             \u001b[0mpassword\u001b[0m\u001b[0;34m=\u001b[0m\u001b[0;32mFalse\u001b[0m\u001b[0;34m,\u001b[0m\u001b[0;34m\u001b[0m\u001b[0m\n\u001b[0m\u001b[1;32m    706\u001b[0m         )\n\u001b[1;32m    707\u001b[0m \u001b[0;34m\u001b[0m\u001b[0m\n",
      "\u001b[0;32m/usr/local/lib/python3.5/dist-packages/ipykernel/kernelbase.py\u001b[0m in \u001b[0;36m_input_request\u001b[0;34m(self, prompt, ident, parent, password)\u001b[0m\n\u001b[1;32m    733\u001b[0m             \u001b[0;32mexcept\u001b[0m \u001b[0mKeyboardInterrupt\u001b[0m\u001b[0;34m:\u001b[0m\u001b[0;34m\u001b[0m\u001b[0m\n\u001b[1;32m    734\u001b[0m                 \u001b[0;31m# re-raise KeyboardInterrupt, to truncate traceback\u001b[0m\u001b[0;34m\u001b[0m\u001b[0;34m\u001b[0m\u001b[0m\n\u001b[0;32m--> 735\u001b[0;31m                 \u001b[0;32mraise\u001b[0m \u001b[0mKeyboardInterrupt\u001b[0m\u001b[0;34m\u001b[0m\u001b[0m\n\u001b[0m\u001b[1;32m    736\u001b[0m             \u001b[0;32melse\u001b[0m\u001b[0;34m:\u001b[0m\u001b[0;34m\u001b[0m\u001b[0m\n\u001b[1;32m    737\u001b[0m                 \u001b[0;32mbreak\u001b[0m\u001b[0;34m\u001b[0m\u001b[0m\n",
      "\u001b[0;31mKeyboardInterrupt\u001b[0m: "
     ]
    }
   ],
   "source": [
    "#greeter.py\n",
    "\n",
    "def get_formatted_name(first_name, last_name):\n",
    "    \"\"\"Devolve um nome completo formatado de modo elegante.\"\"\"\n",
    "    full_name = first_name + ' ' + last_name\n",
    "    return full_name.title()\n",
    "\n",
    "#loop infinito\n",
    "while True:\n",
    "    print(\"\\nPlease tell me your name.\")\n",
    "    f_name = input(\"First name: \")\n",
    "    l_name = input(\"Last name: \")\n",
    "    \n",
    "    formatted_name = get_formatted_name(f_name, l_name)\n",
    "    print(\"\\nHello, \" + formatted_name + \"!\")"
   ]
  },
  {
   "cell_type": "code",
   "execution_count": 32,
   "metadata": {},
   "outputs": [
    {
     "name": "stdout",
     "output_type": "stream",
     "text": [
      "\n",
      "Please tell me your name.\n",
      "(enter 'q' at any time to quit)\n",
      "First name: ronald\n",
      "Last name: falcão\n",
      "\n",
      "Hello, Ronald Falcão!\n",
      "\n",
      "Please tell me your name.\n",
      "(enter 'q' at any time to quit)\n",
      "First name: q\n"
     ]
    }
   ],
   "source": [
    "def get_formatted_name(first_name, last_name):\n",
    "    \"\"\"Devolve um nome completo formatado de modo elegante.\"\"\"\n",
    "    full_name = first_name + ' ' + last_name\n",
    "    return full_name.title()\n",
    "\n",
    "#loop infinito\n",
    "while True:\n",
    "    print(\"\\nPlease tell me your name.\")\n",
    "    print(\"(enter 'q' at any time to quit)\")\n",
    "    \n",
    "    # validando a entrada para first name...\n",
    "    f_name = input(\"First name: \")\n",
    "    if f_name == 'q':\n",
    "        break\n",
    "    \n",
    "    # validando a entrada para last name, caso o usuário preencha first name...\n",
    "    l_name = input(\"Last name: \")\n",
    "    if l_name == 'q':\n",
    "        break\n",
    "    \n",
    "    formatted_name = get_formatted_name(f_name, l_name)\n",
    "    print(\"\\nHello, \" + formatted_name + \"!\")"
   ]
  },
  {
   "cell_type": "markdown",
   "metadata": {},
   "source": [
    "## Exercícios"
   ]
  },
  {
   "cell_type": "markdown",
   "metadata": {},
   "source": [
    "### Exercício 8.6"
   ]
  },
  {
   "cell_type": "code",
   "execution_count": 34,
   "metadata": {},
   "outputs": [
    {
     "name": "stdout",
     "output_type": "stream",
     "text": [
      "São Paulo, Brasil\n",
      "Manchester, Inglaterra\n",
      "Campinas, Brasil\n"
     ]
    }
   ],
   "source": [
    "def city_country(city, country):\n",
    "    return city.title() + ', ' + country.title()\n",
    "\n",
    "print(city_country(\"são paulo\", \"brasil\"))\n",
    "print(city_country(\"manchester\", \"inglaterra\"))\n",
    "print(city_country(\"campinas\", \"brasil\"))"
   ]
  },
  {
   "cell_type": "markdown",
   "metadata": {},
   "source": [
    "### Exercício 8.7"
   ]
  },
  {
   "cell_type": "code",
   "execution_count": 38,
   "metadata": {},
   "outputs": [
    {
     "name": "stdout",
     "output_type": "stream",
     "text": [
      "{'album': 'Nevermind', 'artist': 'Nirvana'}\n",
      "{'album': 'Closer', 'artist': 'Joy Divison'}\n",
      "{'album': 'The Queen Is Dead', 'artist': 'The Smiths'}\n"
     ]
    }
   ],
   "source": [
    "def make_album(artist, album):\n",
    "    make_dic = {'artist':artist.title(), 'album':album.title()}\n",
    "    return make_dic\n",
    "\n",
    "album01 = make_album(\"nirvana\",\"nevermind\")\n",
    "print(album01)\n",
    "\n",
    "album02 = make_album(\"joy divison\",\"closer\")\n",
    "print(album02)\n",
    "\n",
    "album03 = make_album(\"the smiths\",\"the queen is dead\")\n",
    "print(album03)\n",
    "\n",
    "    "
   ]
  },
  {
   "cell_type": "code",
   "execution_count": 41,
   "metadata": {},
   "outputs": [
    {
     "name": "stdout",
     "output_type": "stream",
     "text": [
      "{'tracks': 12, 'album': 'Nevermind', 'artist': 'Nirvana'}\n",
      "{'tracks': 9, 'album': 'Closer', 'artist': 'Joy Divison'}\n",
      "{'album': 'The Queen Is Dead', 'artist': 'The Smiths'}\n"
     ]
    }
   ],
   "source": [
    "# Modificando a opção de número de faixas...\n",
    "\n",
    "def make_album(artist, album, tracks=\"\"):\n",
    "    if tracks:\n",
    "        make_dic = {'artist':artist.title(), 'album':album.title(), 'tracks':tracks}\n",
    "    else:\n",
    "        make_dic = {'artist':artist.title(), 'album':album.title()}\n",
    "        \n",
    "    return make_dic\n",
    "\n",
    "album01 = make_album(\"nirvana\",\"nevermind\",12)\n",
    "print(album01)\n",
    "\n",
    "album02 = make_album(\"joy divison\",\"closer\",9)\n",
    "print(album02)\n",
    "\n",
    "album03 = make_album(\"the smiths\",\"the queen is dead\")\n",
    "print(album03)"
   ]
  },
  {
   "cell_type": "markdown",
   "metadata": {},
   "source": [
    "### Exercício 8.8"
   ]
  },
  {
   "cell_type": "code",
   "execution_count": 46,
   "metadata": {},
   "outputs": [
    {
     "name": "stdout",
     "output_type": "stream",
     "text": [
      "Entre com o nome do artista (Digite 0 para finalizar): joy division\n",
      "Entre com o nome do album desse artista: closer\n",
      "{'album': 'Closer', 'artist': 'Joy Division'}\n",
      "\n",
      "\n",
      "Entre com o nome do artista (Digite 0 para finalizar): the smiths\n",
      "Entre com o nome do album desse artista: the queen is dead\n",
      "{'album': 'The Queen Is Dead', 'artist': 'The Smiths'}\n",
      "\n",
      "\n",
      "Entre com o nome do artista (Digite 0 para finalizar): the cure\n",
      "Entre com o nome do album desse artista: desintegration\n",
      "{'album': 'Desintegration', 'artist': 'The Cure'}\n",
      "\n",
      "\n",
      "Entre com o nome do artista (Digite 0 para finalizar): echo and the bunnymen\n",
      "Entre com o nome do album desse artista: ocean rain\n",
      "{'album': 'Ocean Rain', 'artist': 'Echo And The Bunnymen'}\n",
      "\n",
      "\n",
      "Entre com o nome do artista (Digite 0 para finalizar): new order\n",
      "Entre com o nome do album desse artista: technique\n",
      "{'album': 'Technique', 'artist': 'New Order'}\n",
      "\n",
      "\n",
      "Entre com o nome do artista (Digite 0 para finalizar): 0\n",
      "Obrigado por usar nosso sistema. Saindo...\n"
     ]
    }
   ],
   "source": [
    "def make_album(artist, album):\n",
    "    make_dic = {'artist':artist.title(), 'album':album.title()}    \n",
    "    return make_dic\n",
    "\n",
    "while True:\n",
    "    # Coloquei 0 como opção de saída para que a banda quit possa ser inserida também :-p\n",
    "    artist_user = input(\"Entre com o nome do artista (Digite 0 para finalizar): \")\n",
    "    \n",
    "    if artist_user != '0':\n",
    "        album_user = input(\"Entre com o nome do album desse artista: \")\n",
    "        dic_album = make_album(artist_user, album_user)\n",
    "        print(dic_album)\n",
    "        print(\"\\n\")\n",
    "    else:\n",
    "        print(\"Obrigado por usar nosso sistema. Saindo...\")\n",
    "        break"
   ]
  },
  {
   "cell_type": "code",
   "execution_count": 47,
   "metadata": {},
   "outputs": [
    {
     "name": "stdout",
     "output_type": "stream",
     "text": [
      "Hello, Hannah!\n",
      "Hello, Ty!\n",
      "Hello, Margot!\n"
     ]
    }
   ],
   "source": [
    "#greet_users.py\n",
    "\n",
    "def greet_users(names):\n",
    "    \"\"\"Exibe uma saudação simplesa cada usuário da lista\"\"\"\n",
    "    for name in names:\n",
    "        msg = \"Hello, \" + name.title() + \"!\"\n",
    "        print(msg)\n",
    "        \n",
    "usernames = ['hannah', 'ty', 'margot']\n",
    "greet_users(usernames)"
   ]
  },
  {
   "cell_type": "code",
   "execution_count": 48,
   "metadata": {},
   "outputs": [
    {
     "name": "stdout",
     "output_type": "stream",
     "text": [
      "Printing model: dodecahedron\n",
      "Printing model: robot pendant\n",
      "Printing model: iphone case\n",
      "\n",
      "The following models have been printed: \n",
      "dodecahedron\n",
      "robot pendant\n",
      "iphone case\n"
     ]
    }
   ],
   "source": [
    "#printing_models.py\n",
    "\n",
    "#Começa com alguns designs que devem ser impressos\n",
    "unprinted_designs = ['iphone case', 'robot pendant', 'dodecahedron']\n",
    "completed_models = []\n",
    "\n",
    "# Simula a impressão de cada design, até que não haja mais nenhum\n",
    "# Transfere cada design para completed_models após a impressão\n",
    "while unprinted_designs:\n",
    "    current_design = unprinted_designs.pop()\n",
    "    \n",
    "    # Simula a criação de uma impressão 3D a partir do design\n",
    "    print(\"Printing model: \" + current_design)\n",
    "    completed_models.append(current_design)\n",
    "    \n",
    "# Exibe todos os modelos finalizados\n",
    "print(\"\\nThe following models have been printed: \")\n",
    "for completed_model in completed_models:\n",
    "    print(completed_model)"
   ]
  },
  {
   "cell_type": "code",
   "execution_count": 49,
   "metadata": {},
   "outputs": [
    {
     "name": "stdout",
     "output_type": "stream",
     "text": [
      "Printing model: dodecahedron\n",
      "Printing model: robot pendant\n",
      "Printing model: iphone case\n",
      "\n",
      "The following models have been printed:\n",
      "dodecahedron\n",
      "robot pendant\n",
      "iphone case\n"
     ]
    }
   ],
   "source": [
    "def print_models(unprinted_designs, completed_models):\n",
    "    \"\"\"\n",
    "    Simula a impressão de cada design, até que não haja mais nenhum.\n",
    "    Transfere cada design para completed_models após a impressão.\n",
    "    \"\"\"\n",
    "    while unprinted_designs:\n",
    "        current_design = unprinted_designs.pop()\n",
    "    \n",
    "        # Simula a criação de uma impressora 3D a partir do design\n",
    "        print(\"Printing model: \" + current_design)\n",
    "        completed_models.append(current_design)\n",
    "        \n",
    "def show_completed_models(completed_models):\n",
    "    \"\"\"Mostra todos os modelos impressos\"\"\"\n",
    "    print(\"\\nThe following models have been printed:\")\n",
    "    for completed_model in completed_models:\n",
    "        print(completed_model)\n",
    "        \n",
    "# Executando um exemplo...\n",
    "unprinted_designs = ['iphone case', 'robot pendant', 'dodecahedron']\n",
    "completed_models = []\n",
    "\n",
    "print_models(unprinted_designs, completed_models)\n",
    "show_completed_models(completed_models)"
   ]
  },
  {
   "cell_type": "code",
   "execution_count": 51,
   "metadata": {},
   "outputs": [
    {
     "name": "stdout",
     "output_type": "stream",
     "text": [
      "Printing model: dodecahedron\n",
      "Printing model: robot pendant\n",
      "Printing model: iphone case\n",
      "\n",
      "The following models have been printed:\n",
      "dodecahedron\n",
      "robot pendant\n",
      "iphone case\n"
     ]
    }
   ],
   "source": [
    "# Enviando unprinted_designs como cópia...\n",
    "\n",
    "def print_models(unprinted_designs, completed_models):\n",
    "    \"\"\"\n",
    "    Simula a impressão de cada design, até que não haja mais nenhum.\n",
    "    Transfere cada design para completed_models após a impressão.\n",
    "    \"\"\"\n",
    "    while unprinted_designs:\n",
    "        current_design = unprinted_designs.pop()\n",
    "    \n",
    "        # Simula a criação de uma impressora 3D a partir do design\n",
    "        print(\"Printing model: \" + current_design)\n",
    "        completed_models.append(current_design)\n",
    "        \n",
    "def show_completed_models(completed_models):\n",
    "    \"\"\"Mostra todos os modelos impressos\"\"\"\n",
    "    print(\"\\nThe following models have been printed:\")\n",
    "    for completed_model in completed_models:\n",
    "        print(completed_model)\n",
    "        \n",
    "# Executando um exemplo...\n",
    "unprinted_designs = ['iphone case', 'robot pendant', 'dodecahedron']\n",
    "completed_models = []\n",
    "\n",
    "print_models(unprinted_designs[:], completed_models)\n",
    "show_completed_models(completed_models)"
   ]
  },
  {
   "cell_type": "markdown",
   "metadata": {
    "collapsed": true
   },
   "source": [
    "## Exercícios"
   ]
  },
  {
   "cell_type": "markdown",
   "metadata": {},
   "source": [
    "### Exercícios 8.9"
   ]
  },
  {
   "cell_type": "code",
   "execution_count": 1,
   "metadata": {},
   "outputs": [
    {
     "name": "stdout",
     "output_type": "stream",
     "text": [
      "Howard Thurston\n",
      "David Copperfield\n",
      "Lance Burton\n",
      "Harry Houdini\n",
      "David Blaine\n",
      "Dynamo\n"
     ]
    }
   ],
   "source": [
    "magicians = ['howard thurston', 'david copperfield', 'lance burton', 'harry houdini', 'david blaine', 'dynamo']\n",
    "\n",
    "def show_magicians(magicians):\n",
    "    for magician in magicians:\n",
    "        print(magician.title())\n",
    "        \n",
    "# Exemplo de uso da função\n",
    "show_magicians(magicians)"
   ]
  },
  {
   "cell_type": "markdown",
   "metadata": {},
   "source": [
    "## Exercício 8.10"
   ]
  },
  {
   "cell_type": "code",
   "execution_count": 8,
   "metadata": {},
   "outputs": [
    {
     "name": "stdout",
     "output_type": "stream",
     "text": [
      "\n",
      "Lista modificada\n",
      "O Grande Dynamo\n",
      "O Grande David Blaine\n",
      "O Grande Harry Houdini\n",
      "O Grande Lance Burton\n",
      "O Grande David Copperfield\n",
      "O Grande Howard Thurston\n",
      "\n",
      "Lista original\n"
     ]
    }
   ],
   "source": [
    "magicians = ['howard thurston', 'david copperfield', 'lance burton', 'harry houdini', 'david blaine', 'dynamo']\n",
    "change_magicians = []\n",
    "\n",
    "def show_magicians(magicians):\n",
    "    for magician in magicians:\n",
    "        print(magician.title())\n",
    "        \n",
    "def make_great(magicians, change_magicians):\n",
    "    while magicians:\n",
    "        change_magician = magicians.pop()\n",
    "        change_magicians.append(\"O Grande \" + change_magician.title())\n",
    "        \n",
    "# Exemplo de uso das funções\n",
    "make_great(magicians, change_magicians)\n",
    "print(\"\\nLista modificada\")\n",
    "show_magicians(change_magicians)\n",
    "print(\"\\nLista original\")\n",
    "show_magicians(magicians)"
   ]
  },
  {
   "cell_type": "markdown",
   "metadata": {},
   "source": [
    "### Exercício 8.11"
   ]
  },
  {
   "cell_type": "code",
   "execution_count": 10,
   "metadata": {},
   "outputs": [
    {
     "name": "stdout",
     "output_type": "stream",
     "text": [
      "\n",
      "Lista modificada\n",
      "O Grande Dynamo\n",
      "O Grande David Blaine\n",
      "O Grande Harry Houdini\n",
      "O Grande Lance Burton\n",
      "O Grande David Copperfield\n",
      "O Grande Howard Thurston\n",
      "\n",
      "Lista original\n",
      "Howard Thurston\n",
      "David Copperfield\n",
      "Lance Burton\n",
      "Harry Houdini\n",
      "David Blaine\n",
      "Dynamo\n"
     ]
    }
   ],
   "source": [
    "magicians = ['howard thurston', 'david copperfield', 'lance burton', 'harry houdini', 'david blaine', 'dynamo']\n",
    "change_magicians = []\n",
    "\n",
    "def show_magicians(magicians):\n",
    "    for magician in magicians:\n",
    "        print(magician.title())\n",
    "        \n",
    "def make_great(magicians, change_magicians):\n",
    "    while magicians:\n",
    "        change_magician = magicians.pop()\n",
    "        change_magicians.append(\"O Grande \" + change_magician.title())\n",
    "        \n",
    "# Exemplo de uso das funções\n",
    "make_great(magicians[:], change_magicians)\n",
    "print(\"\\nLista modificada\")\n",
    "show_magicians(change_magicians)\n",
    "print(\"\\nLista original\")\n",
    "show_magicians(magicians)"
   ]
  },
  {
   "cell_type": "code",
   "execution_count": 11,
   "metadata": {},
   "outputs": [
    {
     "name": "stdout",
     "output_type": "stream",
     "text": [
      "('peperoni',)\n",
      "('mushrooms', 'green peppers', 'extra cheese')\n"
     ]
    }
   ],
   "source": [
    "#pizza.py\n",
    "# Passando um número arbitrário de parâmetros para uma função\n",
    "def make_pizza(*toppings):\n",
    "    \"\"\"Exibe a lista de ingredientes pedidos.\"\"\"\n",
    "    print(toppings)\n",
    "    \n",
    "make_pizza('peperoni')\n",
    "make_pizza('mushrooms', 'green peppers', 'extra cheese')"
   ]
  },
  {
   "cell_type": "code",
   "execution_count": 13,
   "metadata": {},
   "outputs": [
    {
     "name": "stdout",
     "output_type": "stream",
     "text": [
      "\n",
      "Making a pizza with the following toppings: \n",
      " - peperoni\n",
      "\n",
      "Making a pizza with the following toppings: \n",
      " - mushrooms\n",
      " - green peppers\n",
      " - extra cheese\n"
     ]
    }
   ],
   "source": [
    "def make_pizza(*toppings):\n",
    "    \"\"\"Apresenta a pizza que estamos prestes a preparar.\"\"\"\n",
    "    print(\"\\nMaking a pizza with the following toppings: \")\n",
    "    for topping in toppings:\n",
    "        print(\" - \" + topping)\n",
    "\n",
    "# Exemplos de execução da função...        \n",
    "make_pizza('peperoni')\n",
    "make_pizza('mushrooms', 'green peppers', 'extra cheese')"
   ]
  },
  {
   "cell_type": "code",
   "execution_count": 14,
   "metadata": {},
   "outputs": [
    {
     "name": "stdout",
     "output_type": "stream",
     "text": [
      "\n",
      "Making a 8-inch pizza with the following toppings:\n",
      "- peperoni\n",
      "\n",
      "Making a 12-inch pizza with the following toppings:\n",
      "- mushrooms\n",
      "- green peppers\n",
      "- extra cheese\n"
     ]
    }
   ],
   "source": [
    "def make_pizza(size, *toppings):\n",
    "    \"\"\"Apresenta a pizza que estamos prestes a preparar.\"\"\"\n",
    "    print(\"\\nMaking a \" + str(size) + \"-inch pizza with the following toppings:\")\n",
    "    for topping in toppings:\n",
    "        print(\"- \" + topping)\n",
    "        \n",
    "# Exemplos da execução da função...\n",
    "make_pizza(8, 'peperoni')\n",
    "make_pizza(12, 'mushrooms', 'green peppers', 'extra cheese')"
   ]
  },
  {
   "cell_type": "code",
   "execution_count": 16,
   "metadata": {},
   "outputs": [
    {
     "name": "stdout",
     "output_type": "stream",
     "text": [
      "{'last_name': 'einstein', 'field': 'physiscs', 'location': 'princeton', 'first_name': 'albert'}\n"
     ]
    }
   ],
   "source": [
    "#user_profile.py\n",
    "\n",
    "def build_profile(first, last, **user_info):\n",
    "    \"\"\"Constrói um dicionário contendo tudo que sabemos sobre um usuário.\"\"\"\n",
    "    profile = {}\n",
    "    profile['first_name'] = first\n",
    "    profile['last_name'] = last\n",
    "    for key, value in user_info.items():\n",
    "        profile[key] = value\n",
    "    return profile\n",
    "\n",
    "# Executando um exemplo da função...\n",
    "user_profile = build_profile('albert', 'einstein', location='princeton', field='physiscs')\n",
    "print(user_profile)"
   ]
  },
  {
   "cell_type": "markdown",
   "metadata": {
    "collapsed": true
   },
   "source": [
    "## Exercícios"
   ]
  },
  {
   "cell_type": "markdown",
   "metadata": {},
   "source": [
    "### Exercício 8.12"
   ]
  },
  {
   "cell_type": "code",
   "execution_count": 7,
   "metadata": {},
   "outputs": [
    {
     "name": "stdout",
     "output_type": "stream",
     "text": [
      "Resumo do seu sanduíche:\n",
      " - Acrescentado peperoni.\n",
      " - Acrescentado picles de pepino.\n",
      " - Acrescentado mostrada escura.\n",
      "Finalizado o pedido!\n",
      "\n",
      "Resumo do seu sanduíche:\n",
      " - Acrescentado queijo extra.\n",
      " - Acrescentado cebola roxa.\n",
      "Finalizado o pedido!\n",
      "\n",
      "Resumo do seu sanduíche:\n",
      " - Acrescentado cebola caramelizada.\n",
      "Finalizado o pedido!\n",
      "\n"
     ]
    }
   ],
   "source": [
    "def make_sandwich(*toppings):\n",
    "    print(\"Resumo do seu sanduíche:\")\n",
    "    for topping in toppings:\n",
    "        print(\" - Acrescentado \" + topping + \".\")\n",
    "    print(\"Finalizado o pedido!\\n\")\n",
    "\n",
    "# Exemplos de uso da função...    \n",
    "make_sandwich(\"peperoni\", \"picles de pepino\", \"mostrada escura\")\n",
    "make_sandwich(\"queijo extra\", \"cebola roxa\")\n",
    "make_sandwich(\"cebola caramelizada\")"
   ]
  },
  {
   "cell_type": "markdown",
   "metadata": {},
   "source": [
    "### Exercício 8.13"
   ]
  },
  {
   "cell_type": "code",
   "execution_count": 9,
   "metadata": {},
   "outputs": [
    {
     "name": "stdout",
     "output_type": "stream",
     "text": [
      "{'first_name': 'ronald', 'location': 'campinas', 'field': 'product owner', 'hobby': 'books', 'last_name': 'bolsoni Falcão'}\n"
     ]
    }
   ],
   "source": [
    "def build_profile(first, last, **user_info):\n",
    "    \"\"\"Constrói um dicionário contendo tudo que sabemos sobre um usuário.\"\"\"\n",
    "    profile = {}\n",
    "    profile['first_name'] = first\n",
    "    profile['last_name'] = last\n",
    "    for key, value in user_info.items():\n",
    "        profile[key] = value\n",
    "    return profile\n",
    "\n",
    "# Executando um exemplo da função...\n",
    "user_profile = build_profile('ronald', 'bolsoni Falcão', location='campinas', field='product owner', hobby='books')\n",
    "print(user_profile)"
   ]
  },
  {
   "cell_type": "markdown",
   "metadata": {},
   "source": [
    "### Exercícios 8.14"
   ]
  },
  {
   "cell_type": "code",
   "execution_count": 13,
   "metadata": {},
   "outputs": [
    {
     "name": "stdout",
     "output_type": "stream",
     "text": [
      "{'flex': 'No', 'cor': 'Prata', 'manufacturer': 'Chevrolet', 'motor': '1.6', 'model': 'Corsa'}\n",
      "{'cor': 'Prata', 'manufacturer': 'Hyunday', 'motor': '1.0', 'model': 'HB20'}\n",
      "{'cor': 'Branco', 'model': 'Gol', 'flex': 'No', 'manufacturer': 'Volkswagem', 'motor': '1.6', 'ano': '2017', 'cambio': 'automático'}\n"
     ]
    }
   ],
   "source": [
    "def describe_car(manufacturer, model, **characteristics):\n",
    "    car = {}\n",
    "    car['manufacturer'] = manufacturer\n",
    "    car['model'] = model\n",
    "    \n",
    "    for key, value in characteristics.items():\n",
    "        car[key] = value\n",
    "    \n",
    "    return car\n",
    "\n",
    "# Exemplos de uso das funções\n",
    "carro01 = describe_car('Chevrolet', 'Corsa', cor='Prata', motor='1.6', flex='No')\n",
    "print(carro01)\n",
    "carro02 = describe_car('Hyunday', 'HB20', cor='Prata', motor='1.0')\n",
    "print(carro02)\n",
    "carro03 = describe_car('Volkswagem', 'Gol', cor='Branco', motor='1.6', flex='No', cambio='automático', ano='2017')\n",
    "print(carro03)"
   ]
  },
  {
   "cell_type": "markdown",
   "metadata": {},
   "source": [
    "## Exercícios"
   ]
  },
  {
   "cell_type": "code",
   "execution_count": 14,
   "metadata": {
    "collapsed": true
   },
   "outputs": [],
   "source": [
    "# Exercícios na pasta /Capítulo 08 - Módulos/"
   ]
  },
  {
   "cell_type": "code",
   "execution_count": null,
   "metadata": {
    "collapsed": true
   },
   "outputs": [],
   "source": []
  }
 ],
 "metadata": {
  "kernelspec": {
   "display_name": "Python 3",
   "language": "python",
   "name": "python3"
  },
  "language_info": {
   "codemirror_mode": {
    "name": "ipython",
    "version": 3
   },
   "file_extension": ".py",
   "mimetype": "text/x-python",
   "name": "python",
   "nbconvert_exporter": "python",
   "pygments_lexer": "ipython3",
   "version": "3.5.3"
  }
 },
 "nbformat": 4,
 "nbformat_minor": 2
}
