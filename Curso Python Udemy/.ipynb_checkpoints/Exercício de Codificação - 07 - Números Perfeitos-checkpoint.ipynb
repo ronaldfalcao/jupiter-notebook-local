{
 "cells": [
  {
   "cell_type": "markdown",
   "metadata": {},
   "source": [
    "<h1>Número perfeito</h1>\n",
    "\n",
    "Gosta de matemática?? Vamos lá!!\n",
    "\n",
    "Um número perfeito é um número inteiro para o qual a soma de todos os seus divisores positivos (excluindo o próprio número) é igual a ele.\n",
    "\n",
    "<b>Exemplo:</b> \n",
    "28 é um número perfeito, pois seus divisores são 1, 2, 4, 7, 14. 1 + 2 + 4 + 7 + 14 = 28, portanto, 28 é um número perfeito!\n",
    "\n",
    "Desenvolva a função <i>numero_perfeito</i> que receberá como entrada um número e retornará <i>True</i> se ele for perfeito e <i>False</i> caso contrário."
   ]
  },
  {
   "cell_type": "code",
   "execution_count": 2,
   "metadata": {},
   "outputs": [],
   "source": [
    "# Exemplos de Números Perfeitos {6;28;496;8.128;33.550.336;8.589.869.056;...}\n",
    "\n",
    "#Função para fazer a soma de todos os divisores de um número,\n",
    "#exceto ele mesmo.\n",
    "def somaDivisores(dividendo):\n",
    "    \n",
    "    soma = 0\n",
    "    divisor = 1 #divisor comum a todos os inteiros...\n",
    "    \n",
    "    while dividendo > divisor:\n",
    "        if (dividendo % divisor == 0):\n",
    "            #lista os divisores de um número...\n",
    "            #print (divisor)\n",
    "            soma += divisor\n",
    "        divisor += 1\n",
    "    return soma\n",
    "\n",
    "#Função que retorna se um número é perfeito (True) ou não (False)\n",
    "def isNumeroPerfeito(numero):\n",
    "    if (somaDivisores(numero) == numero):\n",
    "        return True\n",
    "    else:\n",
    "        return False"
   ]
  },
  {
   "cell_type": "markdown",
   "metadata": {
    "collapsed": true
   },
   "source": [
    "<h2>Exemplo</h2>"
   ]
  },
  {
   "cell_type": "code",
   "execution_count": 3,
   "metadata": {},
   "outputs": [
    {
     "name": "stdout",
     "output_type": "stream",
     "text": [
      "True\n"
     ]
    }
   ],
   "source": [
    "print (isNumeroPerfeito(496))"
   ]
  },
  {
   "cell_type": "code",
   "execution_count": null,
   "metadata": {
    "collapsed": true
   },
   "outputs": [],
   "source": []
  }
 ],
 "metadata": {
  "kernelspec": {
   "display_name": "Python 3",
   "language": "python",
   "name": "python3"
  },
  "language_info": {
   "codemirror_mode": {
    "name": "ipython",
    "version": 3
   },
   "file_extension": ".py",
   "mimetype": "text/x-python",
   "name": "python",
   "nbconvert_exporter": "python",
   "pygments_lexer": "ipython3",
   "version": "3.5.3"
  }
 },
 "nbformat": 4,
 "nbformat_minor": 2
}
