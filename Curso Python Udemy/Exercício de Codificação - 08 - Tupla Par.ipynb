{
 "cells": [
  {
   "cell_type": "markdown",
   "metadata": {},
   "source": [
    "<h1>Tupla Par</h1>\n",
    "\n",
    "Vamos resolver um exercício que envolve tuplas? Você deverá desenvolver uma função chamada <i>tupla_par</i>. \n",
    "Essa função recebe uma tupla como entrada e retorna uma nova tupla como saída onde os elementos dessa nova \n",
    "tupla são os elementos cujos índices são números pares. Lembrando que o Python indexa a partir do zero.\n",
    "\n",
    "<b>Exemplo de tupla de entrada:</b> ('oi', 'estou', 'estudando', 'poo')<br/>\n",
    "<b>Tupla que deve ser retornada:</b> ('oi', 'estudando')"
   ]
  },
  {
   "cell_type": "code",
   "execution_count": 22,
   "metadata": {},
   "outputs": [],
   "source": [
    "\n",
    "def tupla_par (tupla):\n",
    "    tuplaSaida = ()\n",
    "    for valor in range(0,len(tupla),2):\n",
    "        tuplaSaida += ((tupla[valor]),)\n",
    "    return tuplaSaida"
   ]
  },
  {
   "cell_type": "markdown",
   "metadata": {},
   "source": [
    "<h2>Exemplo</h2>"
   ]
  },
  {
   "cell_type": "code",
   "execution_count": 23,
   "metadata": {},
   "outputs": [
    {
     "data": {
      "text/plain": [
       "('oi', 'estudando')"
      ]
     },
     "execution_count": 23,
     "metadata": {},
     "output_type": "execute_result"
    }
   ],
   "source": [
    "tupla = (\"oi\", \"estou\", \"estudando\", \"poo\")\n",
    "tupla_par(tupla)"
   ]
  },
  {
   "cell_type": "code",
   "execution_count": null,
   "metadata": {
    "collapsed": true
   },
   "outputs": [],
   "source": []
  }
 ],
 "metadata": {
  "kernelspec": {
   "display_name": "Python 3",
   "language": "python",
   "name": "python3"
  },
  "language_info": {
   "codemirror_mode": {
    "name": "ipython",
    "version": 3
   },
   "file_extension": ".py",
   "mimetype": "text/x-python",
   "name": "python",
   "nbconvert_exporter": "python",
   "pygments_lexer": "ipython3",
   "version": "3.5.3"
  }
 },
 "nbformat": 4,
 "nbformat_minor": 2
}
