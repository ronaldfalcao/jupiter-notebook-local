{
 "cells": [
  {
   "cell_type": "markdown",
   "metadata": {},
   "source": [
    "<h1>A mais longa substring em ordem alfabética</h1>\n",
    "\n",
    "Esse problema é um pouquinho mais difícil, mas não se preocupe, você conseguirá resolvê-lo!\n",
    "\n",
    "Você desenvolverá uma função chamada <i>obter_mais_longa_substring</i> onde receberá como entrada uma \n",
    "string e você terá que retornar a mais longa substring em ordem alfabética.\n",
    "\n",
    "<b>Exemplo de entrada: </b>azcbobobegghakl<br/>\n",
    "<b>Exemplo de saída: </b>beggh\n",
    "\n",
    "Lembrando que substring é uma sequência de caracteres contíguos (adjacente) de uma string.\n",
    "\n",
    "Por exemplo, se eu tenho a string <i>python</i>, a string <i>pto</i> NÃO é substring porque não são caracteres contíguos. Já a string <i>tho</i> é uma substring de <i>python</i>.\n",
    "\n",
    "O que nós queremos é a mais longa substring em ordem alfabética. Você tem que desenvolver uma forma de saber \n",
    "a mais longa substring e ela tem que está em ordem alfabética. Vamos lá!!"
   ]
  },
  {
   "cell_type": "code",
   "execution_count": 28,
   "metadata": {
    "collapsed": true
   },
   "outputs": [],
   "source": [
    "def obter_mais_longa_substring(s):\n",
    "    \n",
    "    string = \"\"\n",
    "    \n",
    "    for contador in range(0,len(s) - 1, 1):\n",
    "            if (len(s) > 1):\n",
    "                string += s[contador]\n",
    "                print (string)"
   ]
  },
  {
   "cell_type": "markdown",
   "metadata": {
    "collapsed": true
   },
   "source": [
    "<h2>Exemplo</h2>"
   ]
  },
  {
   "cell_type": "code",
   "execution_count": 29,
   "metadata": {},
   "outputs": [
    {
     "name": "stdout",
     "output_type": "stream",
     "text": [
      "a\n",
      "az\n",
      "azc\n",
      "azcb\n",
      "azcbo\n",
      "azcbob\n",
      "azcbobo\n",
      "azcbobob\n",
      "azcbobobe\n",
      "azcbobobeg\n",
      "azcbobobegg\n",
      "azcbobobeggh\n",
      "azcbobobeggha\n",
      "azcbobobegghak\n"
     ]
    }
   ],
   "source": [
    "str = \"azcbobobegghakl\"\n",
    "obter_mais_longa_substring(str)"
   ]
  },
  {
   "cell_type": "code",
   "execution_count": null,
   "metadata": {
    "collapsed": true
   },
   "outputs": [],
   "source": []
  }
 ],
 "metadata": {
  "kernelspec": {
   "display_name": "Python 3",
   "language": "python",
   "name": "python3"
  },
  "language_info": {
   "codemirror_mode": {
    "name": "ipython",
    "version": 3
   },
   "file_extension": ".py",
   "mimetype": "text/x-python",
   "name": "python",
   "nbconvert_exporter": "python",
   "pygments_lexer": "ipython3",
   "version": "3.5.3"
  }
 },
 "nbformat": 4,
 "nbformat_minor": 2
}
